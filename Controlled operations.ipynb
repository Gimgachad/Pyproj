{
 "cells": [
  {
   "cell_type": "code",
   "execution_count": 3,
   "id": "a51141d8-15af-410d-96ef-2b6f9ddbb85c",
   "metadata": {},
   "outputs": [
    {
     "name": "stdout",
     "output_type": "stream",
     "text": [
      "apple comes before mango in the dictionary \n"
     ]
    }
   ],
   "source": [
    "fruit1=input('Please enter the name of first fruit:\\n')\n",
    "fruit2=input('Please enter the name of second fruit:\\n')\n",
    "if fruit1<fruit2:\n",
    "    print(fruit1+ \" comes before \"+ fruit2 + \" in the dictionary \")\n",
    "elif fruit1>fruit2:\n",
    "    print(fruit1 + \" comes after \" + fruit2 + \" in the dictionary \")\n",
    "else:\n",
    "    print(fruit1 + \" and \" + fruit2 + \" are same.\")"
   ]
  },
  {
   "cell_type": "code",
   "execution_count": 4,
   "id": "c9ba56bf",
   "metadata": {},
   "outputs": [
    {
     "name": "stdout",
     "output_type": "stream",
     "text": [
      "Quadratic function: (a*x^2) + (b*x) + c\n",
      "No roots, discriminant < 0.\n"
     ]
    }
   ],
   "source": [
    "from math import sqrt\n",
    "print(\"Quadratic function: (a*x^2) + (b*x) + c\")\n",
    "a=float(input(\"a: \"))\n",
    "b=float(input(\"b: \"))\n",
    "c=float(input(\"c: \"))\n",
    "disc = b**2 - 4*a*c \n",
    "if disc > 0: \n",
    "    # num_roots = 2 \n",
    "    x1 = (((-b) + sqrt(disc))/(2*a)) \n",
    "    x2 = (((-b) - sqrt(disc))/(2*a)) \n",
    "    print(\"There are 2 roots: %f and %f\" % (x1, x2))\n",
    "elif disc == 0: \n",
    "# num_roots = 1 \n",
    "    x = (-b) / 2*a \n",
    "    print (\"There is one root: \",x) \n",
    "else: \n",
    "    # num_roots = ¢ \n",
    "    print (\"No roots, discriminant < 0.\")"
   ]
  },
  {
   "cell_type": "code",
   "execution_count": 5,
   "id": "9c41e541",
   "metadata": {},
   "outputs": [
    {
     "name": "stdout",
     "output_type": "stream",
     "text": [
      "4950\n",
      "4950\n"
     ]
    }
   ],
   "source": [
    "# Sum of a set of numbers in a list and its verification\n",
    "r= range(1,100)\n",
    "print(sum(r))\n",
    "total=0\n",
    "for i in r:\n",
    "    total += i\n",
    "print(total)"
   ]
  },
  {
   "cell_type": "code",
   "execution_count": 6,
   "id": "6a97abde",
   "metadata": {},
   "outputs": [
    {
     "name": "stdout",
     "output_type": "stream",
     "text": [
      "SUM of first 500 numbers is: 125250\n"
     ]
    }
   ],
   "source": [
    "#Sum of a range of numbers\n",
    "n = int(input(\"Enter Number to calculate sum: \")) \n",
    "average = 0 \n",
    "sum = 0 \n",
    "for num in range(0,n+1,1):\n",
    "    sum = sum+num \n",
    "print ('SUM of first', n, 'numbers is:', sum ) "
   ]
  },
  {
   "cell_type": "code",
   "execution_count": 8,
   "id": "50819908",
   "metadata": {},
   "outputs": [
    {
     "name": "stdout",
     "output_type": "stream",
     "text": [
      "Maximum element in the list is : 65 \n",
      "Minimum element in the list is : 2\n"
     ]
    }
   ],
   "source": [
    "lst = [] \n",
    "num = int(input('How many numbers: M'))\n",
    "for n in range(num): \n",
    "    numbers = int(input('Enter number ')) \n",
    "    lst.append(numbers)\n",
    "print(\"Maximum element in the list is :\", max(lst),\"\\nMinimum element in the list is :\", min(lst)) "
   ]
  },
  {
   "cell_type": "code",
   "execution_count": 1,
   "id": "ab64ef4f",
   "metadata": {},
   "outputs": [
    {
     "name": "stdout",
     "output_type": "stream",
     "text": [
      "0\n",
      "\n",
      "4\n",
      "\n",
      "8\n",
      "\n",
      "12\n",
      "\n",
      "16\n",
      "\n"
     ]
    }
   ],
   "source": [
    "#Controlled demo using WHILE\n",
    "count=0\n",
    "while count<20:\n",
    "    print(count)\n",
    "    count+=4\n",
    "    print()"
   ]
  },
  {
   "cell_type": "code",
   "execution_count": null,
   "id": "2a7ee9d5",
   "metadata": {},
   "outputs": [],
   "source": []
  }
 ],
 "metadata": {
  "kernelspec": {
   "display_name": "Python 3 (ipykernel)",
   "language": "python",
   "name": "python3"
  },
  "language_info": {
   "codemirror_mode": {
    "name": "ipython",
    "version": 3
   },
   "file_extension": ".py",
   "mimetype": "text/x-python",
   "name": "python",
   "nbconvert_exporter": "python",
   "pygments_lexer": "ipython3",
   "version": "3.12.1"
  }
 },
 "nbformat": 4,
 "nbformat_minor": 5
}
