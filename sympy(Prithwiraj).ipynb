{
 "cells": [
  {
   "cell_type": "markdown",
   "metadata": {},
   "source": [
    "# 7.1 Introduction"
   ]
  },
  {
   "cell_type": "markdown",
   "metadata": {},
   "source": [
    "## 7.1.1 Basic Algebraic Manipulation"
   ]
  },
  {
   "cell_type": "code",
   "execution_count": 9,
   "metadata": {},
   "outputs": [],
   "source": [
    "from sympy import *"
   ]
  },
  {
   "cell_type": "code",
   "execution_count": 10,
   "metadata": {},
   "outputs": [
    {
     "data": {
      "text/latex": [
       "$\\displaystyle x^{3} + 3 x^{2} y - 3 x^{2} z + 3 x y^{2} - 6 x y z + 3 x z^{2} + y^{3} - 3 y^{2} z + 3 y z^{2} - z^{3}$"
      ],
      "text/plain": [
       "x**3 + 3*x**2*y - 3*x**2*z + 3*x*y**2 - 6*x*y*z + 3*x*z**2 + y**3 - 3*y**2*z + 3*y*z**2 - z**3"
      ]
     },
     "metadata": {},
     "output_type": "display_data"
    },
    {
     "data": {
      "text/latex": [
       "$\\displaystyle x^{3} + 3 x^{2} y - 3 x^{2} z + 3 x y^{2} - 6 x y z + 3 x z^{2} + y^{3} - 3 y^{2} z + 3 y z^{2} - z^{3}$"
      ],
      "text/plain": [
       "x**3 + 3*x**2*y - 3*x**2*z + 3*x*y**2 - 6*x*y*z + 3*x*z**2 + y**3 - 3*y**2*z + 3*y*z**2 - z**3"
      ]
     },
     "metadata": {},
     "output_type": "display_data"
    }
   ],
   "source": [
    "#Algebraic Expansion\n",
    "x, y, z= symbols ('x y z') \n",
    "expr=expand ((x+y-z)**3) \n",
    "display (expr)\n",
    "display(expr)"
   ]
  },
  {
   "cell_type": "code",
   "execution_count": 11,
   "metadata": {},
   "outputs": [
    {
     "data": {
      "text/plain": [
       "'Simplification yields: '"
      ]
     },
     "metadata": {},
     "output_type": "display_data"
    },
    {
     "data": {
      "text/latex": [
       "$\\displaystyle \\frac{2}{3 \\left(x - 1\\right)}$"
      ],
      "text/plain": [
       "2/(3*(x - 1))"
      ]
     },
     "metadata": {},
     "output_type": "display_data"
    }
   ],
   "source": [
    "#Simplification of algebraic expression\n",
    "expr1=(2/(x**2 -1))/(3/(x+1))\n",
    "display(\"Simplification yields: \", simplify(expr1))"
   ]
  },
  {
   "cell_type": "code",
   "execution_count": 12,
   "metadata": {},
   "outputs": [
    {
     "data": {
      "text/plain": [
       "\"Result after using 'apart':\""
      ]
     },
     "metadata": {},
     "output_type": "display_data"
    },
    {
     "data": {
      "text/latex": [
       "$\\displaystyle - \\frac{1}{a + x} + \\frac{1}{- a + x}$"
      ],
      "text/plain": [
       "-1/(a + x) + 1/(-a + x)"
      ]
     },
     "metadata": {},
     "output_type": "display_data"
    }
   ],
   "source": [
    "#Simplification using 'Apart'\n",
    "a = symbols('a')\n",
    "fx=2*a/(x**2-a**2)\n",
    "display(\"Result after using 'apart':\", apart(fx,x,a))"
   ]
  },
  {
   "cell_type": "code",
   "execution_count": 13,
   "metadata": {},
   "outputs": [
    {
     "data": {
      "text/plain": [
       "\"Result after using 'together':\""
      ]
     },
     "metadata": {},
     "output_type": "display_data"
    },
    {
     "data": {
      "text/latex": [
       "$\\displaystyle \\frac{2 a}{\\left(- a + x\\right) \\left(a + x\\right)}$"
      ],
      "text/plain": [
       "2*a/((-a + x)*(a + x))"
      ]
     },
     "metadata": {},
     "output_type": "display_data"
    }
   ],
   "source": [
    "#SImplification using 'Together'\n",
    "gx=-1/(a+x) + 1/(-a+x)\n",
    "display(\"Result after using 'together':\",together(gx,x,a))"
   ]
  },
  {
   "cell_type": "code",
   "execution_count": 14,
   "metadata": {},
   "outputs": [
    {
     "data": {
      "text/plain": [
       "'Factorized result:'"
      ]
     },
     "metadata": {},
     "output_type": "display_data"
    },
    {
     "data": {
      "text/latex": [
       "$\\displaystyle \\left(x + y\\right)^{3}$"
      ],
      "text/plain": [
       "(x + y)**3"
      ]
     },
     "metadata": {},
     "output_type": "display_data"
    }
   ],
   "source": [
    "#Factorization of algebraic expression \n",
    "expr=x**3 + 3*x**2*y + 3*x*y**2+ y**3 \n",
    "display(\"Factorized result:\",factor (expr))"
   ]
  },
  {
   "cell_type": "code",
   "execution_count": 15,
   "metadata": {},
   "outputs": [
    {
     "data": {
      "text/plain": [
       "'Collect x:'"
      ]
     },
     "metadata": {},
     "output_type": "display_data"
    },
    {
     "data": {
      "text/latex": [
       "$\\displaystyle b y - c z + x \\left(a + y + z\\right) - y z$"
      ],
      "text/plain": [
       "b*y - c*z + x*(a + y + z) - y*z"
      ]
     },
     "metadata": {},
     "output_type": "display_data"
    },
    {
     "data": {
      "text/plain": [
       "'Collect y:'"
      ]
     },
     "metadata": {},
     "output_type": "display_data"
    },
    {
     "data": {
      "text/latex": [
       "$\\displaystyle a x - c z + x z + y \\left(b + x - z\\right)$"
      ],
      "text/plain": [
       "a*x - c*z + x*z + y*(b + x - z)"
      ]
     },
     "metadata": {},
     "output_type": "display_data"
    },
    {
     "data": {
      "text/plain": [
       "'Collect z:'"
      ]
     },
     "metadata": {},
     "output_type": "display_data"
    },
    {
     "data": {
      "text/latex": [
       "$\\displaystyle a x + b y + x y + z \\left(- c + x - y\\right)$"
      ],
      "text/plain": [
       "a*x + b*y + x*y + z*(-c + x - y)"
      ]
     },
     "metadata": {},
     "output_type": "display_data"
    }
   ],
   "source": [
    "#Collecting terms of algebraic expression\n",
    "a, b, c= symbols ('a b c') \n",
    "exp=a*x + b*y - c*z + x*y -y*z + z*x\n",
    "display (\"Collect x:\", collect (exp ,x))\n",
    "display (\"Collect y:\",collect (exp,y))\n",
    "display (\"Collect z:\",collect (exp, z)) "
   ]
  },
  {
   "cell_type": "code",
   "execution_count": 16,
   "metadata": {},
   "outputs": [
    {
     "data": {
      "text/latex": [
       "$\\displaystyle 343$"
      ],
      "text/plain": [
       "343"
      ]
     },
     "metadata": {},
     "output_type": "display_data"
    }
   ],
   "source": [
    "#Numerical Substitution in algebraic equation\n",
    "expr=x**3 + 3*x**2*y - 3*x**2*z + 3*x*y**2 - 6*x*y*z+3*x*z**2 + y**3 - 3*y**2*z + 3*y*z**2 - z**3\n",
    "display(expr.subs({x: 2,y: 1,z:-4}))"
   ]
  },
  {
   "cell_type": "code",
   "execution_count": 17,
   "metadata": {},
   "outputs": [
    {
     "data": {
      "text/latex": [
       "$\\displaystyle 1$"
      ],
      "text/plain": [
       "1"
      ]
     },
     "metadata": {},
     "output_type": "display_data"
    }
   ],
   "source": [
    "#Trigonometric Simplification \n",
    "display(trigsimp((1-cos(x) ** 2)*(1+cot(x) ** 2)))"
   ]
  },
  {
   "cell_type": "code",
   "execution_count": 18,
   "metadata": {},
   "outputs": [
    {
     "data": {
      "text/latex": [
       "$\\displaystyle \\frac{- \\tan{\\left(x \\right)} \\tan{\\left(y \\right)} \\tan{\\left(z \\right)} + \\tan{\\left(x \\right)} + \\tan{\\left(y \\right)} + \\tan{\\left(z \\right)}}{- \\tan{\\left(x \\right)} \\tan{\\left(y \\right)} - \\tan{\\left(x \\right)} \\tan{\\left(z \\right)} - \\tan{\\left(y \\right)} \\tan{\\left(z \\right)} + 1}$"
      ],
      "text/plain": [
       "(-tan(x)*tan(y)*tan(z) + tan(x) + tan(y) + tan(z))/(-tan(x)*tan(y) - tan(x)*tan(z) - tan(y)*tan(z) + 1)"
      ]
     },
     "metadata": {},
     "output_type": "display_data"
    }
   ],
   "source": [
    "#Trigonometric Expansion\n",
    "display(expand_trig(tan(x+y+z)))"
   ]
  },
  {
   "cell_type": "markdown",
   "metadata": {},
   "source": [
    "## 7.1.2 More Advanced usage "
   ]
  },
  {
   "cell_type": "code",
   "execution_count": 19,
   "metadata": {},
   "outputs": [
    {
     "data": {
      "text/plain": [
       "'Result I:'"
      ]
     },
     "metadata": {},
     "output_type": "display_data"
    },
    {
     "data": {
      "text/latex": [
       "$\\displaystyle 1 + 10 x + 45 x^{2} + 120 x^{3} + 210 x^{4} + O\\left(x^{5}\\right)$"
      ],
      "text/plain": [
       "1 + 10*x + 45*x**2 + 120*x**3 + 210*x**4 + O(x**5)"
      ]
     },
     "metadata": {},
     "output_type": "display_data"
    },
    {
     "data": {
      "text/plain": [
       "'Result II:'"
      ]
     },
     "metadata": {},
     "output_type": "display_data"
    },
    {
     "data": {
      "text/latex": [
       "$\\displaystyle \\sin{\\left(2 \\right)} + \\left(x - 2\\right) \\cos{\\left(2 \\right)} - \\frac{\\left(x - 2\\right)^{2} \\sin{\\left(2 \\right)}}{2} - \\frac{\\left(x - 2\\right)^{3} \\cos{\\left(2 \\right)}}{6} + \\frac{\\left(x - 2\\right)^{4} \\sin{\\left(2 \\right)}}{24} + O\\left(\\left(x - 2\\right)^{5}; x\\rightarrow 2\\right)$"
      ],
      "text/plain": [
       "sin(2) + (x - 2)*cos(2) - (x - 2)**2*sin(2)/2 - (x - 2)**3*cos(2)/6 + (x - 2)**4*sin(2)/24 + O((x - 2)**5, (x, 2))"
      ]
     },
     "metadata": {},
     "output_type": "display_data"
    }
   ],
   "source": [
    "#Series expansion\n",
    "#Expand a series up to 4 tern 0(5): \n",
    "display(\"Result I:\", series ((1 + x)**10, x,n=5))\n",
    " #Taylor expansion of Sine function around x0=2:\n",
    "display(\"Result II:\", series (sin(x),x,x0=2,n=5))"
   ]
  },
  {
   "cell_type": "code",
   "execution_count": 20,
   "metadata": {},
   "outputs": [
    {
     "data": {
      "text/plain": [
       "'The Values [0, 5] are: '"
      ]
     },
     "metadata": {},
     "output_type": "display_data"
    },
    {
     "data": {
      "text/plain": [
       "[0.0, 2.29, 6.72, 2.83, -41.32]"
      ]
     },
     "metadata": {},
     "output_type": "display_data"
    }
   ],
   "source": [
    "#Series expansion using Lambify' command\n",
    "from sympy import *\n",
    "x=symbols('x')\n",
    "fL =symbols('fL', cls=Function)\n",
    "f=exp(x)*sin(x)\n",
    "fL=lambdify(x,f)\n",
    "x_range = range(0,5)\n",
    "display(\"The Values [0, 5] are: \", [round (fL(x) , 2)\n",
    "for x in x_range])"
   ]
  },
  {
   "cell_type": "code",
   "execution_count": 21,
   "metadata": {},
   "outputs": [
    {
     "data": {
      "text/plain": [
       "'Sum of the function up to n=5: sin(5)/11 + sin(4)/9 + sin(3)/7 + sin(2)/5 + sin(1)/3'"
      ]
     },
     "metadata": {},
     "output_type": "display_data"
    },
    {
     "data": {
      "text/plain": [
       "'Numerical Sum of the function up to n=5: 0.31'"
      ]
     },
     "metadata": {},
     "output_type": "display_data"
    }
   ],
   "source": [
    "#Analytical and Numerical value of a Summation series\n",
    "fx = sin (x) /(2*x+1) \n",
    "sum_total=simplify(Sum(fx,(x,1,5)).doit()) \n",
    "display(f\"Sum of the function up to n=5: {sum_total}\") \n",
    "display(f\"Numerical Sum of the function up to n=5: {N(sum_total ,2)}\") "
   ]
  },
  {
   "cell_type": "code",
   "execution_count": 22,
   "metadata": {},
   "outputs": [
    {
     "data": {
      "text/plain": [
       "'Product of the function up to n=5: sin(1)*sin(2)*sin(3)*sin(4)*sin(5)/10395'"
      ]
     },
     "metadata": {},
     "output_type": "display_data"
    },
    {
     "data": {
      "text/plain": [
       "'Numerical product of the function up to n=10: 0.0000075'"
      ]
     },
     "metadata": {},
     "output_type": "display_data"
    }
   ],
   "source": [
    "#Analytical and Numerical value of a Summation series\n",
    "fx = sin (x) /(2*x+1) \n",
    "product_total=simplify(Product(fx,(x,1,5)).doit()) \n",
    "display(f\"Product of the function up to n=5: {product_total}\") \n",
    "display(f\"Numerical product of the function up to n=10: {N(product_total ,2)}\") "
   ]
  },
  {
   "cell_type": "code",
   "execution_count": 23,
   "metadata": {},
   "outputs": [
    {
     "data": {
      "text/plain": [
       "'Analytical solutions are: (-b - sqrt(-4*a*c + b**2))/(2*a) and (-b + sqrt(-4*a*c + b**2))/(2*a)'"
      ]
     },
     "metadata": {},
     "output_type": "display_data"
    }
   ],
   "source": [
    "#Analytic solutions of quadratic equation\n",
    "a, b, c= symbols ('a b c') \n",
    "soln1,soln2=solve(a*x**2+b*x+c, x) \n",
    "display(f\"Analytical solutions are: {soln1} and {soln2}\") "
   ]
  },
  {
   "cell_type": "code",
   "execution_count": 24,
   "metadata": {},
   "outputs": [
    {
     "data": {
      "text/plain": [
       "'For a=4.0, b=8.0 and c=1.0, numerical values of solutions: -1.87 and -0.13'"
      ]
     },
     "metadata": {},
     "output_type": "display_data"
    }
   ],
   "source": [
    "#Numerical solution of quadratic equation \n",
    "soln1,soln2=solve(a*x ** 2+b*x+c,x)\n",
    "a=float (input (\"Enter the value of a: \"))\n",
    "b=float (input (\"Enter the value of b: \"))\n",
    "c=float (input (\"Enter the value of c: \"))\n",
    "soln1,soln2=solve(a*x ** 2+b*x+c,x)\n",
    "display (f\"For a={a}, b={b} and c={c}, numerical values of solutions: {round(soln1, 2) } and {round(soln2,2)}\")"
   ]
  },
  {
   "cell_type": "code",
   "execution_count": 25,
   "metadata": {},
   "outputs": [
    {
     "data": {
      "text/plain": [
       "'Result of 1st problem:'"
      ]
     },
     "metadata": {},
     "output_type": "display_data"
    },
    {
     "data": {
      "text/latex": [
       "$\\displaystyle 1$"
      ],
      "text/plain": [
       "1"
      ]
     },
     "metadata": {},
     "output_type": "display_data"
    },
    {
     "data": {
      "text/plain": [
       "'Result of 2nd problem:'"
      ]
     },
     "metadata": {},
     "output_type": "display_data"
    },
    {
     "data": {
      "text/latex": [
       "$\\displaystyle \\frac{1}{4}$"
      ],
      "text/plain": [
       "1/4"
      ]
     },
     "metadata": {},
     "output_type": "display_data"
    }
   ],
   "source": [
    "#Evaluating Limit ofa function \n",
    "r1=limit (sin(x)/x, x, 0)\n",
    "r2=limit((sqrt(2*x+22)-4)/(x+3), x, -3)\n",
    "display(\"Result of 1st problem:\",r1)\n",
    "display(\"Result of 2nd problem:\",r2)"
   ]
  },
  {
   "cell_type": "code",
   "execution_count": 26,
   "metadata": {},
   "outputs": [
    {
     "data": {
      "text/plain": [
       "'Result of 1st problem: '"
      ]
     },
     "metadata": {},
     "output_type": "display_data"
    },
    {
     "data": {
      "text/latex": [
       "$\\displaystyle - \\frac{a x \\sin{\\left(a x \\right)} + \\cos{\\left(a x \\right)}}{x^{2}}$"
      ],
      "text/plain": [
       "-(a*x*sin(a*x) + cos(a*x))/x**2"
      ]
     },
     "metadata": {},
     "output_type": "display_data"
    },
    {
     "data": {
      "text/plain": [
       "'Result of 3nd problem (2nd order diff) :'"
      ]
     },
     "metadata": {},
     "output_type": "display_data"
    },
    {
     "data": {
      "text/latex": [
       "$\\displaystyle \\frac{- a^{2} x^{2} \\cos{\\left(a x \\right)} + 2 a x \\sin{\\left(a x \\right)} + 2 \\cos{\\left(a x \\right)}}{x^{3}}$"
      ],
      "text/plain": [
       "(-a**2*x**2*cos(a*x) + 2*a*x*sin(a*x) + 2*cos(a*x))/x**3"
      ]
     },
     "metadata": {},
     "output_type": "display_data"
    }
   ],
   "source": [
    "#Simple Differentiation\n",
    "a = symbols('a', real=True, positive=True)\n",
    "fx=cos(a*x)/x\n",
    "display(\"Result of 1st problem: \", simplify(diff(fx,x)))\n",
    "display (\"Result of 3nd problem (2nd order diff) :\",\n",
    "simplify(diff(fx,x,2)))"
   ]
  },
  {
   "cell_type": "code",
   "execution_count": 27,
   "metadata": {},
   "outputs": [
    {
     "data": {
      "text/plain": [
       "'Result:'"
      ]
     },
     "metadata": {},
     "output_type": "display_data"
    },
    {
     "data": {
      "text/latex": [
       "$\\displaystyle \\frac{1}{2}$"
      ],
      "text/plain": [
       "1/2"
      ]
     },
     "metadata": {},
     "output_type": "display_data"
    }
   ],
   "source": [
    "#Integration-I\n",
    "from sympy import *\n",
    "x = symbols('x', real=True)\n",
    "expr=sin(x)*cos(x)\n",
    "display(\"Result:\",integrate(expr,(x,0,pi/2)))"
   ]
  },
  {
   "cell_type": "code",
   "execution_count": 28,
   "metadata": {},
   "outputs": [
    {
     "data": {
      "text/plain": [
       "'Result of 1st integral=sqrt(pi)/sqrt(a)'"
      ]
     },
     "metadata": {},
     "output_type": "display_data"
    },
    {
     "data": {
      "text/plain": [
       "'Result of 2nd integral=-(-pi*b*exp(b**2/(4*a))*erf(b/(2*sqrt(a)))/(2*sqrt(a)) - pi*b*exp(b**2/(4*a))/(2*sqrt(a)))/(sqrt(pi)*b) + sqrt(pi)*exp(b**2/(4*a))*erfc(b/(2*sqrt(a)))/(2*sqrt(a))'"
      ]
     },
     "metadata": {},
     "output_type": "display_data"
    },
    {
     "data": {
      "text/plain": [
       "'Result of 3rd integral=-(-pi*b*exp(b**2/(4*a))*erf(b/(2*sqrt(a)))/(2*sqrt(a)) - pi*b*exp(b**2/(4*a))/(2*sqrt(a)))*exp(c)/(sqrt(pi)*b) + sqrt(pi)*exp(c)*exp(b**2/(4*a))*erfc(b/(2*sqrt(a)))/(2*sqrt(a))'"
      ]
     },
     "metadata": {},
     "output_type": "display_data"
    }
   ],
   "source": [
    "#Gaussian Integral and its variants\n",
    "(x, a, b, c) = symbols ('x a b c', real=True,positive=True)\n",
    "IGa=simplify(Integral(exp(-a*x**2), (x, -oo, oo))).doit()\n",
    "IGab=simplify(Integral(exp(-a*x**2+b*x),(x, -oo,oo))).doit()\n",
    "IGabc=simplify(Integral(exp(-a*x**2+b*x+c),(x,-oo, oo))).doit ()\n",
    "display (f\"Result of 1st integral={IGa}\")\n",
    "display (f\"Result of 2nd integral={IGab}\")\n",
    "display (f\"Result of 3rd integral={IGabc}\")"
   ]
  },
  {
   "cell_type": "code",
   "execution_count": 29,
   "metadata": {},
   "outputs": [
    {
     "data": {
      "text/plain": [
       "'For a=8.0, b=3.0, c=1.0, 1st integral=0.6267'"
      ]
     },
     "metadata": {},
     "output_type": "display_data"
    },
    {
     "data": {
      "text/plain": [
       "'For a=8.0, b=3.0, c=1.0, 2nd integral=0.8302'"
      ]
     },
     "metadata": {},
     "output_type": "display_data"
    },
    {
     "data": {
      "text/plain": [
       "'For a=8.0, b=3.0, c=1.0, 3rd integral=2.257'"
      ]
     },
     "metadata": {},
     "output_type": "display_data"
    }
   ],
   "source": [
    "#Numerical evaluation of Gaussian Integrals and its variants\n",
    "a=float (input (\"Enter value of a:\"))\n",
    "b=float (input (\"Enter value of b:\"))\n",
    "c=float(input(\"Enter value of c:\"))\n",
    "IGa=N(Integral(exp(-a*x ** 2),(x,-oo,oo)),4).doit()\n",
    "IGab=N(Integral(exp(-a*x ** 2+b*x), (x, -oo, oo))\n",
    ",4) . doit ()\n",
    "IGabc=N(Integral(exp(-a*x ** 2+b*x+c), (x, -oo, oo)\n",
    "), 4).doit ()\n",
    "display (f\"For a={a}, b={b}, c={c}, 1st integral={\n",
    "IGa}\")\n",
    "display (f\"For a={a}, b={b}, c={c}, 2nd integral={\n",
    "IGab}\")\n",
    "display (f\"For a={a}, b={b}, c={c}, 3rd integral={\n",
    "IGabc}\")"
   ]
  },
  {
   "cell_type": "code",
   "execution_count": 30,
   "metadata": {},
   "outputs": [
    {
     "ename": "SyntaxError",
     "evalue": "invalid syntax (684662521.py, line 2)",
     "output_type": "error",
     "traceback": [
      "\u001b[1;36m  Cell \u001b[1;32mIn[30], line 2\u001b[1;36m\u001b[0m\n\u001b[1;33m    https://medium.com/@rohitsaroj29/pandas-for-\u001b[0m\n\u001b[1;37m          ^\u001b[0m\n\u001b[1;31mSyntaxError\u001b[0m\u001b[1;31m:\u001b[0m invalid syntax\n"
     ]
    }
   ],
   "source": [
    "#Panda for Beginners\n",
    "https://medium.com/@rohitsaroj29/pandas-for-\n",
    "beginners-a-practical-introduction-4\n",
    "f014459cb00\n",
    "(Panda for )"
   ]
  },
  {
   "cell_type": "code",
   "execution_count": null,
   "metadata": {},
   "outputs": [
    {
     "ename": "SyntaxError",
     "evalue": "invalid syntax (357320408.py, line 2)",
     "output_type": "error",
     "traceback": [
      "\u001b[1;36m  Cell \u001b[1;32mIn[9], line 2\u001b[1;36m\u001b[0m\n\u001b[1;33m    https://medium.com/datasciencearth/what-is-sympy -\u001b[0m\n\u001b[1;37m          ^\u001b[0m\n\u001b[1;31mSyntaxError\u001b[0m\u001b[1;31m:\u001b[0m invalid syntax\n"
     ]
    }
   ],
   "source": [
    "#New\n",
    "https://medium.com/datasciencearth/what-is-sympy -\n",
    "cb9977b64871\n",
    "( Simplify(), Expand (), Factor () , Apart () ve\n",
    "Together ())"
   ]
  },
  {
   "cell_type": "code",
   "execution_count": null,
   "metadata": {},
   "outputs": [
    {
     "name": "stdout",
     "output_type": "stream",
     "text": [
      "Eq(x(t), x0*cos(k*t))\n"
     ]
    }
   ],
   "source": [
    "#Solution of ODE by SYMPY\n",
    "from __future__ import division\n",
    "k, x0, t = symbols ('k x0 t')\n",
    "x = symbols ('x', cls=Function)\n",
    "eq = Eq(x(t).diff(t, 2) +k ** 2*x(t) , 0)\n",
    "sol = dsolve(eq, ics={x(t).subs(t, 0) : x0, (x(t).\n",
    "diff(t,1)).subs(t,0):0})\n",
    "display (sol.rewrite (sin) . simplify ())"
   ]
  },
  {
   "cell_type": "code",
   "execution_count": 3,
   "metadata": {},
   "outputs": [
    {
     "data": {
      "text/latex": [
       "$\\displaystyle 9 f{\\left(x \\right)} + \\frac{d}{d x} f{\\left(x \\right)}$"
      ],
      "text/plain": [
       "9*f(x) + Derivative(f(x), x)"
      ]
     },
     "metadata": {},
     "output_type": "display_data"
    }
   ],
   "source": [
    "from sympy import Function, dsolve, Eq, Derivative, sin\n",
    "from sympy.abc import x\n",
    "f = Function('f')\n",
    "ode = Derivative(f(x), x) + 9*f(x)\n",
    "display(ode)"
   ]
  },
  {
   "cell_type": "code",
   "execution_count": null,
   "metadata": {},
   "outputs": [],
   "source": [
    "#https://computationalmindset.com/en/mathematics/experiments-with-sympy-to-solve-odes-1st-order.html"
   ]
  },
  {
   "cell_type": "markdown",
   "metadata": {},
   "source": [
    "### 7.1.3 Matrix Manipulation using SYMPY"
   ]
  },
  {
   "cell_type": "code",
   "execution_count": null,
   "metadata": {},
   "outputs": [
    {
     "name": "stdout",
     "output_type": "stream",
     "text": [
      " Three solutions are {x: 65/9, y: -44/9, z: 7/3}\n"
     ]
    }
   ],
   "source": [
    "#Lambdify a function \n",
    "sol=solve([x+y+2*z-7, x+3+y-z-3, 2*x+5*y+10], [x,y,z])\n",
    "display (f\" Three solutions are {sol}\")"
   ]
  },
  {
   "cell_type": "code",
   "execution_count": null,
   "metadata": {},
   "outputs": [
    {
     "name": "stdout",
     "output_type": "stream",
     "text": [
      "Three solutions are {x: 65/9, y: -44/9, z: 7/3}\n"
     ]
    }
   ],
   "source": [
    "#Solution of linear equations \n",
    "sol=solve ([x+y+2*z-7, x+3+y-z-3, 2*x+5*y+10],[x, y, z]) \n",
    "display (f\"Three solutions are {sol}\") "
   ]
  },
  {
   "cell_type": "code",
   "execution_count": null,
   "metadata": {},
   "outputs": [
    {
     "name": "stdout",
     "output_type": "stream",
     "text": [
      "M= Matrix([[a, b], [c, 0]])\n",
      "The Eigenvalues of M: {a/2 - sqrt(a**2 + 4*b*c)/2: 1, a/2 + sqrt(a**2 + 4*b*c)/2: 1}\n",
      "The Eigenvectors of M: [(a/2 - sqrt(a**2 + 4*b*c)/2, 1, [Matrix([\n",
      "[(a/2 - sqrt(a**2 + 4*b*c)/2)/c],\n",
      "[                             1]])]), (a/2 + sqrt(a**2 + 4*b*c)/2, 1, [Matrix([\n",
      "[(a/2 + sqrt(a**2 + 4*b*c)/2)/c],\n",
      "[                             1]])])]\n"
     ]
    }
   ],
   "source": [
    "#Eigenvalues and Eigen vectors using SYMPY\n",
    "from sympy.matrices import Matrix\n",
    "a, b, c = symbols ('a b c')\n",
    "M2=Matrix([[a, b] , [c, 0]])\n",
    "display (\"M=\", M2)\n",
    "M2_val=M2. eigenvals ()\n",
    "display (\"The Eigenvalues of M:\", M2_val)\n",
    "M2_vec=M2. eigenvects ()\n",
    "display (\"The Eigenvectors of M:\", M2_vec)"
   ]
  },
  {
   "cell_type": "code",
   "execution_count": null,
   "metadata": {},
   "outputs": [
    {
     "name": "stdout",
     "output_type": "stream",
     "text": [
      "[Matrix([\n",
      "[1],\n",
      "[2],\n",
      "[3]]), Matrix([\n",
      "[4],\n",
      "[5],\n",
      "[6]]), Matrix([\n",
      "[7],\n",
      "[8],\n",
      "[1]])]\n",
      "0\n",
      "0\n",
      "0\n"
     ]
    }
   ],
   "source": [
    "#Orthogonalization by Gram-Schmdt Procedure \n",
    "import numpy as np\n",
    "from sympy.matrices import Matrix, GramSchmidt\n",
    "L = [Matrix ([1, 2, 3]), Matrix ([4, 5, 6]), Matrix\n",
    "([7,8,1])]\n",
    "display (L)\n",
    "OT = GramSchmidt (L, True)\n",
    "LA=np.array (OT)\n",
    "display ((LA [0] * LA [1]) . sum ())\n",
    "display ((LA [1] * LA [2]) . sum ())\n",
    "display ((LA [0] * LA [2]) . sum ())"
   ]
  }
 ],
 "metadata": {
  "kernelspec": {
   "display_name": "Python 3",
   "language": "python",
   "name": "python3"
  },
  "language_info": {
   "codemirror_mode": {
    "name": "ipython",
    "version": 3
   },
   "file_extension": ".py",
   "mimetype": "text/x-python",
   "name": "python",
   "nbconvert_exporter": "python",
   "pygments_lexer": "ipython3",
   "version": "3.12.1"
  }
 },
 "nbformat": 4,
 "nbformat_minor": 2
}
