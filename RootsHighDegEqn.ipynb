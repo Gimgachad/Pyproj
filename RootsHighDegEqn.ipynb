{
 "cells": [
  {
   "cell_type": "markdown",
   "metadata": {},
   "source": [
    "### Ex-1 Find roots of:\n",
    "$2x^2 - 5x + 3 = 0$"
   ]
  },
  {
   "cell_type": "code",
   "execution_count": 3,
   "metadata": {},
   "outputs": [
    {
     "name": "stdout",
     "output_type": "stream",
     "text": [
      "The root : 1.00000\n",
      "Number of iterations: 2\n"
     ]
    }
   ],
   "source": [
    "x = 1 #initial guess\n",
    "for i in range (2,101):\n",
    "    xnew = (2 * x ** 2 + 3) / 5\n",
    "    if abs(x - xnew) < 1e-6:\n",
    "        break\n",
    "    x = xnew\n",
    "\n",
    "print('The root : %.5f' %xnew)\n",
    "print('Number of iterations: %d' % i)"
   ]
  },
  {
   "cell_type": "markdown",
   "metadata": {},
   "source": [
    "### Ex-2: Find roots using Newton-Raphson method\n",
    "$2x^2 - 5x + 3 = 0$"
   ]
  },
  {
   "cell_type": "code",
   "execution_count": 4,
   "metadata": {},
   "outputs": [
    {
     "name": "stdout",
     "output_type": "stream",
     "text": [
      "The root: 1.00000\n",
      "Number of iterations: 2\n"
     ]
    }
   ],
   "source": [
    "x = 1  #initial guess\n",
    "for i in range(2,101):\n",
    "    xnew = x - (2 * x ** 2 - 5 * x + 3) / (4 * x - 5)\n",
    "    if abs(xnew - x) < 1e-6:\n",
    "        break\n",
    "    x = xnew\n",
    "\n",
    "print('The root: %.5f' % xnew)\n",
    "print('Number of iterations: %d' %i)"
   ]
  },
  {
   "cell_type": "markdown",
   "metadata": {},
   "source": [
    "### Bisection method:"
   ]
  },
  {
   "cell_type": "code",
   "execution_count": 6,
   "metadata": {},
   "outputs": [
    {
     "name": "stdout",
     "output_type": "stream",
     "text": [
      "The root: 1.00000\n",
      "Number of bisections: 1\n"
     ]
    }
   ],
   "source": [
    "def y(x):\n",
    "    return 2 * x ** 2 - 5 * x + 3\n",
    "\n",
    "x1 = float(input('Enter the value of x1: ')) # input x1\n",
    "\n",
    "x2 = float(input('Enter the value of x2: ')) # input x2\n",
    "\n",
    "y1= y(x1)   # calling the function y(x1)\n",
    "y2=y(x2)    # calling the function y(x2)\n",
    "\n",
    "if y1*y2 > 0:# test if signs are similar\n",
    "    print('No roots exist within given interval')\n",
    "\n",
    "\n",
    "for i in range(100):\n",
    "    xh= (x1+x2)/2\n",
    "    yh = y(xh)# calling the function y(x1)\n",
    "    y1=y(x1)# calling the function y(x2)\n",
    "    if abs(y1) < 1.0e-6:\n",
    "        break\n",
    "    elif y1*yh < 0:\n",
    "        x2 = xh\n",
    "    else:\n",
    "        x1 = xh\n",
    "print('The root: %.5f' % x1)\n",
    "print('Number of bisections: %d' % (i+1))"
   ]
  },
  {
   "cell_type": "code",
   "execution_count": 2,
   "metadata": {},
   "outputs": [
    {
     "name": "stdout",
     "output_type": "stream",
     "text": [
      "0.9999999999999999\n",
      "1.5000000000000004\n",
      "0.9999999999996361\n",
      "1.4999999999994542\n",
      "[1.]\n",
      "[1.5]\n",
      "[1.  1.5]\n",
      " message: The solution converged.\n",
      " success: True\n",
      "  status: 1\n",
      "     fun: [ 0.000e+00]\n",
      "       x: [ 1.000e+00]\n",
      "    nfev: 11\n",
      "    fjac: [[-1.000e+00]]\n",
      "       r: [ 1.000e+00]\n",
      "     qtf: [-1.033e-10]\n",
      "[1.]\n",
      "[1.5]\n",
      "[1.  1.  1.5]\n",
      "[1.5]\n",
      "1.5\n",
      "0.9999999999990359\n"
     ]
    }
   ],
   "source": [
    "from scipy.optimize import newton, bisect, fsolve, root\n",
    "\n",
    "def f(x):\n",
    "    return 2 * x ** 2 - 5 * x + 3\n",
    "\n",
    "print(newton(f, 0))  #given fn and trial value\n",
    "\n",
    "print(newton(f, 3))\n",
    "\n",
    "print(bisect(f, 0, 1.2)) #given fn and initial interval\n",
    "\n",
    "print(bisect(f, 1.2, 4))\n",
    "\n",
    "print(fsolve(f, 0)) #fn and trial value\n",
    "\n",
    "print(fsolve(f, 2))\n",
    "\n",
    "print(fsolve(f, [0.1, 2])) #In the last statement, the trial values (initial guesses) are given as a list and the function returned an array containing the roots that can be obtained by each guess\n",
    "\n",
    "print(root(f, 0)) #The root() function returns a number of attributes containing information about the solution process. Since the sought root(s) are in the array x, the function can be called as following\n",
    "\n",
    "print(root(f, 0).x)\n",
    "\n",
    "print(root(f, 2).x)\n",
    "\n",
    "print(root(f, [0,1,2]).x)\n",
    "\n",
    "#The returned values from the functions can be assigned to a variable.\n",
    "\n",
    "y = fsolve(f, 3)\n",
    "print(y)\n",
    "\n",
    "print(y[0])\n",
    "\n",
    "z = root(f, [0,1,2]).x\n",
    "print(z[0])"
   ]
  },
  {
   "cell_type": "markdown",
   "metadata": {},
   "source": [
    "### Ex-4.6: Find the roots of the following equation using secant method:\n",
    "$2x^2-5x+3=0$"
   ]
  },
  {
   "cell_type": "code",
   "execution_count": 4,
   "metadata": {},
   "outputs": [
    {
     "name": "stdout",
     "output_type": "stream",
     "text": [
      "The root: 1.000000\n",
      "The number of iterations : 6 \n"
     ]
    }
   ],
   "source": [
    "def secant(fn, x = list(), tol = 1.0e-9, maxiter = 100):\n",
    "    [x1,x2] = x\n",
    "    for iteration in range(maxiter):\n",
    "        xnew = x2 - (x2 - x1) / (fn(x2) - fn(x1)) * fn(x2)\n",
    "        if abs(xnew - x2) < tol: break\n",
    "        x1 = x2\n",
    "        x2 = xnew\n",
    "    else:\n",
    "        print('Limit of iterations reached without solution.')\n",
    "    return xnew, iteration\n",
    "\n",
    "# definition of the function\n",
    "def f(x):\n",
    "    return 2 * x ** 2 - 5 * x + 3\n",
    "\n",
    "soln, iters = secant(f, [0,.8], 0.000001)\n",
    "\n",
    "print('The root: %0.6f' %soln)\n",
    "print('The number of iterations : %d ' % iters)"
   ]
  },
  {
   "cell_type": "code",
   "execution_count": null,
   "metadata": {},
   "outputs": [],
   "source": [
    "#second root\n",
    "\n"
   ]
  },
  {
   "cell_type": "markdown",
   "metadata": {},
   "source": [
    "### Regula Falsi:"
   ]
  },
  {
   "cell_type": "code",
   "execution_count": 6,
   "metadata": {},
   "outputs": [
    {
     "name": "stdout",
     "output_type": "stream",
     "text": [
      "The root: 1.00000\n",
      "The number of computed false positions: 27\n"
     ]
    }
   ],
   "source": [
    "def f(x): return 2 * x ** 2 - 5 * x + 3\n",
    "\n",
    "def rfalsi(fn, x1, x2, tol = 1.0e-6, ilimit = 100):\n",
    "    y1 = f(x1)\n",
    "    y2 = f(x2)\n",
    "    xh = 0\n",
    "    ipos = 0 # counts false positions\n",
    "    if y1 == 0: xh = x1  # if x1 is a root\n",
    "    elif y2 == 0: xh = x2 # if x2 is a root\n",
    "    elif y1 * y2 > 0: print('No root exists within given interval.')\n",
    "    else:\n",
    "        for ipos in range(1, ilimit+1):\n",
    "            xh = x2 - (x2 - x1) / (y2 - y1) * y2\n",
    "            yh = f(xh)\n",
    "            if abs(yh) < tol:\n",
    "                break\n",
    "            elif y1 * y2 < 0: # if y1 and yh have opp signs\n",
    "                x2 = xh\n",
    "                y2 = yh\n",
    "            else:\n",
    "                x1 = xh\n",
    "                y1 = yh\n",
    "    return xh, ipos\n",
    "\n",
    "x1 = float(input('Enter the vslue of x1: '))\n",
    "x2 = float(input('Enter the vslue of x2: '))\n",
    "x, n = rfalsi(f, x1, x2)\n",
    "\n",
    "#Output\n",
    "\n",
    "print('The root: %.5f' %x)\n",
    "print('The number of computed false positions: %d' %n)\n",
    "\n",
    "# prblm to find 2nd root"
   ]
  }
 ],
 "metadata": {
  "kernelspec": {
   "display_name": "Python 3",
   "language": "python",
   "name": "python3"
  },
  "language_info": {
   "codemirror_mode": {
    "name": "ipython",
    "version": 3
   },
   "file_extension": ".py",
   "mimetype": "text/x-python",
   "name": "python",
   "nbconvert_exporter": "python",
   "pygments_lexer": "ipython3",
   "version": "3.12.2"
  }
 },
 "nbformat": 4,
 "nbformat_minor": 2
}
