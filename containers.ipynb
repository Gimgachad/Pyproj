{
 "cells": [
  {
   "cell_type": "markdown",
   "metadata": {},
   "source": [
    "# Lecture III: 'CONTAINER' in Python\n",
    "## List (Collection of mutable Integers, Floating numbers, Strings)"
   ]
  },
  {
   "cell_type": "code",
   "execution_count": 5,
   "metadata": {},
   "outputs": [],
   "source": [
    "#list=[ .... ]\n",
    "#tuple= ( .... )\n",
    "#set= { .... }\n",
    "#dictionary= {A:x1,x2,....,B:y1,y2,....}"
   ]
  },
  {
   "cell_type": "code",
   "execution_count": 6,
   "metadata": {},
   "outputs": [
    {
     "name": "stdout",
     "output_type": "stream",
     "text": [
      "[23, 45, 0, 21, 23, 45, 2, 5, 11, 25, 11, 50, 1, 67]\n",
      "<class 'list'>\n",
      "14\n"
     ]
    }
   ],
   "source": [
    "\n",
    "# Define a list of Integers and its length\n",
    "mylist = [23, 45, 0, 21, 23, 45, 2, 5, 11, 25, 11, 50, 1, 67]\n",
    "print(mylist)\n",
    "print(type(mylist))\n",
    "print(len(mylist))"
   ]
  },
  {
   "cell_type": "code",
   "execution_count": 7,
   "metadata": {},
   "outputs": [
    {
     "name": "stdout",
     "output_type": "stream",
     "text": [
      "23\n",
      "67\n"
     ]
    }
   ],
   "source": [
    "\n",
    "# To pick various elements from the list\n",
    "mylist = [23, 45, 0, 21, 23, 45, 2, 5, 11, 25, 11, 50, 1, 67]\n",
    "print(mylist[0])\n",
    "print(mylist[-1])\n"
   ]
  },
  {
   "cell_type": "code",
   "execution_count": 8,
   "metadata": {},
   "outputs": [
    {
     "name": "stdout",
     "output_type": "stream",
     "text": [
      "[23, 45, 0, 21, 23, 45, 2, 5, 11, 25, 11, 50, 1, 67]\n",
      "[23, 45, 0, 21, 23, 45, 2, 5, 11, 25, 11, 50, 1, 67]\n",
      "[23, 45, 0, 21]\n",
      "[23, 45, 2, 5, 11, 25, 11, 50, 1, 67]\n",
      "[5, 11, 25, 11, 50]\n"
     ]
    }
   ],
   "source": [
    "# SLICING a set of numbers from LIST\n",
    "mylist = [23, 45, 0, 21, 23, 45, 2, 5, 11, 25, 11, 50, 1, 67]\n",
    "print(mylist) # Print mylist\n",
    "print(mylist[::]) # Print Full list\n",
    "print(mylist[:4]) # Print mylist up to 4th term\n",
    "print(mylist[4:]) # Print mylist after 4th term\n",
    "print(mylist[7:12]) # Print from 7th to 11th term"
   ]
  },
  {
   "cell_type": "code",
   "execution_count": 12,
   "metadata": {},
   "outputs": [
    {
     "name": "stdout",
     "output_type": "stream",
     "text": [
      "[23, 45, 0, 21, 2, 5, 25]\n"
     ]
    }
   ],
   "source": [
    "\n",
    "# Remove a set numbers from the list\n",
    "mylist = [23, 45, 0, 21, 2, 5, 25, 11, 50, 1, 67]\n",
    "del(mylist[7:])#deletes terms after 7th term\n",
    "print(mylist)"
   ]
  },
  {
   "cell_type": "code",
   "execution_count": 14,
   "metadata": {},
   "outputs": [
    {
     "name": "stdout",
     "output_type": "stream",
     "text": [
      "13\n"
     ]
    }
   ],
   "source": [
    "# Identify the position of 67 in the list\n",
    "mylist = [23, 45, 0, 21, 23, 45, 2, 5, 11, 25, 11, 50, 1, 67]\n",
    "pos=mylist.index(67)\n",
    "print(pos)\n"
   ]
  },
  {
   "cell_type": "code",
   "execution_count": 15,
   "metadata": {},
   "outputs": [
    {
     "name": "stdout",
     "output_type": "stream",
     "text": [
      "[23, 45, 0, 21, 45, 2, 5, 11, 25, 11, 50, 1, 67]\n"
     ]
    }
   ],
   "source": [
    " # Remove a elment from n-th (say, 3rd) position of list\n",
    "mylist = [23, 45, 0, 21, 23, 45, 2, 5, 11, 25, 11, 50, 1, 67]\n",
    "mylist.pop(4)\n",
    "print(mylist)"
   ]
  },
  {
   "cell_type": "code",
   "execution_count": 16,
   "metadata": {},
   "outputs": [
    {
     "name": "stdout",
     "output_type": "stream",
     "text": [
      "[23, 45, 0, 21, 23, 45, 2, 5, 11, 25, 11, 50, 1, 67, 100]\n"
     ]
    }
   ],
   "source": [
    "# Append a number at the end of a list\n",
    "mylist = [23, 45, 0, 21, 23, 45, 2, 5, 11, 25, 11, 50, 1, 67]\n",
    "mylist.append(100)\n",
    "print(mylist)"
   ]
  },
  {
   "cell_type": "code",
   "execution_count": 17,
   "metadata": {},
   "outputs": [
    {
     "name": "stdout",
     "output_type": "stream",
     "text": [
      "[23, 45, 0, 21, 23, 500, 45, 2, 5, 11, 25, 11, 50, 1, 67]\n"
     ]
    }
   ],
   "source": [
    "# Insert a number in specific position of a list\n",
    "mylist = [23, 45, 0, 21, 23, 45, 2, 5, 11, 25, 11, 50, 1, 67]\n",
    "mylist.insert(5,500)\n",
    "print(mylist)\n"
   ]
  },
  {
   "cell_type": "code",
   "execution_count": 18,
   "metadata": {},
   "outputs": [
    {
     "name": "stdout",
     "output_type": "stream",
     "text": [
      "[23, 45, 0, 23, 45, 2, 5, 11, 25, 11, 50, 1, 67]\n"
     ]
    }
   ],
   "source": [
    "# Remove an element (say, 21) from the list\n",
    "mylist = [23, 45, 0, 21, 23, 45, 2, 5, 11, 25, 11, 50, 1, 67]\n",
    "mylist.remove(21)\n",
    "print(mylist)"
   ]
  },
  {
   "cell_type": "code",
   "execution_count": 1,
   "metadata": {},
   "outputs": [
    {
     "name": "stdout",
     "output_type": "stream",
     "text": [
      "67\n"
     ]
    }
   ],
   "source": [
    "# Finding Maximum integer of a list\n",
    "mylist = [23, 45, 0, 21, 23, 45, 2, 5, 11, 25, 11, 50, 1, 67]\n",
    "print(max(mylist))\n"
   ]
  },
  {
   "cell_type": "code",
   "execution_count": 2,
   "metadata": {},
   "outputs": [
    {
     "name": "stdout",
     "output_type": "stream",
     "text": [
      "-1\n"
     ]
    }
   ],
   "source": [
    "#Finding Minimum integer of a list\n",
    "mylist = [23, 45, 0, 21, 23, 45, 2, 5, 11, 25, 11, 50, -1, 67]\n",
    "print(min(mylist))\n"
   ]
  },
  {
   "cell_type": "code",
   "execution_count": 3,
   "metadata": {},
   "outputs": [
    {
     "name": "stdout",
     "output_type": "stream",
     "text": [
      "[0, 1, 2, 5, 11, 11, 21, 23, 23, 25, 45, 45, 50, 67]\n"
     ]
    }
   ],
   "source": [
    "# Sort a list of integer in ascending order\n",
    "mylist = [23, 45, 0, 21, 23, 45, 2, 5, 11, 25, 11, 50, 1, 67]\n",
    "mylist.sort()\n",
    "print(mylist)"
   ]
  },
  {
   "cell_type": "code",
   "execution_count": 4,
   "metadata": {},
   "outputs": [
    {
     "name": "stdout",
     "output_type": "stream",
     "text": [
      "[67, 50, 45, 45, 25, 23, 23, 21, 11, 11, 5, 2, 1, 0]\n"
     ]
    }
   ],
   "source": [
    "# Sort a list of integer in decending order\n",
    "mylist = [23, 45, 0, 21, 23, 45, 2, 5, 11, 25, 11, 50, 1, 67]\n",
    "mylist.sort(reverse=True)\n",
    "print(mylist)"
   ]
  },
  {
   "cell_type": "code",
   "execution_count": 5,
   "metadata": {},
   "outputs": [
    {
     "name": "stdout",
     "output_type": "stream",
     "text": [
      "[23, 45, 0, 21, 23, 45, 2, 5, 11, 25, 11, 50, 1, 67, 200, 250, 340]\n"
     ]
    }
   ],
   "source": [
    "# Extend a list adding more numbers\n",
    "mylist = [23, 45, 0, 21, 23, 45, 2, 5, 11, 25, 11, 50, 1, 67]\n",
    "mylist.extend([200,250,340])\n",
    "print(mylist)\n"
   ]
  },
  {
   "cell_type": "code",
   "execution_count": 6,
   "metadata": {},
   "outputs": [
    {
     "name": "stdout",
     "output_type": "stream",
     "text": [
      "329\n"
     ]
    }
   ],
   "source": [
    " # Sum of a list of numbers\n",
    "mylist = [23, 45, 0, 21, 23, 45, 2, 5, 11, 25, 11, 50, 1, 67]\n",
    "print(sum(mylist))\n"
   ]
  },
  {
   "cell_type": "code",
   "execution_count": 7,
   "metadata": {},
   "outputs": [
    {
     "name": "stdout",
     "output_type": "stream",
     "text": [
      "[23, 45, 21, 45, 2, 5, 11, 50, 1, 67, 3, 5, 12, 45, 20, 35, 61, 50, 21, 68]\n"
     ]
    }
   ],
   "source": [
    "# Formation of ’Nested List’ from two Lists\n",
    "# Two set of Lists with integers\n",
    "mylist1 = [23, 45, 21, 45, 2, 5, 11, 50, 1, 67]\n",
    "mylist2 = [3, 5, 12, 45, 20, 35, 61, 50, 21, 68]\n",
    "print(mylist1+mylist2)"
   ]
  },
  {
   "cell_type": "code",
   "execution_count": 9,
   "metadata": {},
   "outputs": [
    {
     "name": "stdout",
     "output_type": "stream",
     "text": [
      "[0, 1, 2, 3, 4, 5, 6, 7, 8, 9]\n"
     ]
    }
   ],
   "source": [
    "#Prepare a List using Range\n",
    "range_of_number=range(0,10)\n",
    "print(list(range_of_number))\n",
    "#The range() function in Python doesn’t include the end value because of a principle called zero-based indexing. Computers start counting at zero, while humans start counting at 1. When a computer needs to number 3 elements, it starts with element 0, then 1, and then 21. So, when you call range(0,10), it starts at 0 and stops before 10, giving you a list of numbers from 0 to 923. This is why 10 is not included in your list."
   ]
  },
  {
   "cell_type": "code",
   "execution_count": 11,
   "metadata": {},
   "outputs": [
    {
     "name": "stdout",
     "output_type": "stream",
     "text": [
      "['cat', 'dog', 'tiger', 'bird']\n"
     ]
    }
   ],
   "source": [
    "# List with string\n",
    "str_mylist1 = ['cat', 'dog', 'tiger', 'bird']\n",
    "print(str_mylist1)"
   ]
  },
  {
   "cell_type": "code",
   "execution_count": 12,
   "metadata": {},
   "outputs": [
    {
     "name": "stdout",
     "output_type": "stream",
     "text": [
      "['cat', 'dog', 'tiger', 'lion', 'bird']\n"
     ]
    }
   ],
   "source": [
    "# Insert in a object in the list of stings (Similar to Intgers)\n",
    "str_mylist1 = [\"cat\", \"dog\", \"tiger\", \"bird\"]\n",
    "str_mylist1.insert(3,'lion')\n",
    "print(str_mylist1)"
   ]
  },
  {
   "cell_type": "code",
   "execution_count": 13,
   "metadata": {},
   "outputs": [
    {
     "data": {
      "text/plain": [
       "{0, 1, 2, 3, 4, 5, 6, 7, 8, 9}"
      ]
     },
     "execution_count": 13,
     "metadata": {},
     "output_type": "execute_result"
    }
   ],
   "source": [
    "# Prepare a Set using Range\n",
    "range_of_numbers=range(0,10)\n",
    "set(range_of_numbers)"
   ]
  },
  {
   "cell_type": "markdown",
   "metadata": {},
   "source": [
    "# Tuple (It is the datatype where objects are immutable)"
   ]
  },
  {
   "cell_type": "code",
   "execution_count": 19,
   "metadata": {},
   "outputs": [
    {
     "name": "stdout",
     "output_type": "stream",
     "text": [
      "(23, 45, 0, 21, 23, 45, 2, 5, 11, 25, 11, 50, 1, 67)\n",
      "<class 'tuple'>\n"
     ]
    }
   ],
   "source": [
    "# Prepare a Tuple\n",
    "mylist = [23, 45, 0, 21, 23, 45, 2, 5, 11, 25, 11, 50, 1, 67]\n",
    "mytuple=tuple(mylist)\n",
    "print(mytuple)\n",
    "print(type(mytuple))"
   ]
  },
  {
   "cell_type": "code",
   "execution_count": 17,
   "metadata": {},
   "outputs": [
    {
     "name": "stdout",
     "output_type": "stream",
     "text": [
      "(0, 1, 2, 3, 4, 5, 6, 7, 8, 9)\n"
     ]
    }
   ],
   "source": [
    "# Prepare a Tuple using Range\n",
    "range_of_number=range(0,10)\n",
    "print(tuple(range_of_number))\n"
   ]
  },
  {
   "cell_type": "code",
   "execution_count": 20,
   "metadata": {},
   "outputs": [
    {
     "name": "stdout",
     "output_type": "stream",
     "text": [
      "((1, 2, 5), (10, 20, 50, 100))\n"
     ]
    }
   ],
   "source": [
    "# Nested TUPLE\n",
    "nested_tup = (1,2,5),(10,20,50,100)\n",
    "print(nested_tup)\n"
   ]
  },
  {
   "cell_type": "code",
   "execution_count": 21,
   "metadata": {},
   "outputs": [
    {
     "name": "stdout",
     "output_type": "stream",
     "text": [
      "[4, None, 'foo', 7, 8, (2, 3)]\n",
      "(4, None, 'foo', 7, 8, (2, 3))\n"
     ]
    }
   ],
   "source": [
    "# Concatenate is supported in LIST and TUPLE\n",
    "list1=[4, None, 'foo']\n",
    "list2=[7, 8, (2, 3)]\n",
    "print(list1+list2)\n",
    "tup1=(4, None, 'foo')\n",
    "tup2=(7, 8, (2, 3))\n",
    "print(tup1+tup2)"
   ]
  },
  {
   "cell_type": "code",
   "execution_count": 25,
   "metadata": {},
   "outputs": [
    {
     "name": "stdout",
     "output_type": "stream",
     "text": [
      "{None, (2, 3), 'foo', 4, 7, 8}\n",
      "{None, (2, 3), 'foo', 4, 7, 8}\n"
     ]
    }
   ],
   "source": [
    "# Concanate is NOT supported in LIST and TUPLE\n",
    "set1={4, None, 'foo'}\n",
    "set2={7, 8, (2, 3)}\n",
    "print(set1.union(set2))\n",
    "print(set1 | set2)"
   ]
  },
  {
   "cell_type": "code",
   "execution_count": 26,
   "metadata": {},
   "outputs": [
    {
     "name": "stdout",
     "output_type": "stream",
     "text": [
      "(0, 1, 2, 3, 4, 5, 6, 7, 8, 9)\n"
     ]
    },
    {
     "ename": "AttributeError",
     "evalue": "'tuple' object has no attribute 'append'",
     "output_type": "error",
     "traceback": [
      "\u001b[1;31m---------------------------------------------------------------------------\u001b[0m",
      "\u001b[1;31mAttributeError\u001b[0m                            Traceback (most recent call last)",
      "Cell \u001b[1;32mIn[26], line 5\u001b[0m\n\u001b[0;32m      3\u001b[0m tpl\u001b[38;5;241m=\u001b[39m\u001b[38;5;28mtuple\u001b[39m(range_of_number)\n\u001b[0;32m      4\u001b[0m \u001b[38;5;28mprint\u001b[39m(tpl)\n\u001b[1;32m----> 5\u001b[0m \u001b[38;5;28mprint\u001b[39m(\u001b[43mtpl\u001b[49m\u001b[38;5;241;43m.\u001b[39;49m\u001b[43mappend\u001b[49m(\u001b[38;5;241m10\u001b[39m))\n",
      "\u001b[1;31mAttributeError\u001b[0m: 'tuple' object has no attribute 'append'"
     ]
    }
   ],
   "source": [
    "# Unchangibility of objects in Tuple\n",
    "range_of_number=range(0,10)\n",
    "tpl=tuple(range_of_number)\n",
    "print(tpl)\n",
    "print(tpl.append(10))"
   ]
  },
  {
   "cell_type": "code",
   "execution_count": 27,
   "metadata": {},
   "outputs": [
    {
     "name": "stdout",
     "output_type": "stream",
     "text": [
      "(0, 1, 2, 3, 4, 5, 6, 7, 8, 9)\n",
      "(0, 1, 2, 3, 4, 5, 6, 7, 8, 9, 10)\n"
     ]
    }
   ],
   "source": [
    "# Unchangibility of objects in Tuple\n",
    "range_of_number=range(0,10)\n",
    "tpl=tuple(range_of_number)\n",
    "print(tpl)\n",
    "new_tpl=tpl+(10,)\n",
    "print(new_tpl)\n",
    "#In Python, a tuple with only one item is called a singleton tuple. The comma after the 10 is necessary to distinguish it as a tuple, not just an expression in parentheses.For example, (10) is just the number 10 in parentheses, but (10,) is a tuple with one item.So, when you want to add an item to a tuple, you need to make sure that the item is a tuple itself, even if it’s a singleton. That’s why the code is tpl = tpl + (10,)."
   ]
  },
  {
   "cell_type": "markdown",
   "metadata": {},
   "source": [
    "# Set (It is the data-type that are collected without duplication)"
   ]
  },
  {
   "cell_type": "code",
   "execution_count": 28,
   "metadata": {},
   "outputs": [
    {
     "name": "stdout",
     "output_type": "stream",
     "text": [
      "{0, 1, 2, 67, 5, 11, 45, 50, 21, 23, 25}\n",
      "<class 'set'>\n"
     ]
    }
   ],
   "source": [
    "# Prepare a Set from lst (Neglect repetation of object)\n",
    "mylist = [23, 45, 0, 21, 23, 45, 2, 5, 11, 25, 11, 50, 1, 67]\n",
    "myset=set(mylist)\n",
    "print(myset)\n",
    "print(type(myset))\n"
   ]
  },
  {
   "cell_type": "markdown",
   "metadata": {},
   "source": [
    "# Dictionary (It is clubbed datatype with immutable objects)"
   ]
  },
  {
   "cell_type": "code",
   "execution_count": 30,
   "metadata": {},
   "outputs": [
    {
     "name": "stdout",
     "output_type": "stream",
     "text": [
      "{'animal': 'tiger , lion , Bird , Snake', 'subject': 'Phys , Chem , Maths', 'year': '1964, 1974, 1994, 2064'}\n",
      "<class 'dict'>\n",
      "tiger , lion , Bird , Snake\n",
      "Phys , Chem , Maths\n",
      "1964, 1974, 1994, 2064\n"
     ]
    }
   ],
   "source": [
    "mydict = {\"animal\": \"tiger , lion , Bird , Snake\",\n",
    " \"subject\": \"Phys , Chem , Maths\",\n",
    " \"year\": \"1964, 1974, 1994, 2064\"}\n",
    "print(mydict)\n",
    "print(type(mydict))\n",
    "print(mydict[\"animal\"])\n",
    "print(mydict[\"subject\"])\n",
    "print(mydict[\"year\"])"
   ]
  },
  {
   "cell_type": "code",
   "execution_count": 1,
   "metadata": {},
   "outputs": [
    {
     "name": "stdout",
     "output_type": "stream",
     "text": [
      "An example of List: [16, 20, 'HEX 0B', 0.23, 22.5, 1964, 'Tiger', 1010, '23/04/2004', 'Birds', 'HEX FF', 11101]\n",
      "Length of the List: 12\n",
      "An example of Tuple: (16, 20, 'HEX 0B', 0.23, 22.5, 1964, 'Tiger', 1010, '23/04/2004', 'Birds', 'HEX FF', 11101)\n",
      "Length of Tuple: 12\n",
      "An example of Set: {0.23, 'HEX 0B', 'Tiger', 1964, 16, 'HEX FF', 1010, 20, 22.5, '23/04/2004', 11101, 'Birds'}\n",
      "Length of Set: 12\n",
      "An example of Dictionary: {'int_num': [16, 20, 1964], 'float_num': [0.23, 22.5], 'string': ['Tiger', '23/04/2004', [9]], 'hex_dec_num': ['HEX 0B', 'HEX FF'], 'bin_num': [1010, 11101]}\n",
      "Length of Dictionary (Grouped Set): 5\n"
     ]
    }
   ],
   "source": [
    "# LIST\n",
    "lst=[16, 20, \"HEX 0B\", 0.23, 22.5, 1964,\"Tiger\", 1010, \"23/04/2004\", \"Birds\", \"HEX FF\",11101]\n",
    "print(\"An example of List:\", lst)\n",
    "print(\"Length of the List:\", len(lst))\n",
    "# TUPLE\n",
    "Tuple=tuple(lst)\n",
    "print(\"An example of Tuple:\",Tuple)\n",
    "print(\"Length of Tuple:\", len(Tuple))\n",
    "#SET\n",
    "Set=set(lst)\n",
    "print(\"An example of Set:\", Set)\n",
    "print(\"Length of Set:\", len(Set))\n",
    "#Dictionary\n",
    "dic={\"int_num\":[lst[0],lst[1],lst[5]],\"float_num\":[lst[3],lst[4]],\"string\":[lst[6],lst[8],[9]],\"hex_dec_num\": [lst[2],lst[10]],\"bin_num\":[lst[7],lst[11]]}\n",
    "print(\"An example of Dictionary:\", dic)\n",
    "print(\"Length of Dictionary (Grouped Set):\",len(dic))"
   ]
  },
  {
   "cell_type": "code",
   "execution_count": null,
   "metadata": {},
   "outputs": [],
   "source": []
  }
 ],
 "metadata": {
  "kernelspec": {
   "display_name": "Python 3",
   "language": "python",
   "name": "python3"
  },
  "language_info": {
   "codemirror_mode": {
    "name": "ipython",
    "version": 3
   },
   "file_extension": ".py",
   "mimetype": "text/x-python",
   "name": "python",
   "nbconvert_exporter": "python",
   "pygments_lexer": "ipython3",
   "version": "3.12.1"
  }
 },
 "nbformat": 4,
 "nbformat_minor": 2
}
