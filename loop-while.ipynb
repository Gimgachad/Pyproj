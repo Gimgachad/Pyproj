{
 "cells": [
  {
   "cell_type": "markdown",
   "id": "19375942",
   "metadata": {},
   "source": [
    "# 0.1 ITERATIVE STATEMENT - WHILE & FOR LOOP"
   ]
  },
  {
   "cell_type": "markdown",
   "id": "bba3656f",
   "metadata": {},
   "source": [
    "## 0.1.1 LOOP statement using WHILE loop"
   ]
  },
  {
   "cell_type": "code",
   "execution_count": null,
   "id": "2f6deeda",
   "metadata": {},
   "outputs": [],
   "source": [
    "i = 1\n",
    "try:\n",
    "    while i != 2:\n",
    "        print(\"Running the infinite WHILE Loop! NEVER run it\")\n",
    "except KeyboardInterrupt:\n",
    "    print('Loop interrupted by user')\n"
   ]
  },
  {
   "cell_type": "code",
   "execution_count": 4,
   "id": "aaba25be",
   "metadata": {},
   "outputs": [
    {
     "name": "stdout",
     "output_type": "stream",
     "text": [
      "Wow, break infinite loop!\n"
     ]
    }
   ],
   "source": [
    "# Program to break infinite WHILE loop\n",
    "i = 1\n",
    "while i!= 2:\n",
    "    print(\"Wow, break infinite loop!\")\n",
    "    break"
   ]
  },
  {
   "cell_type": "code",
   "execution_count": 1,
   "id": "f6b4e6af",
   "metadata": {},
   "outputs": [
    {
     "name": "stdout",
     "output_type": "stream",
     "text": [
      "Stop the infinite loop\n"
     ]
    }
   ],
   "source": [
    "# Program to break 'WHILE Loop' after single iterations\n",
    "i=1\n",
    "while i!=2:\n",
    "    break\n",
    "print(\"Stop the infinite loop\")\n"
   ]
  },
  {
   "cell_type": "code",
   "execution_count": 5,
   "id": "620cdb1b",
   "metadata": {},
   "outputs": [
    {
     "name": "stdout",
     "output_type": "stream",
     "text": [
      "Print numbers up to: 7\n",
      "Okay, running the WHILE Loop for 1 times!\n",
      "Okay, running the WHILE Loop for 2 times!\n",
      "Okay, running the WHILE Loop for 3 times!\n",
      "Okay, running the WHILE Loop for 4 times!\n",
      "Okay, running the WHILE Loop for 5 times!\n",
      "Okay, running the WHILE Loop for 6 times!\n",
      "Okay, running the WHILE Loop for 7 times!\n"
     ]
    }
   ],
   "source": [
    "# Program for 'WHILE Loop' for finite times\n",
    "N = int(input(\"Print numbers up to: \"))\n",
    "print(f\"Print numbers up to: {N}\")\n",
    "i = 0\n",
    "while i <= N - 1:\n",
    "    i+=1    \n",
    "    print(\"Okay, running the WHILE Loop for {} times!\".format(i))\n"
   ]
  },
  {
   "cell_type": "code",
   "execution_count": 8,
   "id": "0b6a8550",
   "metadata": {},
   "outputs": [
    {
     "name": "stdout",
     "output_type": "stream",
     "text": [
      "The entered number is: 4040\n"
     ]
    }
   ],
   "source": [
    "# Program for generic WHILE loop with else\n",
    "num=int(input(\"Enter a number:\")) # Input statement\n",
    "year=2020\n",
    "while num<=100:\n",
    "    year += year\n",
    "    print(\"The entered number is:\", year) # Out statement\n",
    "    break # break to stop multipliation of statement\n",
    "else:\n",
    "    print(\"Sorry I cannot print!\") # Input statement\n",
    "#without the break statement, if the input num is less than or equal to 100, this will result in an infinite loop because the value of num never changes within the loop. The year variable will keep doubling and printing indefinitely. To avoid this, you should include a condition inside the loop to eventually make the while condition False, or use a break statement to exit the loop when a certain condition is met."
   ]
  },
  {
   "cell_type": "code",
   "execution_count": 11,
   "id": "00cb5d0d",
   "metadata": {},
   "outputs": [
    {
     "name": "stdout",
     "output_type": "stream",
     "text": [
      "Enter your Principal amount:50000\n",
      "Enter rate of interest:4.6\n",
      "Enter the no. of year:6\n",
      "Total Simple Interest: 2299.9999999999995\n",
      "Aggregate return after 1 year will be: 52300.0\n",
      "Total Simple Interest: 4599.999999999999\n",
      "Aggregate return after 2 year will be: 54600.0\n",
      "Total Simple Interest: 6899.999999999999\n",
      "Aggregate return after 3 year will be: 56900.0\n",
      "Total Simple Interest: 9199.999999999998\n",
      "Aggregate return after 4 year will be: 59200.0\n",
      "Total Simple Interest: 11499.999999999998\n",
      "Aggregate return after 5 year will be: 61500.0\n",
      "Total Simple Interest: 13799.999999999998\n",
      "Aggregate return after 6 year will be: 63800.0\n"
     ]
    }
   ],
   "source": [
    "# To calculate Simple Interest using WHILE loop\n",
    "prn=int(input(\"Enter your Principal amount:\"))\n",
    "print(f\"Enter your Principal amount:{prn}\")\n",
    "rate=float(input(\"Enter rate of interest:\"))\n",
    "print(f\"Enter rate of interest:{rate}\")\n",
    "year=int(input(\"Enter the no. of year:\"))\n",
    "print(f\"Enter the no. of year:{year}\")\n",
    "time = 1\n",
    "while time <= year:\n",
    "    sim_int=(prn * rate * time)/100\n",
    "    total = prn + sim_int\n",
    "    print(\"Total Simple Interest:\",sim_int)\n",
    "    print(\"Aggregate return after %d year will be:\" %time,total) # $Return = P␣↪+ Total Simple Interest$\n",
    "    time = time + 1"
   ]
  },
  {
   "cell_type": "code",
   "execution_count": 12,
   "id": "ceae2752",
   "metadata": {},
   "outputs": [
    {
     "name": "stdout",
     "output_type": "stream",
     "text": [
      "Enter your Principal amount:5000\n",
      "Enter rate of interest:5.0\n",
      "Compound Interest after 1 year is : 5256.34\n",
      "Aggregate return after 1 year will be: 5256.34\n",
      "Compound Interest after 2 year is : 5525.82\n",
      "Aggregate return after 2 year will be: 5525.82\n",
      "Compound Interest after 3 year is : 5809.11\n",
      "Aggregate return after 3 year will be: 5809.11\n",
      "Compound Interest after 4 year is : 6106.93\n",
      "Aggregate return after 4 year will be: 6106.93\n",
      "Compound Interest after 5 year is : 6420.02\n",
      "Aggregate return after 5 year will be: 6420.02\n"
     ]
    }
   ],
   "source": [
    "prnc=int(input(\"Enter your Principal amount (P):\"))\n",
    "print(f\"Enter your Principal amount:{prnc}\")\n",
    "ratec=float(input(\"Enter rate of interst (R):\"))\n",
    "print(f\"Enter rate of interest:{ratec}\")\n",
    "yearc = 1\n",
    "while yearc <= 5:\n",
    "    comp_int=prnc*(1 + ratec/(100*365))**(365*yearc) - prnc\n",
    "    totalc = prnc + comp_int\n",
    "    print(\"Compound Interest after %d year is :\" %(yearc),round(totalc,2))\n",
    "    print(\"Aggregate return after %d year will be:\" %(yearc),round(totalc,2))\n",
    "    yearc = yearc + 1"
   ]
  },
  {
   "cell_type": "markdown",
   "id": "e0df189a",
   "metadata": {},
   "source": [
    "## 0.1.2 LOOP statement using FOR loop"
   ]
  },
  {
   "cell_type": "code",
   "execution_count": 13,
   "id": "3eb9d3d9",
   "metadata": {},
   "outputs": [
    {
     "name": "stdout",
     "output_type": "stream",
     "text": [
      "22\n",
      "3.1614\n",
      "0\n",
      "Kolkata\n",
      "Tiger\n"
     ]
    }
   ],
   "source": [
    "# An example FOR statement with LIST\n",
    "my_list = [22, 3.1614, 0, \"Kolkata\", \"Tiger\"]\n",
    "for element in my_list:\n",
    "    print(element)\n",
    "#In Python, for and in are used together to create a for loop that iterates over a sequence1.Here’s a breakdown of what the code does:for element in my_list:: This line starts a for loop that iterates over each element in my_list. The variable element is a temporary variable that takes on the value of each element in my_list one by one1"
   ]
  },
  {
   "cell_type": "code",
   "execution_count": 15,
   "id": "27db4f1c",
   "metadata": {},
   "outputs": [
    {
     "name": "stdout",
     "output_type": "stream",
     "text": [
      "Print numbers up to : 7\n",
      "1\n",
      "2\n",
      "3\n",
      "4\n",
      "5\n",
      "6\n",
      "7\n"
     ]
    }
   ],
   "source": [
    "#Statement using 'For Loop'!\n",
    "num=int(input(\"Print numbers up to {} : \".format(num)))\n",
    "print(f\"Print numbers up to : {num}\")\n",
    "for i in range(1,num+1):\n",
    "    print (i)\n",
    "#The Python range() function generates a sequence of numbers starting from the start value (inclusive) and stops before the stop value (exclusive). So, when you use range(1, num+1), it will generate numbers from 1 up to num, not including num+1."
   ]
  },
  {
   "cell_type": "code",
   "execution_count": 2,
   "id": "07f1752e",
   "metadata": {},
   "outputs": [
    {
     "name": "stdout",
     "output_type": "stream",
     "text": [
      "10\n"
     ]
    }
   ],
   "source": [
    "i=0\n",
    "for i in range(0,11):\n",
    "    i+=0\n",
    "print(i)\n",
    "#i=0: This line initializes the variable i to 0.for i in range(0,11):: This line starts a for loop where i takes on values from 0 to 10 (inclusive). The range(0,11) function generates a sequence of numbers from 0 up to, but not including, 11.i+=0: Inside the loop, this line increments i by 0. However, since adding 0 doesn’t change the value of i, this line essentially does nothing.print(i): After the loop has finished executing, this line prints the final value of i to the console.So, in summary, this code will print the number 10, because that’s the final value i takes in the loop2."
   ]
  },
  {
   "cell_type": "code",
   "execution_count": 17,
   "id": "e11898ca",
   "metadata": {},
   "outputs": [
    {
     "name": "stdout",
     "output_type": "stream",
     "text": [
      "Enter the upper limit of the series:10\n",
      "55\n",
      "55\n"
     ]
    }
   ],
   "source": [
    "# Finding sum using FOR loop with augmented operation\n",
    "num=int(input(\"Enter the upper limit of the series\"))\n",
    "print(f\"Enter the upper limit of the series:{num}\")\n",
    "total = 0\n",
    "for i in range(0, num+1):\n",
    "    total += i\n",
    "print(total)\n",
    "# Vearifition\n",
    "print(sum(range(0, num+1)))"
   ]
  },
  {
   "cell_type": "code",
   "execution_count": 1,
   "id": "a56e84d7",
   "metadata": {},
   "outputs": [
    {
     "name": "stdout",
     "output_type": "stream",
     "text": [
      "Obtain multiplication table of:25\n",
      "Enter the upper limit of the series:11\n",
      "25 x 1 = 25\n",
      "25 x 2 = 50\n",
      "25 x 3 = 75\n",
      "25 x 4 = 100\n",
      "25 x 5 = 125\n",
      "25 x 6 = 150\n",
      "25 x 7 = 175\n",
      "25 x 8 = 200\n",
      "25 x 9 = 225\n",
      "25 x 10 = 250\n",
      "25 x 11 = 275\n"
     ]
    }
   ],
   "source": [
    "# Program to generate Multiplication Table using FOR loop\n",
    "current_value=int(input(\"Obtain multiplication table of:\"))\n",
    "print(f\"Obtain multiplication table of:{current_value}\")\n",
    "num=int(input(\"Enter the upper limit of the series\"))\n",
    "print(f\"Enter the upper limit of the series:{num}\")\n",
    "for num in range(1, num+1):\n",
    "    product = num * current_value\n",
    "    print(current_value, \"x\", num, \"=\" , product)\n",
    "#print(\"Job over, exit FOR Loop!\")"
   ]
  },
  {
   "cell_type": "code",
   "execution_count": 2,
   "id": "091aec8f",
   "metadata": {},
   "outputs": [
    {
     "name": "stdout",
     "output_type": "stream",
     "text": [
      "Enter a value of num = 7\n",
      "[1]\n",
      "[1, 4]\n",
      "[1, 4, 9]\n",
      "[1, 4, 9, 16]\n",
      "[1, 4, 9, 16, 25]\n",
      "[1, 4, 9, 16, 25, 36]\n",
      "[1, 4, 9, 16, 25, 36, 49]\n",
      "The series of squared number of 7 is: [1, 4, 9, 16, 25, 36, 49]\n"
     ]
    }
   ],
   "source": [
    "# FOR loop with 'append'\n",
    "total_num=int(input(\"Enter a value of num = \"))\n",
    "print(f\"Enter a value of num = {total_num}\")\n",
    "square = []\n",
    "for value in range(1,total_num+1,1):\n",
    "    #The last 1 in the range() function of your code is the step parameter1.In Python, the range() function can take up to three arguments: start, stop, and step. The step argument is optional and defaults to 1 if not provided1.The step argument determines the increment between each number in the sequence generated by range(). For example, range(1, 10, 2) would generate the numbers 1, 3, 5, 7, 91.In your code, range(1, total_num+1, 1) generates a sequence of numbers starting from 1, ending at total_num+1 (exclusive), with a step of 1. This means it will generate every integer from 1 to total_num1.\n",
    "    square.append(value**2)\n",
    "    print(square)\n",
    "print(\"The series of squared number of %d is:\" %total_num,square)"
   ]
  },
  {
   "cell_type": "code",
   "execution_count": 3,
   "id": "c437e9b6",
   "metadata": {},
   "outputs": [
    {
     "name": "stdout",
     "output_type": "stream",
     "text": [
      "1 V\n",
      "2 I\n",
      "3 B\n",
      "4 G\n",
      "5 Y\n",
      "6 O\n",
      "7 R\n"
     ]
    }
   ],
   "source": [
    "# Zipping of two multiple tuple\n",
    "list1 = (1, 2, 3, 4, 5, 6, 7)\n",
    "list2 = (\"V\", \"I\", \"B\", \"G\", \"Y\", \"O\", \"R\")\n",
    "for i, j in zip(list1, list2):\n",
    "    print(i, j)"
   ]
  },
  {
   "cell_type": "code",
   "execution_count": 4,
   "id": "1a8011ec",
   "metadata": {},
   "outputs": [
    {
     "name": "stdout",
     "output_type": "stream",
     "text": [
      "1 V\n",
      "2 I\n",
      "3 B\n",
      "4 G\n",
      "5 Y\n",
      "6 O\n",
      "7 R\n"
     ]
    }
   ],
   "source": [
    " # Zipping of two multiple lIST\n",
    "list1 = [1, 2, 3, 4, 5, 6, 7]\n",
    "list2 = [\"V\", \"I\", \"B\", \"G\", \"Y\", \"O\", \"R\"]\n",
    "for i, j in zip(list1, list2):\n",
    "    print(i, j)"
   ]
  },
  {
   "cell_type": "code",
   "execution_count": 5,
   "id": "2b1d0f75",
   "metadata": {},
   "outputs": [
    {
     "name": "stdout",
     "output_type": "stream",
     "text": [
      "1 Y\n",
      "2 V\n",
      "3 O\n",
      "4 B\n",
      "5 G\n",
      "6 I\n",
      "7 R\n"
     ]
    }
   ],
   "source": [
    "# Zipping of two multiple SET\n",
    "list1 = {1, 2, 3, 4, 5, 6, 7}\n",
    "list2 = {\"V\", \"I\", \"B\", \"G\", \"Y\", \"O\", \"R\"}\n",
    "for i, j in zip(list1, list2):\n",
    "    print(i, j)\n",
    "#The reason the output of this code is not sequential like the previous one is because you’re using sets ({}) instead of lists ([]) or tuples (()) for list1 and list212.In Python, a set is an unordered collection of unique elements1. This means that sets do not maintain the order in which elements are added; instead, they are stored in a manner that optimizes lookup times1.When you use the zip() function with sets, it pairs elements based on the order in which they are stored in the set, not the order in which they were added"
   ]
  },
  {
   "cell_type": "code",
   "execution_count": 6,
   "id": "c2f8a437",
   "metadata": {},
   "outputs": [
    {
     "name": "stdout",
     "output_type": "stream",
     "text": [
      "Series for m = 1\n",
      "Series for m = 2\n",
      "Series for m = 3\n",
      "Wavelength 954.6697605038536  nm\n"
     ]
    }
   ],
   "source": [
    "# Rydberg constant (Newman)\n",
    "R = 1.097e-2\n",
    "for m in [1,2,3]:\n",
    "    print(\"Series for m =\",m)\n",
    "    for k in [1,2,3,4,5]:\n",
    "        n = m + k\n",
    "invlambda=R*(1/m**2-1/n**2)\n",
    "print(\"Wavelength\",1/invlambda,\" nm\")"
   ]
  },
  {
   "cell_type": "markdown",
   "id": "c76de984",
   "metadata": {},
   "source": [
    "## 0.1.3 CONDITONAL Statement using IF-ELIF-ELSE"
   ]
  },
  {
   "cell_type": "code",
   "execution_count": 7,
   "id": "5b8f63ae",
   "metadata": {},
   "outputs": [
    {
     "name": "stdout",
     "output_type": "stream",
     "text": [
      "Enter your subject:Mathematics\n",
      "I am not interested!\n"
     ]
    }
   ],
   "source": [
    "# Statement with if-else\n",
    "mysubject=input(\"Enter your subject:\")\n",
    "print(f\"Enter your subject:{mysubject}\")\n",
    "if mysubject==[\"Python\"]:\n",
    "    print(\"Okay, I shall take the course on\", mysubject)\n",
    "else:\n",
    "    print(\"I am not interested!\")"
   ]
  },
  {
   "cell_type": "code",
   "execution_count": 8,
   "id": "b525c507",
   "metadata": {},
   "outputs": [
    {
     "name": "stdout",
     "output_type": "stream",
     "text": [
      "Enter your subject:Physics\n",
      "Okay, I shall take the course on Physics\n"
     ]
    }
   ],
   "source": [
    "# Statement with if-else\n",
    "mysubject = input(\"Enter your subject: \")\n",
    "print(f\"Enter your subject:{mysubject}\")\n",
    "if mysubject in [\"Python\", \"Physics\", \"Mathematics\"]:\n",
    "    print(\"Okay, I shall take the course on\", mysubject)\n",
    "else:\n",
    "    print(\"I am not interested!\")"
   ]
  },
  {
   "cell_type": "code",
   "execution_count": 10,
   "id": "abf7b89c",
   "metadata": {},
   "outputs": [
    {
     "name": "stdout",
     "output_type": "stream",
     "text": [
      "Enter a number:20\n",
      "factorial of 20 is: 2432902008176640000\n"
     ]
    }
   ],
   "source": [
    "# Factorial of a number using builtin MATH library module\n",
    "from math import factorial\n",
    "num=int(input(\"Enter a number:\"))\n",
    "print(f\"Enter a number:{num}\")\n",
    "print(\"factorial of %d is:\"%num,factorial(num))"
   ]
  },
  {
   "cell_type": "code",
   "execution_count": 6,
   "id": "a968e850",
   "metadata": {},
   "outputs": [
    {
     "name": "stdout",
     "output_type": "stream",
     "text": [
      "The factorial of the number 5 is: 120\n"
     ]
    }
   ],
   "source": [
    "# Factorial of a number\n",
    "num = int(input(\"Enter a number: \"))\n",
    "def factorial(n):\n",
    "    if n == 0 or n == 1:\n",
    "        return 1\n",
    "    else:\n",
    "        return n * factorial(n - 1)\n",
    "my_result = factorial(num)\n",
    "print(f\"The factorial of the number {num} is: {my_result}\")"
   ]
  },
  {
   "cell_type": "code",
   "execution_count": 14,
   "id": "bd16ae3a",
   "metadata": {},
   "outputs": [
    {
     "name": "stdout",
     "output_type": "stream",
     "text": [
      "The factorial of the number 5 is: 120\n"
     ]
    }
   ],
   "source": [
    "# Factorial of a number\n",
    "num = int(input(\"Enter a number:\"))\n",
    "if num < 0:\n",
    "    print(\"The factorial does not exist!\")\n",
    "elif num == 0:\n",
    "    print(\"The factorial of 0 is:\", 1)\n",
    "else:\n",
    "    factorial_result = 1\n",
    "    for i in range(2, num + 1):\n",
    "        factorial_result *= i\n",
    "print(f\"The factorial of the number {num} is: {factorial_result}\")"
   ]
  },
  {
   "cell_type": "code",
   "execution_count": 15,
   "id": "c54f18bf",
   "metadata": {},
   "outputs": [
    {
     "name": "stdout",
     "output_type": "stream",
     "text": [
      "Please enter your percentage of mark:67\n",
      "Cheers! You have got 1st Division!\n"
     ]
    }
   ],
   "source": [
    "# Program with IF-ELIF-ELSE with logical structure\n",
    "i=int(input(\"Please enter your percentage of mark:\"))\n",
    "print(f\"Please enter your percentage of mark:{i}\")\n",
    "if (i > 60):\n",
    "    print(\"Cheers! You have got 1st Division!\")\n",
    "elif (40<i<60):\n",
    "    print(\"You have got 2nd Division!\")\n",
    "elif (30<i<40):\n",
    "    print(\"Oh! You have got 3rd Division!\")\n",
    "else:\n",
    "    print(\"Sorry! You have failed!\")"
   ]
  },
  {
   "cell_type": "code",
   "execution_count": 16,
   "id": "d2592b4c",
   "metadata": {},
   "outputs": [
    {
     "name": "stdout",
     "output_type": "stream",
     "text": [
      "Are you a student of this college?:no\n",
      "Do you belong to CS Department of that college?:no\n",
      "Do you have maths as your combination subject?:no\n",
      "Sorry! you are not allowed to attend this course!\n"
     ]
    }
   ],
   "source": [
    " # Program with multiple IF-ELIF-ELSE conditions\n",
    "criterion1 = input(\"Are you a student of this college?:\" )\n",
    "print(f\"Are you a student of this college?:{criterion1}\")\n",
    "criterion2 = input(\"Do you belong to CS Department of that college?:\")\n",
    "print(f\"Do you belong to CS Department of that college?:{criterion2}\")\n",
    "criterion3 = input(\"Do you have maths as your combination subject?:\")\n",
    "print(f\"Do you have maths as your combination subject?:{criterion3}\")\n",
    "if (criterion1 == \"yes\" and criterion2 ==\"yes\" and criterion3 ==\"yes\"):\n",
    "    print(\"Welcome, you are welcome to attend this course free!\")\n",
    "elif (criterion1 == \"yes\" and criterion2 ==\"no\" and criterion3 ==\"yes\"):\n",
    "    print(\"You are allowed to attend this course with Registration Fee Rs 500 only!\")\n",
    "elif (criterion1 ==\"yes\" and criterion2 ==\"no\" and criterion3 ==\"no\"):\n",
    "    print(\"Sorry! you are selected to attend a few lectures only!\")\n",
    "else:\n",
    "    print(\"Sorry! you are not allowed to attend this course!\")"
   ]
  },
  {
   "cell_type": "code",
   "execution_count": 17,
   "id": "37ac6407",
   "metadata": {},
   "outputs": [
    {
     "name": "stdout",
     "output_type": "stream",
     "text": [
      "Please enter 1st number:65\n",
      "Please enter 2nd number:32\n",
      "x is greater than y\n"
     ]
    }
   ],
   "source": [
    "# More input based if-elif-else statement\n",
    "x = int(input(\"Please enter 1st number:\\n\"))\n",
    "y = int(input(\"Please enter 2nd number:\\n\"))\n",
    "print(f\"Please enter 1st number:{x}\")\n",
    "print(f\"Please enter 2nd number:{y}\")\n",
    "if (x == y):\n",
    "    print(\"x is equal to y\")\n",
    "#elif (x!=y):\n",
    "# print(\"Hey\")\n",
    "elif (x > y):\n",
    "    print(\"x is greater than y\")\n",
    "else:\n",
    "    print(\"x is less than y\")"
   ]
  },
  {
   "cell_type": "code",
   "execution_count": 18,
   "id": "0d4e47b4",
   "metadata": {},
   "outputs": [
    {
     "name": "stdout",
     "output_type": "stream",
     "text": [
      "If the temparature is 5\n",
      "The weather condition is cold!\n"
     ]
    }
   ],
   "source": [
    "# If-elif-else with PASS statement\n",
    "temperature=int(input(\"If the temparature is \"))\n",
    "print(f\"If the temparature is {temperature}\")\n",
    "if temperature<10:\n",
    "    print ('The weather condition is cold!')\n",
    "elif temperature>10:\n",
    "    print(\"The whether is friendly\")\n",
    "    pass # code to be inserted later\n",
    "else:\n",
    "    pass # code to be inserted later"
   ]
  },
  {
   "cell_type": "code",
   "execution_count": 19,
   "id": "b06ca6b3",
   "metadata": {},
   "outputs": [
    {
     "name": "stdout",
     "output_type": "stream",
     "text": [
      "There are 2 roots: -0.043897 and -4.556103\n"
     ]
    }
   ],
   "source": [
    "# To solve quadratic equation (a * xˆ2) + b*x + c=0)\n",
    "from math import sqrt\n",
    "a = float(input(\"Enter the cofficient of quadratic term (a): \"))\n",
    "b = float(input(\"Enter the cofficient of linear term (b): \"))\n",
    "c = float(input(\"Enter the constant term (c): \"))\n",
    "disc = b**2 - 4*a*c\n",
    "if disc > 0:\n",
    "    x1 = (((-b) + sqrt(disc))/(2*a))\n",
    "    x2 = (((-b) - sqrt(disc))/(2*a))\n",
    "    print(\"There are 2 roots: %f and %f\" % (x1, x2))\n",
    "elif disc == 0:\n",
    "    x = (-b) / 2*a\n",
    "    print(\"There is one root: \", x)\n",
    "else:\n",
    "    print(\"Sorry! No roots , discriminant < 0.\")"
   ]
  },
  {
   "cell_type": "code",
   "execution_count": 20,
   "id": "3aeebcc4",
   "metadata": {},
   "outputs": [
    {
     "name": "stdout",
     "output_type": "stream",
     "text": [
      "Enter an integer= 7\n",
      "This is an odd number\n"
     ]
    }
   ],
   "source": [
    "x=int(input(\"Enter an integer=\"))\n",
    "print(f\"Enter an integer= {x}\")\n",
    "if x%2==0:\n",
    "    print(\"This is an even number\")\n",
    "else:\n",
    "    print(\"This is an odd number\")"
   ]
  },
  {
   "cell_type": "markdown",
   "id": "e0d7d119",
   "metadata": {},
   "source": [
    "## 0.1.4 Statement with WHILE-IF, FOR-IF etc"
   ]
  },
  {
   "cell_type": "code",
   "execution_count": 21,
   "id": "a61ab12e",
   "metadata": {},
   "outputs": [
    {
     "name": "stdout",
     "output_type": "stream",
     "text": [
      "0\n",
      "1\n",
      "2\n",
      "3\n",
      "4\n"
     ]
    }
   ],
   "source": [
    " # Program to 'break' infinite WHILE loop\n",
    "i = 0\n",
    "while i <= 10:\n",
    "    print(i)\n",
    "    i+=1\n",
    "    if (i==5):\n",
    "        break"
   ]
  },
  {
   "cell_type": "code",
   "execution_count": 22,
   "id": "5df677ec",
   "metadata": {},
   "outputs": [
    {
     "name": "stdout",
     "output_type": "stream",
     "text": [
      "1\n",
      "2\n",
      "4\n",
      "5\n",
      "7\n",
      "8\n",
      "10\n",
      "11\n"
     ]
    }
   ],
   "source": [
    "# Program to break infinite WHILE-IF loop with missing value (Jumping statement)\n",
    "i = 0\n",
    "while i <= 10:\n",
    "    # print(\"Finite loop with 3,6,9 missing!\",i)\n",
    "    i+=1\n",
    "    if (i==3 or i==6 or i==9):\n",
    "        continue\n",
    "    print(i)"
   ]
  },
  {
   "cell_type": "code",
   "execution_count": 23,
   "id": "801afcb8",
   "metadata": {},
   "outputs": [
    {
     "name": "stdout",
     "output_type": "stream",
     "text": [
      "Enter a number:5\n",
      "5 x 1 = 5\n",
      "5 x 2 = 10\n",
      "5 x 3 = 15\n",
      "5 x 4 = 20\n",
      "5 x 5 = 25\n",
      "Exit the table after the current value becomes: 5\n"
     ]
    }
   ],
   "source": [
    "num=int(input(\"Enter a number:\")) # Input statement\n",
    "print(f\"Enter a number:{num}\")\n",
    "current_value=0\n",
    "while current_value<=num:\n",
    "    current_value += 1\n",
    "    product = num * current_value\n",
    "    print(num, \"x\", current_value, \"=\" , product)\n",
    "    if (current_value == 5):\n",
    "        print(\"Exit the table after the current value becomes:\",current_value)\n",
    "        break"
   ]
  },
  {
   "cell_type": "code",
   "execution_count": 24,
   "id": "f4c75319",
   "metadata": {},
   "outputs": [
    {
     "name": "stdout",
     "output_type": "stream",
     "text": [
      "Finding divisible of 5 in a list\n",
      "10\n",
      "20\n",
      "55\n"
     ]
    }
   ],
   "source": [
    "def findDivisible(numberList):\n",
    "    for num in numberList:\n",
    "        if (num % 5 == 0):\n",
    "            print(num)\n",
    "numList = [10, 20, 33, 46, 55]\n",
    "print(\"Finding divisible of 5 in a list\")\n",
    "findDivisible(numList)"
   ]
  },
  {
   "cell_type": "code",
   "execution_count": 25,
   "id": "d8ad058c",
   "metadata": {},
   "outputs": [
    {
     "name": "stdout",
     "output_type": "stream",
     "text": [
      "[1, 2, 3, 4, 5, 6, 7, 8, 9, 10]\n",
      "18\n"
     ]
    }
   ],
   "source": [
    "rlst= list(range(1, 11))\n",
    "print(rlst)\n",
    "total = 0\n",
    "for i in range(1, 11):\n",
    "    if i % 3 == 0:\n",
    "        total += i\n",
    "print(total)"
   ]
  },
  {
   "cell_type": "code",
   "execution_count": 26,
   "id": "b3d4f4af",
   "metadata": {},
   "outputs": [
    {
     "name": "stdout",
     "output_type": "stream",
     "text": [
      "Factors of 525 are : [1, 3, 5, 7, 15, 21, 25, 35, 75, 105, 175, 525]\n"
     ]
    }
   ],
   "source": [
    "# FOR-IF loop with 'append'\n",
    "num=int(input(\"Enter a number:\"))\n",
    "factors=[]\n",
    "for i in range(1,num+1):\n",
    "    if num%i==0:\n",
    "        factors.append(i)\n",
    "print (\"Factors of {} are : {}\".format(num,factors))"
   ]
  },
  {
   "cell_type": "code",
   "execution_count": 27,
   "id": "3b429c94",
   "metadata": {},
   "outputs": [
    {
     "ename": "",
     "evalue": "",
     "output_type": "error",
     "traceback": [
      "\u001b[1;31mThe Kernel crashed while executing code in the the current cell or a previous cell. Please review the code in the cell(s) to identify a possible cause of the failure. Click <a href='https://aka.ms/vscodeJupyterKernelCrash'>here</a> for more info. View Jupyter <a href='command:jupyter.viewOutput'>log</a> for further details."
     ]
    }
   ],
   "source": [
    "quit()"
   ]
  },
  {
   "cell_type": "code",
   "execution_count": null,
   "id": "1ff68954",
   "metadata": {},
   "outputs": [],
   "source": []
  }
 ],
 "metadata": {
  "kernelspec": {
   "display_name": "Python 3",
   "language": "python",
   "name": "python3"
  },
  "language_info": {
   "codemirror_mode": {
    "name": "ipython",
    "version": 3
   },
   "file_extension": ".py",
   "mimetype": "text/x-python",
   "name": "python",
   "nbconvert_exporter": "python",
   "pygments_lexer": "ipython3",
   "version": "3.12.1"
  }
 },
 "nbformat": 4,
 "nbformat_minor": 5
}
