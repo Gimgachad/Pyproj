{
 "cells": [
  {
   "cell_type": "code",
   "execution_count": 2,
   "id": "dd7f9614-4c3a-474e-b568-bd7a935e8b13",
   "metadata": {},
   "outputs": [
    {
     "name": "stdout",
     "output_type": "stream",
     "text": [
      "Hello World\n"
     ]
    }
   ],
   "source": [
    "print(\"Hello World\");"
   ]
  },
  {
   "cell_type": "code",
   "execution_count": 1,
   "id": "f1c482ea-b505-4766-b2bb-bb5af750f8b2",
   "metadata": {},
   "outputs": [
    {
     "name": "stdout",
     "output_type": "stream",
     "text": [
      "Package                   Version"
     ]
    },
    {
     "name": "stderr",
     "output_type": "stream",
     "text": [
      "\n",
      "[notice] A new release of pip is available: 23.2.1 -> 23.3.2\n",
      "[notice] To update, run: python.exe -m pip install --upgrade pip\n"
     ]
    },
    {
     "name": "stdout",
     "output_type": "stream",
     "text": [
      "\n",
      "------------------------- ----------\n",
      "anyio                     4.2.0\n",
      "argon2-cffi               23.1.0\n",
      "argon2-cffi-bindings      21.2.0\n",
      "arrow                     1.3.0\n",
      "asttokens                 2.4.1\n",
      "async-lru                 2.0.4\n",
      "attrs                     23.1.0\n",
      "Babel                     2.14.0\n",
      "beautifulsoup4            4.12.2\n",
      "bleach                    6.1.0\n",
      "certifi                   2023.11.17\n",
      "cffi                      1.16.0\n",
      "charset-normalizer        3.3.2\n",
      "colorama                  0.4.6\n",
      "comm                      0.2.0\n",
      "debugpy                   1.8.0\n",
      "decorator                 5.1.1\n",
      "defusedxml                0.7.1\n",
      "executing                 2.0.1\n",
      "fastjsonschema            2.19.0\n",
      "fqdn                      1.5.1\n",
      "idna                      3.6\n",
      "ipykernel                 6.27.1\n",
      "ipython                   8.19.0\n",
      "ipywidgets                8.1.1\n",
      "isoduration               20.11.0\n",
      "jedi                      0.19.1\n",
      "Jinja2                    3.1.2\n",
      "json5                     0.9.14\n",
      "jsonpointer               2.4\n",
      "jsonschema                4.20.0\n",
      "jsonschema-specifications 2023.11.2\n",
      "jupyter                   1.0.0\n",
      "jupyter_client            8.6.0\n",
      "jupyter-console           6.6.3\n",
      "jupyter_core              5.5.1\n",
      "jupyter-events            0.9.0\n",
      "jupyter-lsp               2.2.1\n",
      "jupyter_server            2.12.1\n",
      "jupyter_server_terminals  0.5.0\n",
      "jupyterlab                4.0.9\n",
      "jupyterlab_pygments       0.3.0\n",
      "jupyterlab_server         2.25.2\n",
      "jupyterlab-widgets        3.0.9\n",
      "MarkupSafe                2.1.3\n",
      "matplotlib-inline         0.1.6\n",
      "mistune                   3.0.2\n",
      "nbclient                  0.9.0\n",
      "nbconvert                 7.13.1\n",
      "nbformat                  5.9.2\n",
      "nest-asyncio              1.5.8\n",
      "notebook                  7.0.6\n",
      "notebook_shim             0.2.3\n",
      "overrides                 7.4.0\n",
      "packaging                 23.2\n",
      "pandocfilters             1.5.0\n",
      "parso                     0.8.3\n",
      "pip                       23.2.1\n",
      "platformdirs              4.1.0\n",
      "prometheus-client         0.19.0\n",
      "prompt-toolkit            3.0.43\n",
      "psutil                    5.9.7\n",
      "pure-eval                 0.2.2\n",
      "pycparser                 2.21\n",
      "Pygments                  2.17.2\n",
      "python-dateutil           2.8.2\n",
      "python-json-logger        2.0.7\n",
      "pywin32                   306\n",
      "pywinpty                  2.0.12\n",
      "PyYAML                    6.0.1\n",
      "pyzmq                     25.1.2\n",
      "qtconsole                 5.5.1\n",
      "QtPy                      2.4.1\n",
      "referencing               0.32.0\n",
      "requests                  2.31.0\n",
      "rfc3339-validator         0.1.4\n",
      "rfc3986-validator         0.1.1\n",
      "rpds-py                   0.15.2\n",
      "Send2Trash                1.8.2\n",
      "six                       1.16.0\n",
      "sniffio                   1.3.0\n",
      "soupsieve                 2.5\n",
      "stack-data                0.6.3\n",
      "terminado                 0.18.0\n",
      "tinycss2                  1.2.1\n",
      "tornado                   6.4\n",
      "traitlets                 5.14.0\n",
      "types-python-dateutil     2.8.19.14\n",
      "uri-template              1.3.0\n",
      "urllib3                   2.1.0\n",
      "wcwidth                   0.2.12\n",
      "webcolors                 1.13\n",
      "webencodings              0.5.1\n",
      "websocket-client          1.7.0\n",
      "widgetsnbextension        4.0.9\n"
     ]
    }
   ],
   "source": [
    "!pip list"
   ]
  },
  {
   "cell_type": "code",
   "execution_count": 2,
   "id": "07664add-06f6-4045-8418-fa9d0f6cc304",
   "metadata": {},
   "outputs": [
    {
     "name": "stdout",
     "output_type": "stream",
     "text": [
      "Package                   Version\n",
      "------------------------- ----------\n",
      "anyio                     4.2.0\n",
      "argon2-cffi               23.1.0\n",
      "argon2-cffi-bindings      21.2.0\n",
      "arrow                     1.3.0\n",
      "asttokens                 2.4.1\n",
      "async-lru                 2.0.4\n",
      "attrs                     23.1.0\n",
      "Babel                     2.14.0\n",
      "beautifulsoup4            4.12.2\n",
      "bleach                    6.1.0\n",
      "certifi                   2023.11.17\n",
      "cffi                      1.16.0\n",
      "charset-normalizer        3.3.2\n",
      "colorama                  0.4.6\n",
      "comm                      0.2.0\n",
      "debugpy                   1.8.0\n",
      "decorator                 5.1.1\n",
      "defusedxml                0.7.1\n",
      "executing                 2.0.1\n",
      "fastjsonschema            2.19.0\n",
      "fqdn                      1.5.1\n",
      "idna                      3.6\n",
      "ipykernel                 6.27.1\n",
      "ipython                   8.19.0\n",
      "ipywidgets                8.1.1\n",
      "isoduration               20.11.0\n",
      "jedi                      0.19.1\n",
      "Jinja2                    3.1.2\n",
      "json5                     0.9.14\n",
      "jsonpointer               2.4\n",
      "jsonschema                4.20.0\n",
      "jsonschema-specifications 2023.11.2\n",
      "jupyter                   1.0.0\n",
      "jupyter_client            8.6.0\n",
      "jupyter-console           6.6.3\n",
      "jupyter_core              5.5.1\n",
      "jupyter-events            0.9.0\n",
      "jupyter-lsp               2.2.1\n",
      "jupyter_server            2.12.1\n",
      "jupyter_server_terminals  0.5.0\n",
      "jupyterlab                4.0.9\n",
      "jupyterlab_pygments       0.3.0\n",
      "jupyterlab_server         2.25.2\n",
      "jupyterlab-widgets        3.0.9\n",
      "MarkupSafe                2.1.3\n",
      "matplotlib-inline         0.1.6\n",
      "mistune                   3.0.2\n",
      "nbclient                  0.9.0\n",
      "nbconvert                 7.13.1\n",
      "nbformat                  5.9.2\n",
      "nest-asyncio              1.5.8\n",
      "notebook                  7.0.6\n",
      "notebook_shim             0.2.3\n",
      "overrides                 7.4.0\n",
      "packaging                 23.2\n",
      "pandocfilters             1.5.0\n",
      "parso                     0.8.3\n",
      "pip                       23.2.1\n",
      "platformdirs              4.1.0\n",
      "prometheus-client         0.19.0\n",
      "prompt-toolkit            3.0.43\n",
      "psutil                    5.9.7\n",
      "pure-eval                 0.2.2\n",
      "pycparser                 2.21\n",
      "Pygments                  2.17.2\n",
      "python-dateutil           2.8.2\n",
      "python-json-logger        2.0.7\n",
      "pywin32                   306\n",
      "pywinpty                  2.0.12\n",
      "PyYAML                    6.0.1\n",
      "pyzmq                     25.1.2\n",
      "qtconsole                 5.5.1\n",
      "QtPy                      2.4.1\n",
      "referencing               0.32.0\n",
      "requests                  2.31.0\n",
      "rfc3339-validator         0.1.4\n",
      "rfc3986-validator         0.1.1\n",
      "rpds-py                   0.15.2\n",
      "Send2Trash                1.8.2\n",
      "six                       1.16.0\n",
      "sniffio                   1.3.0\n",
      "soupsieve                 2.5\n",
      "stack-data                0.6.3\n",
      "terminado                 0.18.0\n",
      "tinycss2                  1.2.1\n",
      "tornado                   6.4\n",
      "traitlets                 5.14.0\n",
      "types-python-dateutil     2.8.19.14\n",
      "uri-template              1.3.0\n",
      "urllib3                   2.1.0\n",
      "wcwidth                   0.2.12\n",
      "webcolors                 1.13\n",
      "webencodings              0.5.1\n",
      "websocket-client          1.7.0\n",
      "widgetsnbextension        4.0.9\n"
     ]
    },
    {
     "name": "stderr",
     "output_type": "stream",
     "text": [
      "\n",
      "[notice] A new release of pip is available: 23.2.1 -> 23.3.2\n",
      "[notice] To update, run: python.exe -m pip install --upgrade pip\n"
     ]
    }
   ],
   "source": [
    "!pip list o"
   ]
  },
  {
   "cell_type": "code",
   "execution_count": 3,
   "id": "1f8c76ce-dcbc-4ae3-9571-9159ef437097",
   "metadata": {},
   "outputs": [
    {
     "name": "stdout",
     "output_type": "stream",
     "text": [
      "Package Version Latest Type\n",
      "------- ------- ------ -----\n",
      "pip     23.2.1  23.3.2 wheel\n"
     ]
    },
    {
     "name": "stderr",
     "output_type": "stream",
     "text": [
      "\n",
      "[notice] A new release of pip is available: 23.2.1 -> 23.3.2\n",
      "[notice] To update, run: python.exe -m pip install --upgrade pip\n"
     ]
    }
   ],
   "source": [
    "!pip list -o"
   ]
  },
  {
   "cell_type": "code",
   "execution_count": 4,
   "id": "8d97da9a-19d5-4585-9597-1d19e23ba264",
   "metadata": {},
   "outputs": [
    {
     "name": "stdout",
     "output_type": "stream",
     "text": [
      "Requirement already satisfied: pip in c:\\users\\prith\\appdata\\local\\programs\\python\\python312\\lib\\site-packages (23.2.1)\n"
     ]
    },
    {
     "name": "stderr",
     "output_type": "stream",
     "text": [
      "\n",
      "[notice] A new release of pip is available: 23.2.1 -> 23.3.2\n",
      "[notice] To update, run: python.exe -m pip install --upgrade pip\n"
     ]
    }
   ],
   "source": [
    "!pip install pip"
   ]
  },
  {
   "cell_type": "code",
   "execution_count": 7,
   "id": "c1d81ed2-1848-42cd-95f2-c878263b1b6b",
   "metadata": {},
   "outputs": [
    {
     "ename": "SyntaxError",
     "evalue": "invalid syntax (3125478474.py, line 1)",
     "output_type": "error",
     "traceback": [
      "\u001b[1;36m  Cell \u001b[1;32mIn[7], line 1\u001b[1;36m\u001b[0m\n\u001b[1;33m    python.exe -m !pip install --upgrade !pip\u001b[0m\n\u001b[1;37m                  ^\u001b[0m\n\u001b[1;31mSyntaxError\u001b[0m\u001b[1;31m:\u001b[0m invalid syntax\n"
     ]
    }
   ],
   "source": [
    "python.exe -m !pip install --upgrade !pip"
   ]
  },
  {
   "cell_type": "code",
   "execution_count": 8,
   "id": "e86cf505-614f-4142-94aa-276bbdfcc2e8",
   "metadata": {},
   "outputs": [
    {
     "name": "stdout",
     "output_type": "stream",
     "text": [
      "Requirement already satisfied: pip in c:\\users\\prith\\appdata\\local\\programs\\python\\python312\\lib\\site-packages (23.2.1)\n",
      "Collecting pip\n",
      "  Obtaining dependency information for pip from https://files.pythonhosted.org/packages/15/aa/3f4c7bcee2057a76562a5b33ecbd199be08cdb4443a02e26bd2c3cf6fc39/pip-23.3.2-py3-none-any.whl.metadata\n",
      "  Using cached pip-23.3.2-py3-none-any.whl.metadata (3.5 kB)\n",
      "Using cached pip-23.3.2-py3-none-any.whl (2.1 MB)\n"
     ]
    },
    {
     "name": "stderr",
     "output_type": "stream",
     "text": [
      "ERROR: To modify pip, please run the following command:\n",
      "C:\\Users\\Prith\\AppData\\Local\\Programs\\Python\\Python312\\python.exe -m pip install --upgrade pip\n",
      "\n",
      "[notice] A new release of pip is available: 23.2.1 -> 23.3.2\n",
      "[notice] To update, run: python.exe -m pip install --upgrade pip\n"
     ]
    }
   ],
   "source": [
    "!pip install --upgrade pip"
   ]
  },
  {
   "cell_type": "code",
   "execution_count": 9,
   "id": "1a6ecff1-5528-41a3-843f-07459d230942",
   "metadata": {},
   "outputs": [
    {
     "name": "stdout",
     "output_type": "stream",
     "text": [
      "Collecting numpy\n",
      "  Obtaining dependency information for numpy from https://files.pythonhosted.org/packages/28/75/3b679b41713bb60e2e8f6e2f87be72c971c9e718b1c17b8f8749240ddca8/numpy-1.26.2-cp312-cp312-win_amd64.whl.metadata\n",
      "  Downloading numpy-1.26.2-cp312-cp312-win_amd64.whl.metadata (61 kB)\n",
      "     ---------------------------------------- 0.0/61.2 kB ? eta -:--:--\n",
      "     ------------ ------------------------- 20.5/61.2 kB 640.0 kB/s eta 0:00:01\n",
      "     ------------------- ------------------ 30.7/61.2 kB 330.3 kB/s eta 0:00:01\n",
      "     ------------------------- ------------ 41.0/61.2 kB 326.8 kB/s eta 0:00:01\n",
      "     -------------------------------------- 61.2/61.2 kB 326.7 kB/s eta 0:00:00\n",
      "Downloading numpy-1.26.2-cp312-cp312-win_amd64.whl (15.5 MB)\n",
      "   ---------------------------------------- 0.0/15.5 MB ? eta -:--:--\n",
      "   ---------------------------------------- 0.0/15.5 MB 1.9 MB/s eta 0:00:09\n",
      "   ---------------------------------------- 0.1/15.5 MB 648.1 kB/s eta 0:00:24\n",
      "   ---------------------------------------- 0.1/15.5 MB 655.4 kB/s eta 0:00:24\n",
      "   ---------------------------------------- 0.1/15.5 MB 774.0 kB/s eta 0:00:20\n",
      "    --------------------------------------- 0.2/15.5 MB 827.9 kB/s eta 0:00:19\n",
      "    --------------------------------------- 0.2/15.5 MB 835.2 kB/s eta 0:00:19\n",
      "    --------------------------------------- 0.3/15.5 MB 1.0 MB/s eta 0:00:15\n",
      "   - -------------------------------------- 0.4/15.5 MB 1.0 MB/s eta 0:00:15\n",
      "   - -------------------------------------- 0.4/15.5 MB 1.0 MB/s eta 0:00:15\n",
      "   - -------------------------------------- 0.4/15.5 MB 879.6 kB/s eta 0:00:18\n",
      "   - -------------------------------------- 0.4/15.5 MB 879.6 kB/s eta 0:00:18\n",
      "   - -------------------------------------- 0.5/15.5 MB 827.7 kB/s eta 0:00:19\n",
      "   - -------------------------------------- 0.5/15.5 MB 831.2 kB/s eta 0:00:19\n",
      "   - -------------------------------------- 0.5/15.5 MB 814.7 kB/s eta 0:00:19\n",
      "   - -------------------------------------- 0.6/15.5 MB 853.3 kB/s eta 0:00:18\n",
      "   - -------------------------------------- 0.6/15.5 MB 854.5 kB/s eta 0:00:18\n",
      "   - -------------------------------------- 0.7/15.5 MB 868.9 kB/s eta 0:00:18\n",
      "   - -------------------------------------- 0.7/15.5 MB 881.7 kB/s eta 0:00:17\n",
      "   -- ------------------------------------- 0.8/15.5 MB 952.6 kB/s eta 0:00:16\n",
      "   -- ------------------------------------- 0.9/15.5 MB 965.4 kB/s eta 0:00:16\n",
      "   -- ------------------------------------- 1.0/15.5 MB 987.5 kB/s eta 0:00:15\n",
      "   -- ------------------------------------- 1.0/15.5 MB 993.4 kB/s eta 0:00:15\n",
      "   -- ------------------------------------- 1.0/15.5 MB 978.0 kB/s eta 0:00:15\n",
      "   -- ------------------------------------- 1.1/15.5 MB 1.0 MB/s eta 0:00:15\n",
      "   --- ------------------------------------ 1.2/15.5 MB 1.1 MB/s eta 0:00:14\n",
      "   --- ------------------------------------ 1.3/15.5 MB 1.1 MB/s eta 0:00:14\n",
      "   --- ------------------------------------ 1.4/15.5 MB 1.1 MB/s eta 0:00:14\n",
      "   --- ------------------------------------ 1.4/15.5 MB 1.1 MB/s eta 0:00:13\n",
      "   --- ------------------------------------ 1.5/15.5 MB 1.1 MB/s eta 0:00:13\n",
      "   ---- ----------------------------------- 1.6/15.5 MB 1.1 MB/s eta 0:00:13\n",
      "   ---- ----------------------------------- 1.7/15.5 MB 1.2 MB/s eta 0:00:12\n",
      "   ---- ----------------------------------- 1.7/15.5 MB 1.2 MB/s eta 0:00:12\n",
      "   ---- ----------------------------------- 1.8/15.5 MB 1.2 MB/s eta 0:00:12\n",
      "   ---- ----------------------------------- 1.9/15.5 MB 1.2 MB/s eta 0:00:12\n",
      "   ----- ---------------------------------- 2.0/15.5 MB 1.2 MB/s eta 0:00:11\n",
      "   ----- ---------------------------------- 2.0/15.5 MB 1.2 MB/s eta 0:00:11\n",
      "   ----- ---------------------------------- 2.0/15.5 MB 1.2 MB/s eta 0:00:11\n",
      "   ----- ---------------------------------- 2.0/15.5 MB 1.2 MB/s eta 0:00:12\n",
      "   ----- ---------------------------------- 2.1/15.5 MB 1.2 MB/s eta 0:00:12\n",
      "   ----- ---------------------------------- 2.2/15.5 MB 1.2 MB/s eta 0:00:11\n",
      "   ----- ---------------------------------- 2.3/15.5 MB 1.2 MB/s eta 0:00:11\n",
      "   ------ --------------------------------- 2.4/15.5 MB 1.2 MB/s eta 0:00:11\n",
      "   ------ --------------------------------- 2.4/15.5 MB 1.2 MB/s eta 0:00:11\n",
      "   ------ --------------------------------- 2.5/15.5 MB 1.3 MB/s eta 0:00:11\n",
      "   ------ --------------------------------- 2.7/15.5 MB 1.3 MB/s eta 0:00:10\n",
      "   ------- -------------------------------- 2.8/15.5 MB 1.3 MB/s eta 0:00:10\n",
      "   ------- -------------------------------- 2.8/15.5 MB 1.3 MB/s eta 0:00:10\n",
      "   ------- -------------------------------- 2.9/15.5 MB 1.3 MB/s eta 0:00:10\n",
      "   ------- -------------------------------- 3.0/15.5 MB 1.3 MB/s eta 0:00:10\n",
      "   -------- ------------------------------- 3.1/15.5 MB 1.4 MB/s eta 0:00:10\n",
      "   -------- ------------------------------- 3.2/15.5 MB 1.4 MB/s eta 0:00:10\n",
      "   -------- ------------------------------- 3.3/15.5 MB 1.4 MB/s eta 0:00:09\n",
      "   -------- ------------------------------- 3.4/15.5 MB 1.4 MB/s eta 0:00:09\n",
      "   -------- ------------------------------- 3.5/15.5 MB 1.4 MB/s eta 0:00:09\n",
      "   --------- ------------------------------ 3.6/15.5 MB 1.4 MB/s eta 0:00:09\n",
      "   --------- ------------------------------ 3.7/15.5 MB 1.4 MB/s eta 0:00:09\n",
      "   --------- ------------------------------ 3.7/15.5 MB 1.4 MB/s eta 0:00:09\n",
      "   --------- ------------------------------ 3.8/15.5 MB 1.4 MB/s eta 0:00:09\n",
      "   ---------- ----------------------------- 3.9/15.5 MB 1.4 MB/s eta 0:00:09\n",
      "   ---------- ----------------------------- 4.0/15.5 MB 1.5 MB/s eta 0:00:08\n",
      "   ---------- ----------------------------- 4.1/15.5 MB 1.5 MB/s eta 0:00:08\n",
      "   ---------- ----------------------------- 4.2/15.5 MB 1.5 MB/s eta 0:00:08\n",
      "   ----------- ---------------------------- 4.3/15.5 MB 1.5 MB/s eta 0:00:08\n",
      "   ----------- ---------------------------- 4.4/15.5 MB 1.5 MB/s eta 0:00:08\n",
      "   ----------- ---------------------------- 4.4/15.5 MB 1.5 MB/s eta 0:00:08\n",
      "   ----------- ---------------------------- 4.6/15.5 MB 1.5 MB/s eta 0:00:08\n",
      "   ------------ --------------------------- 4.7/15.5 MB 1.5 MB/s eta 0:00:08\n",
      "   ------------ --------------------------- 4.8/15.5 MB 1.5 MB/s eta 0:00:08\n",
      "   ------------ --------------------------- 4.9/15.5 MB 1.5 MB/s eta 0:00:07\n",
      "   ------------ --------------------------- 5.0/15.5 MB 1.5 MB/s eta 0:00:07\n",
      "   ------------- -------------------------- 5.1/15.5 MB 1.5 MB/s eta 0:00:07\n",
      "   ------------- -------------------------- 5.2/15.5 MB 1.6 MB/s eta 0:00:07\n",
      "   ------------- -------------------------- 5.3/15.5 MB 1.6 MB/s eta 0:00:07\n",
      "   ------------- -------------------------- 5.4/15.5 MB 1.6 MB/s eta 0:00:07\n",
      "   -------------- ------------------------- 5.5/15.5 MB 1.6 MB/s eta 0:00:07\n",
      "   -------------- ------------------------- 5.5/15.5 MB 1.6 MB/s eta 0:00:07\n",
      "   -------------- ------------------------- 5.6/15.5 MB 1.6 MB/s eta 0:00:07\n",
      "   -------------- ------------------------- 5.8/15.5 MB 1.6 MB/s eta 0:00:07\n",
      "   --------------- ------------------------ 5.8/15.5 MB 1.6 MB/s eta 0:00:06\n",
      "   --------------- ------------------------ 5.9/15.5 MB 1.6 MB/s eta 0:00:06\n",
      "   --------------- ------------------------ 6.0/15.5 MB 1.6 MB/s eta 0:00:06\n",
      "   --------------- ------------------------ 6.1/15.5 MB 1.6 MB/s eta 0:00:06\n",
      "   ---------------- ----------------------- 6.3/15.5 MB 1.7 MB/s eta 0:00:06\n",
      "   ---------------- ----------------------- 6.4/15.5 MB 1.7 MB/s eta 0:00:06\n",
      "   ---------------- ----------------------- 6.6/15.5 MB 1.7 MB/s eta 0:00:06\n",
      "   ----------------- ---------------------- 6.7/15.5 MB 1.7 MB/s eta 0:00:06\n",
      "   ----------------- ---------------------- 6.9/15.5 MB 1.7 MB/s eta 0:00:06\n",
      "   ------------------ --------------------- 7.1/15.5 MB 1.7 MB/s eta 0:00:05\n",
      "   ------------------ --------------------- 7.2/15.5 MB 1.8 MB/s eta 0:00:05\n",
      "   ------------------- -------------------- 7.4/15.5 MB 1.8 MB/s eta 0:00:05\n",
      "   ------------------- -------------------- 7.4/15.5 MB 1.8 MB/s eta 0:00:05\n",
      "   ------------------- -------------------- 7.4/15.5 MB 1.8 MB/s eta 0:00:05\n",
      "   ------------------- -------------------- 7.4/15.5 MB 1.8 MB/s eta 0:00:05\n",
      "   ------------------- -------------------- 7.5/15.5 MB 1.7 MB/s eta 0:00:05\n",
      "   ------------------- -------------------- 7.7/15.5 MB 1.8 MB/s eta 0:00:05\n",
      "   -------------------- ------------------- 7.8/15.5 MB 1.8 MB/s eta 0:00:05\n",
      "   -------------------- ------------------- 8.0/15.5 MB 1.8 MB/s eta 0:00:05\n",
      "   --------------------- ------------------ 8.1/15.5 MB 1.8 MB/s eta 0:00:05\n",
      "   --------------------- ------------------ 8.3/15.5 MB 1.8 MB/s eta 0:00:04\n",
      "   --------------------- ------------------ 8.5/15.5 MB 1.9 MB/s eta 0:00:04\n",
      "   ---------------------- ----------------- 8.7/15.5 MB 1.9 MB/s eta 0:00:04\n",
      "   ---------------------- ----------------- 8.8/15.5 MB 1.9 MB/s eta 0:00:04\n",
      "   ----------------------- ---------------- 8.9/15.5 MB 1.9 MB/s eta 0:00:04\n",
      "   ----------------------- ---------------- 9.0/15.5 MB 1.9 MB/s eta 0:00:04\n",
      "   ----------------------- ---------------- 9.0/15.5 MB 1.9 MB/s eta 0:00:04\n",
      "   ----------------------- ---------------- 9.1/15.5 MB 1.9 MB/s eta 0:00:04\n",
      "   ------------------------ --------------- 9.3/15.5 MB 1.9 MB/s eta 0:00:04\n",
      "   ------------------------ --------------- 9.5/15.5 MB 1.9 MB/s eta 0:00:04\n",
      "   ------------------------- -------------- 9.7/15.5 MB 1.9 MB/s eta 0:00:03\n",
      "   ------------------------- -------------- 9.9/15.5 MB 2.0 MB/s eta 0:00:03\n",
      "   -------------------------- ------------- 10.1/15.5 MB 2.0 MB/s eta 0:00:03\n",
      "   -------------------------- ------------- 10.3/15.5 MB 2.1 MB/s eta 0:00:03\n",
      "   --------------------------- ------------ 10.5/15.5 MB 2.1 MB/s eta 0:00:03\n",
      "   --------------------------- ------------ 10.8/15.5 MB 2.2 MB/s eta 0:00:03\n",
      "   ---------------------------- ----------- 11.0/15.5 MB 2.3 MB/s eta 0:00:02\n",
      "   ---------------------------- ----------- 11.1/15.5 MB 2.3 MB/s eta 0:00:02\n",
      "   ----------------------------- ---------- 11.3/15.5 MB 2.4 MB/s eta 0:00:02\n",
      "   ----------------------------- ---------- 11.4/15.5 MB 2.4 MB/s eta 0:00:02\n",
      "   ----------------------------- ---------- 11.6/15.5 MB 2.4 MB/s eta 0:00:02\n",
      "   ------------------------------ --------- 11.8/15.5 MB 2.5 MB/s eta 0:00:02\n",
      "   ------------------------------ --------- 12.0/15.5 MB 2.5 MB/s eta 0:00:02\n",
      "   ------------------------------- -------- 12.2/15.5 MB 2.5 MB/s eta 0:00:02\n",
      "   ------------------------------- -------- 12.4/15.5 MB 2.6 MB/s eta 0:00:02\n",
      "   -------------------------------- ------- 12.7/15.5 MB 2.7 MB/s eta 0:00:02\n",
      "   --------------------------------- ------ 12.9/15.5 MB 2.8 MB/s eta 0:00:01\n",
      "   ---------------------------------- ----- 13.2/15.5 MB 2.9 MB/s eta 0:00:01\n",
      "   ---------------------------------- ----- 13.4/15.5 MB 2.9 MB/s eta 0:00:01\n",
      "   ---------------------------------- ----- 13.5/15.5 MB 2.9 MB/s eta 0:00:01\n",
      "   ----------------------------------- ---- 13.7/15.5 MB 3.0 MB/s eta 0:00:01\n",
      "   ----------------------------------- ---- 13.8/15.5 MB 3.0 MB/s eta 0:00:01\n",
      "   ----------------------------------- ---- 13.9/15.5 MB 3.0 MB/s eta 0:00:01\n",
      "   ------------------------------------ --- 14.1/15.5 MB 3.0 MB/s eta 0:00:01\n",
      "   ------------------------------------- -- 14.4/15.5 MB 3.1 MB/s eta 0:00:01\n",
      "   ------------------------------------- -- 14.6/15.5 MB 3.1 MB/s eta 0:00:01\n",
      "   -------------------------------------- - 14.9/15.5 MB 3.3 MB/s eta 0:00:01\n",
      "   -------------------------------------- - 15.0/15.5 MB 3.3 MB/s eta 0:00:01\n",
      "   ---------------------------------------  15.3/15.5 MB 3.3 MB/s eta 0:00:01\n",
      "   ---------------------------------------  15.5/15.5 MB 3.4 MB/s eta 0:00:01\n",
      "   ---------------------------------------- 15.5/15.5 MB 3.3 MB/s eta 0:00:00\n",
      "Installing collected packages: numpy\n",
      "Successfully installed numpy-1.26.2\n"
     ]
    },
    {
     "name": "stderr",
     "output_type": "stream",
     "text": [
      "\n",
      "[notice] A new release of pip is available: 23.2.1 -> 23.3.2\n",
      "[notice] To update, run: python.exe -m pip install --upgrade pip\n"
     ]
    }
   ],
   "source": [
    "!pip install numpy"
   ]
  },
  {
   "cell_type": "code",
   "execution_count": 10,
   "id": "09cd365c-0c3f-4564-b618-cc6e9558edc6",
   "metadata": {},
   "outputs": [
    {
     "name": "stdout",
     "output_type": "stream",
     "text": [
      "Collecting matplotlib\n",
      "  Obtaining dependency information for matplotlib from https://files.pythonhosted.org/packages/2e/51/c77a14869b7eb9d6fb440e811b754fc3950d6868c38ace57d0632b674415/matplotlib-3.8.2-cp312-cp312-win_amd64.whl.metadata\n",
      "  Downloading matplotlib-3.8.2-cp312-cp312-win_amd64.whl.metadata (5.9 kB)\n",
      "Collecting contourpy>=1.0.1 (from matplotlib)\n",
      "  Obtaining dependency information for contourpy>=1.0.1 from https://files.pythonhosted.org/packages/8e/ae/a6353db548bff1a592b85ae6bb80275f0a51dc25a0410d059e5b33183e36/contourpy-1.2.0-cp312-cp312-win_amd64.whl.metadata\n",
      "  Downloading contourpy-1.2.0-cp312-cp312-win_amd64.whl.metadata (5.8 kB)\n",
      "Collecting cycler>=0.10 (from matplotlib)\n",
      "  Obtaining dependency information for cycler>=0.10 from https://files.pythonhosted.org/packages/e7/05/c19819d5e3d95294a6f5947fb9b9629efb316b96de511b418c53d245aae6/cycler-0.12.1-py3-none-any.whl.metadata\n",
      "  Downloading cycler-0.12.1-py3-none-any.whl.metadata (3.8 kB)\n",
      "Collecting fonttools>=4.22.0 (from matplotlib)\n",
      "  Obtaining dependency information for fonttools>=4.22.0 from https://files.pythonhosted.org/packages/31/ec/1aeea536f14a03dd26679d7bfeb9b164379009afb71086476816d7a6ea8c/fonttools-4.47.0-cp312-cp312-win_amd64.whl.metadata\n",
      "  Downloading fonttools-4.47.0-cp312-cp312-win_amd64.whl.metadata (160 kB)\n",
      "     ---------------------------------------- 0.0/160.4 kB ? eta -:--:--\n",
      "     -- ------------------------------------- 10.2/160.4 kB ? eta -:--:--\n",
      "     -- ------------------------------------- 10.2/160.4 kB ? eta -:--:--\n",
      "     -- ------------------------------------- 10.2/160.4 kB ? eta -:--:--\n",
      "     -- ------------------------------------- 10.2/160.4 kB ? eta -:--:--\n",
      "     ------------------ ------------------ 81.9/160.4 kB 381.3 kB/s eta 0:00:01\n",
      "     ------------------ ------------------ 81.9/160.4 kB 381.3 kB/s eta 0:00:01\n",
      "     ------------------------- ---------- 112.6/160.4 kB 364.4 kB/s eta 0:00:01\n",
      "     ---------------------------------- - 153.6/160.4 kB 437.1 kB/s eta 0:00:01\n",
      "     ------------------------------------ 160.4/160.4 kB 436.4 kB/s eta 0:00:00\n",
      "Collecting kiwisolver>=1.3.1 (from matplotlib)\n",
      "  Obtaining dependency information for kiwisolver>=1.3.1 from https://files.pythonhosted.org/packages/63/50/2746566bdf4a6a842d117367d05c90cfb87ac04e9e2845aa1fa21f071362/kiwisolver-1.4.5-cp312-cp312-win_amd64.whl.metadata\n",
      "  Downloading kiwisolver-1.4.5-cp312-cp312-win_amd64.whl.metadata (6.5 kB)\n",
      "Requirement already satisfied: numpy<2,>=1.21 in c:\\users\\prith\\appdata\\local\\programs\\python\\python312\\lib\\site-packages (from matplotlib) (1.26.2)\n",
      "Requirement already satisfied: packaging>=20.0 in c:\\users\\prith\\appdata\\local\\programs\\python\\python312\\lib\\site-packages (from matplotlib) (23.2)\n",
      "Collecting pillow>=8 (from matplotlib)\n",
      "  Obtaining dependency information for pillow>=8 from https://files.pythonhosted.org/packages/32/e4/978865107d097dd9cb650331676d8dc29ed9fcd0aaab46486e9d6e5123f0/Pillow-10.1.0-cp312-cp312-win_amd64.whl.metadata\n",
      "  Downloading Pillow-10.1.0-cp312-cp312-win_amd64.whl.metadata (9.6 kB)\n",
      "Collecting pyparsing>=2.3.1 (from matplotlib)\n",
      "  Obtaining dependency information for pyparsing>=2.3.1 from https://files.pythonhosted.org/packages/39/92/8486ede85fcc088f1b3dba4ce92dd29d126fd96b0008ea213167940a2475/pyparsing-3.1.1-py3-none-any.whl.metadata\n",
      "  Downloading pyparsing-3.1.1-py3-none-any.whl.metadata (5.1 kB)\n",
      "Requirement already satisfied: python-dateutil>=2.7 in c:\\users\\prith\\appdata\\local\\programs\\python\\python312\\lib\\site-packages (from matplotlib) (2.8.2)\n",
      "Requirement already satisfied: six>=1.5 in c:\\users\\prith\\appdata\\local\\programs\\python\\python312\\lib\\site-packages (from python-dateutil>=2.7->matplotlib) (1.16.0)\n",
      "Downloading matplotlib-3.8.2-cp312-cp312-win_amd64.whl (7.6 MB)\n",
      "   ---------------------------------------- 0.0/7.6 MB ? eta -:--:--\n",
      "   ---------------------------------------- 0.1/7.6 MB 1.5 MB/s eta 0:00:05\n",
      "    --------------------------------------- 0.1/7.6 MB 1.6 MB/s eta 0:00:05\n",
      "   - -------------------------------------- 0.2/7.6 MB 1.3 MB/s eta 0:00:06\n",
      "   - -------------------------------------- 0.2/7.6 MB 1.4 MB/s eta 0:00:06\n",
      "   - -------------------------------------- 0.3/7.6 MB 1.3 MB/s eta 0:00:06\n",
      "   - -------------------------------------- 0.4/7.6 MB 1.5 MB/s eta 0:00:05\n",
      "   -- ------------------------------------- 0.4/7.6 MB 1.4 MB/s eta 0:00:06\n",
      "   -- ------------------------------------- 0.5/7.6 MB 1.4 MB/s eta 0:00:06\n",
      "   --- ------------------------------------ 0.6/7.6 MB 1.4 MB/s eta 0:00:06\n",
      "   --- ------------------------------------ 0.7/7.6 MB 1.4 MB/s eta 0:00:05\n",
      "   --- ------------------------------------ 0.7/7.6 MB 1.4 MB/s eta 0:00:05\n",
      "   ---- ----------------------------------- 0.8/7.6 MB 1.4 MB/s eta 0:00:05\n",
      "   ---- ----------------------------------- 0.8/7.6 MB 1.5 MB/s eta 0:00:05\n",
      "   ---- ----------------------------------- 0.9/7.6 MB 1.4 MB/s eta 0:00:05\n",
      "   ----- ---------------------------------- 1.0/7.6 MB 1.5 MB/s eta 0:00:05\n",
      "   ----- ---------------------------------- 1.1/7.6 MB 1.4 MB/s eta 0:00:05\n",
      "   ------ --------------------------------- 1.2/7.6 MB 1.5 MB/s eta 0:00:05\n",
      "   ------ --------------------------------- 1.2/7.6 MB 1.5 MB/s eta 0:00:05\n",
      "   ------ --------------------------------- 1.2/7.6 MB 1.5 MB/s eta 0:00:05\n",
      "   ------ --------------------------------- 1.3/7.6 MB 1.4 MB/s eta 0:00:05\n",
      "   ------- -------------------------------- 1.4/7.6 MB 1.5 MB/s eta 0:00:05\n",
      "   ------- -------------------------------- 1.5/7.6 MB 1.4 MB/s eta 0:00:05\n",
      "   ------- -------------------------------- 1.5/7.6 MB 1.4 MB/s eta 0:00:05\n",
      "   -------- ------------------------------- 1.6/7.6 MB 1.5 MB/s eta 0:00:05\n",
      "   -------- ------------------------------- 1.7/7.6 MB 1.5 MB/s eta 0:00:05\n",
      "   --------- ------------------------------ 1.8/7.6 MB 1.5 MB/s eta 0:00:04\n",
      "   --------- ------------------------------ 1.9/7.6 MB 1.5 MB/s eta 0:00:04\n",
      "   ---------- ----------------------------- 2.0/7.6 MB 1.6 MB/s eta 0:00:04\n",
      "   ----------- ---------------------------- 2.1/7.6 MB 1.6 MB/s eta 0:00:04\n",
      "   ----------- ---------------------------- 2.2/7.6 MB 1.6 MB/s eta 0:00:04\n",
      "   ------------ --------------------------- 2.3/7.6 MB 1.6 MB/s eta 0:00:04\n",
      "   ------------ --------------------------- 2.4/7.6 MB 1.6 MB/s eta 0:00:04\n",
      "   ------------- -------------------------- 2.5/7.6 MB 1.7 MB/s eta 0:00:04\n",
      "   ------------- -------------------------- 2.6/7.6 MB 1.7 MB/s eta 0:00:04\n",
      "   -------------- ------------------------- 2.8/7.6 MB 1.7 MB/s eta 0:00:03\n",
      "   -------------- ------------------------- 2.8/7.6 MB 1.7 MB/s eta 0:00:03\n",
      "   --------------- ------------------------ 3.0/7.6 MB 1.7 MB/s eta 0:00:03\n",
      "   ---------------- ----------------------- 3.1/7.6 MB 1.8 MB/s eta 0:00:03\n",
      "   ---------------- ----------------------- 3.2/7.6 MB 1.8 MB/s eta 0:00:03\n",
      "   ----------------- ---------------------- 3.3/7.6 MB 1.8 MB/s eta 0:00:03\n",
      "   ----------------- ---------------------- 3.4/7.6 MB 1.8 MB/s eta 0:00:03\n",
      "   ------------------ --------------------- 3.5/7.6 MB 1.8 MB/s eta 0:00:03\n",
      "   ------------------- -------------------- 3.7/7.6 MB 1.9 MB/s eta 0:00:03\n",
      "   ------------------- -------------------- 3.7/7.6 MB 1.8 MB/s eta 0:00:03\n",
      "   -------------------- ------------------- 3.9/7.6 MB 1.9 MB/s eta 0:00:03\n",
      "   -------------------- ------------------- 3.9/7.6 MB 1.9 MB/s eta 0:00:02\n",
      "   -------------------- ------------------- 3.9/7.6 MB 1.9 MB/s eta 0:00:02\n",
      "   -------------------- ------------------- 4.0/7.6 MB 1.8 MB/s eta 0:00:03\n",
      "   -------------------- ------------------- 4.0/7.6 MB 1.8 MB/s eta 0:00:03\n",
      "   --------------------- ------------------ 4.1/7.6 MB 1.8 MB/s eta 0:00:02\n",
      "   ---------------------- ----------------- 4.3/7.6 MB 1.8 MB/s eta 0:00:02\n",
      "   ---------------------- ----------------- 4.3/7.6 MB 1.8 MB/s eta 0:00:02\n",
      "   ----------------------- ---------------- 4.4/7.6 MB 1.8 MB/s eta 0:00:02\n",
      "   ------------------------ --------------- 4.6/7.6 MB 1.8 MB/s eta 0:00:02\n",
      "   ------------------------ --------------- 4.7/7.6 MB 1.9 MB/s eta 0:00:02\n",
      "   ------------------------- -------------- 4.9/7.6 MB 1.9 MB/s eta 0:00:02\n",
      "   -------------------------- ------------- 5.0/7.6 MB 1.9 MB/s eta 0:00:02\n",
      "   --------------------------- ------------ 5.2/7.6 MB 1.9 MB/s eta 0:00:02\n",
      "   --------------------------- ------------ 5.3/7.6 MB 1.9 MB/s eta 0:00:02\n",
      "   ---------------------------- ----------- 5.5/7.6 MB 2.0 MB/s eta 0:00:02\n",
      "   ----------------------------- ---------- 5.7/7.6 MB 2.0 MB/s eta 0:00:01\n",
      "   ------------------------------ --------- 5.9/7.6 MB 2.0 MB/s eta 0:00:01\n",
      "   ------------------------------- -------- 6.0/7.6 MB 2.1 MB/s eta 0:00:01\n",
      "   -------------------------------- ------- 6.3/7.6 MB 2.1 MB/s eta 0:00:01\n",
      "   --------------------------------- ------ 6.4/7.6 MB 2.1 MB/s eta 0:00:01\n",
      "   ---------------------------------- ----- 6.7/7.6 MB 2.2 MB/s eta 0:00:01\n",
      "   ----------------------------------- ---- 6.8/7.6 MB 2.2 MB/s eta 0:00:01\n",
      "   ------------------------------------ --- 7.0/7.6 MB 2.2 MB/s eta 0:00:01\n",
      "   ------------------------------------- -- 7.2/7.6 MB 2.3 MB/s eta 0:00:01\n",
      "   -------------------------------------- - 7.4/7.6 MB 2.3 MB/s eta 0:00:01\n",
      "   ---------------------------------------  7.6/7.6 MB 2.3 MB/s eta 0:00:01\n",
      "   ---------------------------------------- 7.6/7.6 MB 2.3 MB/s eta 0:00:00\n",
      "Downloading contourpy-1.2.0-cp312-cp312-win_amd64.whl (187 kB)\n",
      "   ---------------------------------------- 0.0/187.7 kB ? eta -:--:--\n",
      "   ------------------- -------------------- 92.2/187.7 kB 5.1 MB/s eta 0:00:01\n",
      "   ---------------------------------------- 187.7/187.7 kB 3.8 MB/s eta 0:00:00\n",
      "Downloading cycler-0.12.1-py3-none-any.whl (8.3 kB)\n",
      "Downloading fonttools-4.47.0-cp312-cp312-win_amd64.whl (2.2 MB)\n",
      "   ---------------------------------------- 0.0/2.2 MB ? eta -:--:--\n",
      "   -- ------------------------------------- 0.1/2.2 MB 4.3 MB/s eta 0:00:01\n",
      "   ------- -------------------------------- 0.4/2.2 MB 5.0 MB/s eta 0:00:01\n",
      "   ---------- ----------------------------- 0.6/2.2 MB 4.3 MB/s eta 0:00:01\n",
      "   ------------- -------------------------- 0.7/2.2 MB 4.2 MB/s eta 0:00:01\n",
      "   ----------------- ---------------------- 0.9/2.2 MB 4.2 MB/s eta 0:00:01\n",
      "   -------------------- ------------------- 1.1/2.2 MB 4.1 MB/s eta 0:00:01\n",
      "   ------------------------ --------------- 1.3/2.2 MB 4.2 MB/s eta 0:00:01\n",
      "   -------------------------- ------------- 1.5/2.2 MB 4.0 MB/s eta 0:00:01\n",
      "   ------------------------------ --------- 1.7/2.2 MB 4.1 MB/s eta 0:00:01\n",
      "   ---------------------------------- ----- 1.9/2.2 MB 4.1 MB/s eta 0:00:01\n",
      "   -------------------------------------- - 2.1/2.2 MB 4.2 MB/s eta 0:00:01\n",
      "   ---------------------------------------- 2.2/2.2 MB 4.1 MB/s eta 0:00:00\n",
      "Downloading kiwisolver-1.4.5-cp312-cp312-win_amd64.whl (56 kB)\n",
      "   ---------------------------------------- 0.0/56.0 kB ? eta -:--:--\n",
      "   ---------------------------------------- 56.0/56.0 kB ? eta 0:00:00\n",
      "Downloading Pillow-10.1.0-cp312-cp312-win_amd64.whl (2.6 MB)\n",
      "   ---------------------------------------- 0.0/2.6 MB ? eta -:--:--\n",
      "   -- ------------------------------------- 0.2/2.6 MB 5.3 MB/s eta 0:00:01\n",
      "   ------ --------------------------------- 0.5/2.6 MB 7.1 MB/s eta 0:00:01\n",
      "   ---------- ----------------------------- 0.7/2.6 MB 6.0 MB/s eta 0:00:01\n",
      "   ----------- ---------------------------- 0.8/2.6 MB 4.5 MB/s eta 0:00:01\n",
      "   ------------ --------------------------- 0.8/2.6 MB 3.6 MB/s eta 0:00:01\n",
      "   ------------ --------------------------- 0.8/2.6 MB 3.6 MB/s eta 0:00:01\n",
      "   ------------ --------------------------- 0.8/2.6 MB 3.6 MB/s eta 0:00:01\n",
      "   ------------- -------------------------- 0.9/2.6 MB 2.4 MB/s eta 0:00:01\n",
      "   ----------------- ---------------------- 1.2/2.6 MB 2.8 MB/s eta 0:00:01\n",
      "   --------------------- ------------------ 1.4/2.6 MB 3.1 MB/s eta 0:00:01\n",
      "   ------------------------ --------------- 1.6/2.6 MB 3.3 MB/s eta 0:00:01\n",
      "   -------------------------- ------------- 1.7/2.6 MB 3.2 MB/s eta 0:00:01\n",
      "   ----------------------------- ---------- 1.9/2.6 MB 3.3 MB/s eta 0:00:01\n",
      "   ------------------------------ --------- 2.0/2.6 MB 3.1 MB/s eta 0:00:01\n",
      "   -------------------------------- ------- 2.1/2.6 MB 3.1 MB/s eta 0:00:01\n",
      "   ------------------------------------ --- 2.4/2.6 MB 3.3 MB/s eta 0:00:01\n",
      "   ---------------------------------------  2.6/2.6 MB 3.3 MB/s eta 0:00:01\n",
      "   ---------------------------------------- 2.6/2.6 MB 3.3 MB/s eta 0:00:00\n",
      "Downloading pyparsing-3.1.1-py3-none-any.whl (103 kB)\n",
      "   ---------------------------------------- 0.0/103.1 kB ? eta -:--:--\n",
      "   ---------------------------------------- 103.1/103.1 kB 2.9 MB/s eta 0:00:00\n",
      "Installing collected packages: pyparsing, pillow, kiwisolver, fonttools, cycler, contourpy, matplotlib\n",
      "Successfully installed contourpy-1.2.0 cycler-0.12.1 fonttools-4.47.0 kiwisolver-1.4.5 matplotlib-3.8.2 pillow-10.1.0 pyparsing-3.1.1\n"
     ]
    },
    {
     "name": "stderr",
     "output_type": "stream",
     "text": [
      "\n",
      "[notice] A new release of pip is available: 23.2.1 -> 23.3.2\n",
      "[notice] To update, run: python.exe -m pip install --upgrade pip\n"
     ]
    }
   ],
   "source": [
    "!pip install matplotlib"
   ]
  },
  {
   "cell_type": "code",
   "execution_count": 13,
   "id": "e75bbf1c-8503-47a5-8781-d6c94686acb5",
   "metadata": {},
   "outputs": [
    {
     "ename": "SyntaxError",
     "evalue": "invalid syntax (3112478558.py, line 1)",
     "output_type": "error",
     "traceback": [
      "\u001b[1;36m  Cell \u001b[1;32mIn[13], line 1\u001b[1;36m\u001b[0m\n\u001b[1;33m    python -m !pip install --upgrade !pip\u001b[0m\n\u001b[1;37m              ^\u001b[0m\n\u001b[1;31mSyntaxError\u001b[0m\u001b[1;31m:\u001b[0m invalid syntax\n"
     ]
    }
   ],
   "source": [
    "python -m !pip install --upgrade !pip"
   ]
  },
  {
   "cell_type": "code",
   "execution_count": 14,
   "id": "aecf0e83-854e-4930-b724-80f5cfd6d0cb",
   "metadata": {},
   "outputs": [
    {
     "ename": "SyntaxError",
     "evalue": "invalid syntax (3112478558.py, line 1)",
     "output_type": "error",
     "traceback": [
      "\u001b[1;36m  Cell \u001b[1;32mIn[14], line 1\u001b[1;36m\u001b[0m\n\u001b[1;33m    python -m !pip install --upgrade !pip\u001b[0m\n\u001b[1;37m              ^\u001b[0m\n\u001b[1;31mSyntaxError\u001b[0m\u001b[1;31m:\u001b[0m invalid syntax\n"
     ]
    }
   ],
   "source": [
    "python -m !pip install --upgrade !pip"
   ]
  },
  {
   "cell_type": "code",
   "execution_count": 15,
   "id": "60874953-460a-4c3a-abbc-c6c8b4779a39",
   "metadata": {},
   "outputs": [
    {
     "name": "stdout",
     "output_type": "stream",
     "text": [
      "Requirement already satisfied: pip in c:\\users\\prith\\appdata\\local\\programs\\python\\python312\\lib\\site-packages (23.2.1)\n",
      "Collecting pip\n",
      "  Obtaining dependency information for pip from https://files.pythonhosted.org/packages/15/aa/3f4c7bcee2057a76562a5b33ecbd199be08cdb4443a02e26bd2c3cf6fc39/pip-23.3.2-py3-none-any.whl.metadata\n",
      "  Using cached pip-23.3.2-py3-none-any.whl.metadata (3.5 kB)\n",
      "Using cached pip-23.3.2-py3-none-any.whl (2.1 MB)\n"
     ]
    },
    {
     "name": "stderr",
     "output_type": "stream",
     "text": [
      "ERROR: To modify pip, please run the following command:\n",
      "C:\\Users\\Prith\\AppData\\Local\\Programs\\Python\\Python312\\python.exe -m pip install --upgrade pip\n",
      "\n",
      "[notice] A new release of pip is available: 23.2.1 -> 23.3.2\n",
      "[notice] To update, run: python.exe -m pip install --upgrade pip\n"
     ]
    }
   ],
   "source": [
    "!pip install --upgrade pip"
   ]
  },
  {
   "cell_type": "code",
   "execution_count": 16,
   "id": "475942ce-da9a-4b90-877e-23b9efca9269",
   "metadata": {},
   "outputs": [
    {
     "ename": "SyntaxError",
     "evalue": "unexpected character after line continuation character (2035535976.py, line 1)",
     "output_type": "error",
     "traceback": [
      "\u001b[1;36m  Cell \u001b[1;32mIn[16], line 1\u001b[1;36m\u001b[0m\n\u001b[1;33m    C:\\Users\\Prith\\AppData\\Local\\Programs\\Python\\Python312\\python.exe -m pip install --upgrade pip\u001b[0m\n\u001b[1;37m       ^\u001b[0m\n\u001b[1;31mSyntaxError\u001b[0m\u001b[1;31m:\u001b[0m unexpected character after line continuation character\n"
     ]
    }
   ],
   "source": [
    "C:\\Users\\Prith\\AppData\\Local\\Programs\\Python\\Python312\\python.exe -m pip install --upgrade pip"
   ]
  },
  {
   "cell_type": "code",
   "execution_count": 17,
   "id": "f1248fa2-b0af-4da1-a21e-7f630376a95d",
   "metadata": {},
   "outputs": [
    {
     "ename": "SyntaxError",
     "evalue": "invalid syntax (842801469.py, line 1)",
     "output_type": "error",
     "traceback": [
      "\u001b[1;36m  Cell \u001b[1;32mIn[17], line 1\u001b[1;36m\u001b[0m\n\u001b[1;33m    python.exe -m pip install --upgrade pip\u001b[0m\n\u001b[1;37m                  ^\u001b[0m\n\u001b[1;31mSyntaxError\u001b[0m\u001b[1;31m:\u001b[0m invalid syntax\n"
     ]
    }
   ],
   "source": [
    "python.exe -m pip install --upgrade pip"
   ]
  },
  {
   "cell_type": "code",
   "execution_count": 18,
   "id": "11384ade-38ee-4bae-bccd-7fcb08dea37b",
   "metadata": {},
   "outputs": [
    {
     "name": "stdout",
     "output_type": "stream",
     "text": [
      "Collecting simpy\n",
      "  Obtaining dependency information for simpy from https://files.pythonhosted.org/packages/48/72/920ed1224c94a8a5a69e6c1275ac7fe4eb911ba8feffddf469f1629d47f3/simpy-4.1.1-py3-none-any.whl.metadata\n",
      "  Downloading simpy-4.1.1-py3-none-any.whl.metadata (6.1 kB)\n",
      "Downloading simpy-4.1.1-py3-none-any.whl (27 kB)\n",
      "Installing collected packages: simpy\n",
      "Successfully installed simpy-4.1.1\n"
     ]
    },
    {
     "name": "stderr",
     "output_type": "stream",
     "text": [
      "\n",
      "[notice] A new release of pip is available: 23.2.1 -> 23.3.2\n",
      "[notice] To update, run: python.exe -m pip install --upgrade pip\n"
     ]
    }
   ],
   "source": [
    "!pip install simpy"
   ]
  },
  {
   "cell_type": "code",
   "execution_count": 19,
   "id": "0e7294d1-51a7-4021-945d-4dea1143beaf",
   "metadata": {},
   "outputs": [
    {
     "name": "stdout",
     "output_type": "stream",
     "text": [
      "Collecting sympy\n",
      "  Downloading sympy-1.12-py3-none-any.whl (5.7 MB)\n",
      "     ---------------------------------------- 0.0/5.7 MB ? eta -:--:--\n",
      "     ---------------------------------------- 0.0/5.7 MB ? eta -:--:--\n",
      "     ---------------------------------------- 0.0/5.7 MB ? eta -:--:--\n",
      "     ---------------------------------------- 0.0/5.7 MB 217.9 kB/s eta 0:00:27\n",
      "     ---------------------------------------- 0.1/5.7 MB 326.1 kB/s eta 0:00:18\n",
      "      --------------------------------------- 0.1/5.7 MB 416.7 kB/s eta 0:00:14\n",
      "      --------------------------------------- 0.1/5.7 MB 467.6 kB/s eta 0:00:13\n",
      "      --------------------------------------- 0.1/5.7 MB 500.5 kB/s eta 0:00:12\n",
      "     - -------------------------------------- 0.2/5.7 MB 621.6 kB/s eta 0:00:09\n",
      "     - -------------------------------------- 0.3/5.7 MB 714.4 kB/s eta 0:00:08\n",
      "     -- ------------------------------------- 0.3/5.7 MB 838.1 kB/s eta 0:00:07\n",
      "     -- ------------------------------------- 0.4/5.7 MB 855.4 kB/s eta 0:00:07\n",
      "     --- ------------------------------------ 0.4/5.7 MB 886.8 kB/s eta 0:00:06\n",
      "     --- ------------------------------------ 0.5/5.7 MB 981.7 kB/s eta 0:00:06\n",
      "     --- ------------------------------------ 0.6/5.7 MB 992.2 kB/s eta 0:00:06\n",
      "     ---- ----------------------------------- 0.6/5.7 MB 1.0 MB/s eta 0:00:05\n",
      "     ----- ---------------------------------- 0.7/5.7 MB 1.1 MB/s eta 0:00:05\n",
      "     ----- ---------------------------------- 0.8/5.7 MB 1.1 MB/s eta 0:00:05\n",
      "     ------ --------------------------------- 0.9/5.7 MB 1.1 MB/s eta 0:00:05\n",
      "     ------ --------------------------------- 0.9/5.7 MB 1.1 MB/s eta 0:00:05\n",
      "     ------ --------------------------------- 1.0/5.7 MB 1.2 MB/s eta 0:00:05\n",
      "     ------- -------------------------------- 1.1/5.7 MB 1.2 MB/s eta 0:00:04\n",
      "     ------- -------------------------------- 1.1/5.7 MB 1.2 MB/s eta 0:00:04\n",
      "     -------- ------------------------------- 1.2/5.7 MB 1.3 MB/s eta 0:00:04\n",
      "     -------- ------------------------------- 1.3/5.7 MB 1.2 MB/s eta 0:00:04\n",
      "     -------- ------------------------------- 1.3/5.7 MB 1.3 MB/s eta 0:00:04\n",
      "     -------- ------------------------------- 1.3/5.7 MB 1.3 MB/s eta 0:00:04\n",
      "     -------- ------------------------------- 1.3/5.7 MB 1.2 MB/s eta 0:00:04\n",
      "     ---------- ----------------------------- 1.5/5.7 MB 1.3 MB/s eta 0:00:04\n",
      "     ---------- ----------------------------- 1.5/5.7 MB 1.3 MB/s eta 0:00:04\n",
      "     ---------- ----------------------------- 1.5/5.7 MB 1.2 MB/s eta 0:00:04\n",
      "     ----------- ---------------------------- 1.6/5.7 MB 1.2 MB/s eta 0:00:04\n",
      "     ------------ --------------------------- 1.7/5.7 MB 1.3 MB/s eta 0:00:04\n",
      "     ------------ --------------------------- 1.8/5.7 MB 1.3 MB/s eta 0:00:04\n",
      "     ------------ --------------------------- 1.9/5.7 MB 1.3 MB/s eta 0:00:03\n",
      "     ------------- -------------------------- 2.0/5.7 MB 1.4 MB/s eta 0:00:03\n",
      "     -------------- ------------------------- 2.1/5.7 MB 1.4 MB/s eta 0:00:03\n",
      "     -------------- ------------------------- 2.1/5.7 MB 1.4 MB/s eta 0:00:03\n",
      "     --------------- ------------------------ 2.3/5.7 MB 1.4 MB/s eta 0:00:03\n",
      "     ---------------- ----------------------- 2.4/5.7 MB 1.4 MB/s eta 0:00:03\n",
      "     ----------------- ---------------------- 2.5/5.7 MB 1.4 MB/s eta 0:00:03\n",
      "     ------------------ --------------------- 2.6/5.7 MB 1.5 MB/s eta 0:00:03\n",
      "     ------------------- -------------------- 2.7/5.7 MB 1.5 MB/s eta 0:00:02\n",
      "     ------------------- -------------------- 2.8/5.7 MB 1.5 MB/s eta 0:00:02\n",
      "     -------------------- ------------------- 2.9/5.7 MB 1.6 MB/s eta 0:00:02\n",
      "     --------------------- ------------------ 3.0/5.7 MB 1.6 MB/s eta 0:00:02\n",
      "     --------------------- ------------------ 3.1/5.7 MB 1.6 MB/s eta 0:00:02\n",
      "     ---------------------- ----------------- 3.3/5.7 MB 1.6 MB/s eta 0:00:02\n",
      "     ----------------------- ---------------- 3.4/5.7 MB 1.6 MB/s eta 0:00:02\n",
      "     ------------------------ --------------- 3.5/5.7 MB 1.6 MB/s eta 0:00:02\n",
      "     ------------------------- -------------- 3.6/5.7 MB 1.7 MB/s eta 0:00:02\n",
      "     -------------------------- ------------- 3.7/5.7 MB 1.7 MB/s eta 0:00:02\n",
      "     -------------------------- ------------- 3.8/5.7 MB 1.7 MB/s eta 0:00:02\n",
      "     -------------------------- ------------- 3.8/5.7 MB 1.7 MB/s eta 0:00:02\n",
      "     -------------------------- ------------- 3.8/5.7 MB 1.7 MB/s eta 0:00:02\n",
      "     -------------------------- ------------- 3.9/5.7 MB 1.6 MB/s eta 0:00:02\n",
      "     ---------------------------- ----------- 4.1/5.7 MB 1.7 MB/s eta 0:00:01\n",
      "     ----------------------------- ---------- 4.2/5.7 MB 1.7 MB/s eta 0:00:01\n",
      "     ----------------------------- ---------- 4.3/5.7 MB 1.7 MB/s eta 0:00:01\n",
      "     ------------------------------ --------- 4.4/5.7 MB 1.7 MB/s eta 0:00:01\n",
      "     ------------------------------- -------- 4.5/5.7 MB 1.7 MB/s eta 0:00:01\n",
      "     ------------------------------- -------- 4.6/5.7 MB 1.7 MB/s eta 0:00:01\n",
      "     --------------------------------- ------ 4.8/5.7 MB 1.8 MB/s eta 0:00:01\n",
      "     --------------------------------- ------ 4.9/5.7 MB 1.8 MB/s eta 0:00:01\n",
      "     ---------------------------------- ----- 4.9/5.7 MB 1.8 MB/s eta 0:00:01\n",
      "     ----------------------------------- ---- 5.1/5.7 MB 1.8 MB/s eta 0:00:01\n",
      "     ------------------------------------ --- 5.2/5.7 MB 1.8 MB/s eta 0:00:01\n",
      "     ------------------------------------- -- 5.3/5.7 MB 1.8 MB/s eta 0:00:01\n",
      "     -------------------------------------- - 5.5/5.7 MB 1.8 MB/s eta 0:00:01\n",
      "     ---------------------------------------  5.7/5.7 MB 1.9 MB/s eta 0:00:01\n",
      "     ---------------------------------------  5.7/5.7 MB 1.9 MB/s eta 0:00:01\n",
      "     ---------------------------------------- 5.7/5.7 MB 1.9 MB/s eta 0:00:00\n",
      "Collecting mpmath>=0.19 (from sympy)\n",
      "  Downloading mpmath-1.3.0-py3-none-any.whl (536 kB)\n",
      "     ---------------------------------------- 0.0/536.2 kB ? eta -:--:--\n",
      "     -------- ----------------------------- 122.9/536.2 kB 2.4 MB/s eta 0:00:01\n",
      "     --------------------- ---------------- 307.2/536.2 kB 3.2 MB/s eta 0:00:01\n",
      "     --------------------------- ---------- 389.1/536.2 kB 3.5 MB/s eta 0:00:01\n",
      "     -------------------------------------- 536.2/536.2 kB 3.1 MB/s eta 0:00:00\n",
      "Installing collected packages: mpmath, sympy\n",
      "Successfully installed mpmath-1.3.0 sympy-1.12\n"
     ]
    },
    {
     "name": "stderr",
     "output_type": "stream",
     "text": [
      "\n",
      "[notice] A new release of pip is available: 23.2.1 -> 23.3.2\n",
      "[notice] To update, run: python.exe -m pip install --upgrade pip\n"
     ]
    }
   ],
   "source": [
    "!pip install sympy"
   ]
  },
  {
   "cell_type": "code",
   "execution_count": 1,
   "id": "269df541-10d0-45cd-811d-1d8d80702375",
   "metadata": {},
   "outputs": [
    {
     "data": {
      "text/plain": [
       "3.3333333333333335"
      ]
     },
     "execution_count": 1,
     "metadata": {},
     "output_type": "execute_result"
    }
   ],
   "source": [
    "10/3"
   ]
  },
  {
   "cell_type": "markdown",
   "id": "0a165bfe-679b-4a98-a828-f5fb212298b6",
   "metadata": {},
   "source": [
    "10%3"
   ]
  },
  {
   "cell_type": "code",
   "execution_count": 2,
   "id": "a092e8be-0c28-4922-9782-2b7c795b2c3a",
   "metadata": {},
   "outputs": [
    {
     "data": {
      "text/plain": [
       "1"
      ]
     },
     "execution_count": 2,
     "metadata": {},
     "output_type": "execute_result"
    }
   ],
   "source": [
    "10%3"
   ]
  },
  {
   "cell_type": "code",
   "execution_count": 3,
   "id": "2c67a644-d81e-4017-adf0-7b6e43394a5b",
   "metadata": {},
   "outputs": [
    {
     "data": {
      "text/plain": [
       "512"
      ]
     },
     "execution_count": 3,
     "metadata": {},
     "output_type": "execute_result"
    }
   ],
   "source": [
    "8**3"
   ]
  },
  {
   "cell_type": "code",
   "execution_count": 4,
   "id": "22d7e153-611b-4239-bd10-24970bc36b0c",
   "metadata": {},
   "outputs": [
    {
     "data": {
      "text/plain": [
       "1267650600228229401496703205376"
      ]
     },
     "execution_count": 4,
     "metadata": {},
     "output_type": "execute_result"
    }
   ],
   "source": [
    "2**100"
   ]
  },
  {
   "cell_type": "code",
   "execution_count": 5,
   "id": "0061bfc4-5ade-4de0-9662-84a264025b53",
   "metadata": {},
   "outputs": [],
   "source": [
    "x=22"
   ]
  },
  {
   "cell_type": "code",
   "execution_count": 6,
   "id": "9e3755e2-5cd8-412f-93a1-365ad15b18e6",
   "metadata": {},
   "outputs": [],
   "source": [
    "y=7"
   ]
  },
  {
   "cell_type": "code",
   "execution_count": 7,
   "id": "656915f7-0a4c-4359-8e20-179b1fab09a0",
   "metadata": {},
   "outputs": [
    {
     "data": {
      "text/plain": [
       "3.142857142857143"
      ]
     },
     "execution_count": 7,
     "metadata": {},
     "output_type": "execute_result"
    }
   ],
   "source": [
    "x/y"
   ]
  },
  {
   "cell_type": "code",
   "execution_count": 8,
   "id": "2db5a396-104e-4059-ad4a-4bcd942deb59",
   "metadata": {},
   "outputs": [
    {
     "data": {
      "text/plain": [
       "29"
      ]
     },
     "execution_count": 8,
     "metadata": {},
     "output_type": "execute_result"
    }
   ],
   "source": [
    "x+y"
   ]
  },
  {
   "cell_type": "code",
   "execution_count": 9,
   "id": "1a7a7472-0836-437e-a3de-4d8713d2da35",
   "metadata": {},
   "outputs": [
    {
     "data": {
      "text/plain": [
       "841"
      ]
     },
     "execution_count": 9,
     "metadata": {},
     "output_type": "execute_result"
    }
   ],
   "source": [
    "(x+y)**2"
   ]
  },
  {
   "cell_type": "code",
   "execution_count": 10,
   "id": "f0dfce1e-be28-4d04-8449-909b7397532c",
   "metadata": {},
   "outputs": [],
   "source": [
    "z=(x+y)**2"
   ]
  },
  {
   "cell_type": "code",
   "execution_count": 11,
   "id": "839a06f1-cbaf-4926-8901-c12ecd7de234",
   "metadata": {},
   "outputs": [
    {
     "name": "stdout",
     "output_type": "stream",
     "text": [
      "841\n"
     ]
    }
   ],
   "source": [
    "print(z)"
   ]
  },
  {
   "cell_type": "code",
   "execution_count": 12,
   "id": "d178ba4c-c18a-4dec-9326-995ca1462e9f",
   "metadata": {},
   "outputs": [
    {
     "data": {
      "text/plain": [
       "3"
      ]
     },
     "execution_count": 12,
     "metadata": {},
     "output_type": "execute_result"
    }
   ],
   "source": [
    "10//3"
   ]
  },
  {
   "cell_type": "code",
   "execution_count": 13,
   "id": "8e76c10b-4c3b-4464-a516-31294f100c4b",
   "metadata": {},
   "outputs": [
    {
     "data": {
      "text/plain": [
       "3"
      ]
     },
     "execution_count": 13,
     "metadata": {},
     "output_type": "execute_result"
    }
   ],
   "source": [
    "11//3"
   ]
  },
  {
   "cell_type": "code",
   "execution_count": 14,
   "id": "88c428f0-e3e1-471d-8698-6c2e66429172",
   "metadata": {},
   "outputs": [
    {
     "data": {
      "text/plain": [
       "4"
      ]
     },
     "execution_count": 14,
     "metadata": {},
     "output_type": "execute_result"
    }
   ],
   "source": [
    "12//3"
   ]
  },
  {
   "cell_type": "code",
   "execution_count": 15,
   "id": "34af5b3b-04f2-43ea-b94e-efb601e3aac5",
   "metadata": {},
   "outputs": [],
   "source": [
    "a=1656+4564"
   ]
  },
  {
   "cell_type": "code",
   "execution_count": 16,
   "id": "ed168ea6-8795-4dfb-bc04-5e1afa07aa61",
   "metadata": {},
   "outputs": [],
   "source": [
    "b=456/5"
   ]
  },
  {
   "cell_type": "code",
   "execution_count": 17,
   "id": "77abfdee-6fda-4c5b-a1b3-b468ca609f97",
   "metadata": {},
   "outputs": [],
   "source": [
    "c=27%8"
   ]
  },
  {
   "cell_type": "code",
   "execution_count": 18,
   "id": "4667073c-602c-4c0b-b228-649c752789fc",
   "metadata": {},
   "outputs": [],
   "source": [
    "d=5//2"
   ]
  },
  {
   "cell_type": "code",
   "execution_count": 19,
   "id": "e5692401-91c5-4dbd-9b23-77a8e67c2874",
   "metadata": {},
   "outputs": [],
   "source": [
    "e=6121**7"
   ]
  },
  {
   "cell_type": "code",
   "execution_count": 20,
   "id": "9476e666-8d55-4b58-9803-336970a2d1ee",
   "metadata": {},
   "outputs": [
    {
     "name": "stdout",
     "output_type": "stream",
     "text": [
      "6220 91.2 3 2 321926447036987100011865241\n"
     ]
    }
   ],
   "source": [
    "print(a,b,c,d,e)"
   ]
  },
  {
   "cell_type": "code",
   "execution_count": 1,
   "id": "e4e3903c-aa82-4d81-8260-0ae5b874bdf7",
   "metadata": {},
   "outputs": [
    {
     "data": {
      "text/plain": [
       "4"
      ]
     },
     "execution_count": 1,
     "metadata": {},
     "output_type": "execute_result"
    }
   ],
   "source": [
    "2+2"
   ]
  },
  {
   "cell_type": "code",
   "execution_count": 2,
   "id": "6fa2e315-9df1-40a1-836c-daafb41a4d44",
   "metadata": {},
   "outputs": [],
   "source": [
    "x=20"
   ]
  },
  {
   "cell_type": "code",
   "execution_count": 3,
   "id": "c76e7d80-2554-4f25-a62a-55d38eb2a7bd",
   "metadata": {},
   "outputs": [],
   "source": [
    "y=2"
   ]
  },
  {
   "cell_type": "code",
   "execution_count": 4,
   "id": "12e860d1-a3f4-46c3-a4cc-116c361bb94b",
   "metadata": {},
   "outputs": [],
   "source": [
    "x%=y"
   ]
  },
  {
   "cell_type": "code",
   "execution_count": 9,
   "id": "844ab236-9850-4124-828a-0b41f0c2416e",
   "metadata": {},
   "outputs": [],
   "source": [
    "x=20"
   ]
  },
  {
   "cell_type": "code",
   "execution_count": 6,
   "id": "43da44bf-8e47-4cff-bc9e-2712e01f9b15",
   "metadata": {},
   "outputs": [],
   "source": [
    "y=3"
   ]
  },
  {
   "cell_type": "code",
   "execution_count": 7,
   "id": "bb2b43b1-8fd0-4cd6-972f-580dec343491",
   "metadata": {},
   "outputs": [],
   "source": [
    "x%=y"
   ]
  },
  {
   "cell_type": "code",
   "execution_count": 10,
   "id": "6b52bd1c-f5ff-4826-b49e-c7bcad12f5d8",
   "metadata": {},
   "outputs": [
    {
     "name": "stdout",
     "output_type": "stream",
     "text": [
      "20\n"
     ]
    }
   ],
   "source": [
    "print(x)"
   ]
  },
  {
   "cell_type": "code",
   "execution_count": 1,
   "id": "5802c3c5-990a-47e8-a5ed-b56c62d0e72d",
   "metadata": {},
   "outputs": [
    {
     "data": {
      "image/png": "[encoded data removed]",
      "text/plain": [
       "<Figure size 640x480 with 1 Axes>"
      ]
     },
     "metadata": {},
     "output_type": "display_data"
    }
   ],
   "source": [
    "import matplotlib.pyplot as plt\n",
    "import numpy as np\n",
    "\n",
    "x=np.arange(0,4*np.pi,0.1)\n",
    "y=np.sin(x)\n",
    "z=np.cos(x)\n",
    "plt.plot(x,y,x,z)\n",
    "plt.title(\"sine and cos wave\")\n",
    "plt.xlabel(\"time\")\n",
    "plt.ylabel(\"function\")\n",
    "plt.grid(True)\n",
    "plt.show()"
   ]
  },
  {
   "cell_type": "code",
   "execution_count": null,
   "id": "27c30b61-4d4f-4dba-ba5b-e078f190a706",
   "metadata": {},
   "outputs": [],
   "source": []
  }
 ],
 "metadata": {
  "kernelspec": {
   "display_name": "Python 3 (ipykernel)",
   "language": "python",
   "name": "python3"
  },
  "language_info": {
   "codemirror_mode": {
    "name": "ipython",
    "version": 3
   },
   "file_extension": ".py",
   "mimetype": "text/x-python",
   "name": "python",
   "nbconvert_exporter": "python",
   "pygments_lexer": "ipython3",
   "version": "3.12.1"
  }
 },
 "nbformat": 4,
 "nbformat_minor": 5
}
