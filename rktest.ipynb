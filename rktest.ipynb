{
 "cells": [
  {
   "cell_type": "code",
   "execution_count": 3,
   "metadata": {},
   "outputs": [
    {
     "data": {
      "text/plain": [
       "565454"
      ]
     },
     "execution_count": 3,
     "metadata": {},
     "output_type": "execute_result"
    }
   ],
   "source": [
    "import math \n",
    "import numpy\n",
    "abs(-565454)"
   ]
  },
  {
   "cell_type": "code",
   "execution_count": 4,
   "id": "f5d083f3",
   "metadata": {},
   "outputs": [
    {
     "data": {
      "text/plain": [
       "1555"
      ]
     },
     "execution_count": 4,
     "metadata": {},
     "output_type": "execute_result"
    }
   ],
   "source": [
    "import math\n",
    "round(1554.56544)"
   ]
  },
  {
   "cell_type": "code",
   "execution_count": 5,
   "id": "47ecda91",
   "metadata": {},
   "outputs": [
    {
     "data": {
      "text/plain": [
       "66455"
      ]
     },
     "execution_count": 5,
     "metadata": {},
     "output_type": "execute_result"
    }
   ],
   "source": [
    "import math\n",
    "math.ceil(66454.65445456465)"
   ]
  },
  {
   "cell_type": "code",
   "execution_count": 6,
   "id": "fe6c1797",
   "metadata": {},
   "outputs": [
    {
     "data": {
      "text/plain": [
       "4550"
      ]
     },
     "execution_count": 6,
     "metadata": {},
     "output_type": "execute_result"
    }
   ],
   "source": [
    "import math\n",
    "math.floor(4550.44545)"
   ]
  },
  {
   "cell_type": "code",
   "execution_count": 7,
   "id": "f6abe1b2",
   "metadata": {},
   "outputs": [
    {
     "data": {
      "text/plain": [
       "55.001"
      ]
     },
     "execution_count": 7,
     "metadata": {},
     "output_type": "execute_result"
    }
   ],
   "source": [
    "max(55.000,55.001)"
   ]
  },
  {
   "cell_type": "code",
   "execution_count": 8,
   "id": "a8ddfa8f",
   "metadata": {},
   "outputs": [
    {
     "data": {
      "text/plain": [
       "55"
      ]
     },
     "execution_count": 8,
     "metadata": {},
     "output_type": "execute_result"
    }
   ],
   "source": [
    "min(57,55)"
   ]
  },
  {
   "cell_type": "code",
   "execution_count": 10,
   "id": "3547db58",
   "metadata": {},
   "outputs": [
    {
     "data": {
      "text/plain": [
       "180.0"
      ]
     },
     "execution_count": 10,
     "metadata": {},
     "output_type": "execute_result"
    }
   ],
   "source": [
    "import math\n",
    "math.degrees(math.pi)"
   ]
  },
  {
   "cell_type": "code",
   "execution_count": null,
   "id": "fef97513",
   "metadata": {},
   "outputs": [],
   "source": [
    "log"
   ]
  }
 ],
 "metadata": {
  "kernelspec": {
   "display_name": "Python 3",
   "language": "python",
   "name": "python3"
  },
  "language_info": {
   "codemirror_mode": {
    "name": "ipython",
    "version": 3
   },
   "file_extension": ".py",
   "mimetype": "text/x-python",
   "name": "python",
   "nbconvert_exporter": "python",
   "pygments_lexer": "ipython3",
   "version": "3.12.1"
  }
 },
 "nbformat": 4,
 "nbformat_minor": 5
}
