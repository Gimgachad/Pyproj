{
 "cells": [
  {
   "cell_type": "code",
   "execution_count": 1,
   "metadata": {},
   "outputs": [],
   "source": [
    "def bubble_sort(l):\n",
    "    for i in range(len(l)):\n",
    "        for j in range(len(l)-i-1):\n",
    "            if l[j] > l[j+1]:\n",
    "                l[j], l[j+1] = l[j+1], l[j]\n",
    "                "
   ]
  },
  {
   "cell_type": "code",
   "execution_count": 3,
   "metadata": {},
   "outputs": [
    {
     "name": "stdout",
     "output_type": "stream",
     "text": [
      "[1, 8, 5, 2, 0]\n",
      "[0, 1, 2, 5, 8]\n"
     ]
    }
   ],
   "source": [
    "l = [1, 8, 5, 2, 0]\n",
    "\n",
    "print(l)\n",
    "\n",
    "bubble_sort(l)\n",
    "\n",
    "print(l)"
   ]
  },
  {
   "cell_type": "code",
   "execution_count": 6,
   "metadata": {},
   "outputs": [
    {
     "name": "stdout",
     "output_type": "stream",
     "text": [
      "[5, 3, 8, 6, 7, 2]\n",
      "[2, 3, 5, 6, 7, 8]\n"
     ]
    }
   ],
   "source": [
    "def sort (nums) :\n",
    "    for i in range (len (nums)-1,0,-1) :\n",
    "        for j in range(i) :\n",
    "            if nums [j]>nums [j+1]:\n",
    "                temp = nums [j]\n",
    "                nums [j] = nums [j+1]\n",
    "                nums [j+1] = temp\n",
    "\n",
    "nums = [5, 3, 8, 6, 7, 2]\n",
    "print(nums)\n",
    "\n",
    "sort (nums)\n",
    "\n",
    "print (nums)"
   ]
  }
 ],
 "metadata": {
  "kernelspec": {
   "display_name": "Python 3",
   "language": "python",
   "name": "python3"
  },
  "language_info": {
   "codemirror_mode": {
    "name": "ipython",
    "version": 3
   },
   "file_extension": ".py",
   "mimetype": "text/x-python",
   "name": "python",
   "nbconvert_exporter": "python",
   "pygments_lexer": "ipython3",
   "version": "3.12.1"
  }
 },
 "nbformat": 4,
 "nbformat_minor": 2
}
