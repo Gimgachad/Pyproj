{
 "cells": [
  {
   "cell_type": "code",
   "execution_count": 9,
   "metadata": {},
   "outputs": [
    {
     "name": "stdout",
     "output_type": "stream",
     "text": [
      "25\n"
     ]
    }
   ],
   "source": [
    "def f(x):\n",
    "    d = 0\n",
    "    while x > 1:\n",
    "        (x, d) = (x/2, d+1)\n",
    "    return d\n",
    "\n",
    "print(f(27182818))"
   ]
  },
  {
   "cell_type": "code",
   "execution_count": 2,
   "metadata": {},
   "outputs": [
    {
     "name": "stdout",
     "output_type": "stream",
     "text": [
      "75\n"
     ]
    }
   ],
   "source": [
    "def h(n):\n",
    "    s = 0\n",
    "    for i in range(2,n):\n",
    "        if n%i == 0:\n",
    "           s = s+i\n",
    "    return(s)\n",
    "\n",
    "print(h(60)-h(45))"
   ]
  },
  {
   "cell_type": "code",
   "execution_count": 13,
   "metadata": {},
   "outputs": [
    {
     "data": {
      "text/plain": [
       "2"
      ]
     },
     "execution_count": 13,
     "metadata": {},
     "output_type": "execute_result"
    }
   ],
   "source": [
    "def g(m,n):\n",
    "    res = 0\n",
    "    while m >= n:\n",
    "        (res,m) = (res+1,m/n)\n",
    "    return(res)\n",
    "\n",
    "g(375,15)"
   ]
  },
  {
   "cell_type": "code",
   "execution_count": 14,
   "metadata": {},
   "outputs": [
    {
     "name": "stdout",
     "output_type": "stream",
     "text": [
      "g(375,4) returns 4,n=4\n"
     ]
    }
   ],
   "source": [
    "def g(m,n):\n",
    "    res = 0\n",
    "    while m >= n:\n",
    "        (res,m) = (res+1,m/n)\n",
    "    return (res)\n",
    "\n",
    "for n in range(2,375):\n",
    "    if g(375,n) == 4 :\n",
    "        print(f'g(375,{n}) returns 4,n={n}')\n",
    "        break"
   ]
  },
  {
   "cell_type": "code",
   "execution_count": 3,
   "metadata": {},
   "outputs": [
    {
     "ename": "TypeError",
     "evalue": "'str' object does not support item assignment",
     "output_type": "error",
     "traceback": [
      "\u001b[1;31m---------------------------------------------------------------------------\u001b[0m",
      "\u001b[1;31mTypeError\u001b[0m                                 Traceback (most recent call last)",
      "Cell \u001b[1;32mIn[3], line 7\u001b[0m\n\u001b[0;32m      5\u001b[0m x[\u001b[38;5;241m1\u001b[39m] \u001b[38;5;241m=\u001b[39m x[\u001b[38;5;241m1\u001b[39m][\u001b[38;5;241m0\u001b[39m:\u001b[38;5;241m3\u001b[39m] \u001b[38;5;241m+\u001b[39m \u001b[38;5;124m'\u001b[39m\u001b[38;5;124md\u001b[39m\u001b[38;5;124m'\u001b[39m         \u001b[38;5;66;03m# Statement 5\u001b[39;00m\n\u001b[0;32m      6\u001b[0m y[\u001b[38;5;241m2\u001b[39m] \u001b[38;5;241m=\u001b[39m \u001b[38;5;241m4\u001b[39m                       \u001b[38;5;66;03m# Statement 6\u001b[39;00m\n\u001b[1;32m----> 7\u001b[0m \u001b[43mz\u001b[49m\u001b[43m[\u001b[49m\u001b[38;5;241;43m1\u001b[39;49m\u001b[43m]\u001b[49m\u001b[43m[\u001b[49m\u001b[38;5;241;43m1\u001b[39;49m\u001b[43m:\u001b[49m\u001b[38;5;241;43m3\u001b[39;49m\u001b[43m]\u001b[49m \u001b[38;5;241m=\u001b[39m \u001b[38;5;124m'\u001b[39m\u001b[38;5;124myzw\u001b[39m\u001b[38;5;124m'\u001b[39m              \u001b[38;5;66;03m# Statement 7\u001b[39;00m\n\u001b[0;32m      8\u001b[0m z[\u001b[38;5;241m0\u001b[39m] \u001b[38;5;241m=\u001b[39m \u001b[38;5;241m0\u001b[39m                       \u001b[38;5;66;03m# Statement 8\u001b[39;00m\n\u001b[0;32m      9\u001b[0m w[\u001b[38;5;241m4\u001b[39m][\u001b[38;5;241m0\u001b[39m] \u001b[38;5;241m=\u001b[39m \u001b[38;5;241m1000\u001b[39m                 \u001b[38;5;66;03m# Statement 9\u001b[39;00m\n",
      "\u001b[1;31mTypeError\u001b[0m: 'str' object does not support item assignment"
     ]
    }
   ],
   "source": [
    "x = [1,\"abcd\",2,\"efgh\",[3,4]]  # Statement 1\n",
    "y = x[0:6]                     # Statement 2\n",
    "z = x                          # Statement 3\n",
    "w = y                          # Statement 4\n",
    "x[1] = x[1][0:3] + 'd'         # Statement 5\n",
    "y[2] = 4                       # Statement 6\n",
    "z[1][1:3] = 'yzw'              # Statement 7\n",
    "z[0] = 0                       # Statement 8\n",
    "w[4][0] = 1000                 # Statement 9\n",
    "a = (x[4][1] == 4)             # Statement 10"
   ]
  },
  {
   "cell_type": "code",
   "execution_count": 7,
   "metadata": {},
   "outputs": [
    {
     "name": "stdout",
     "output_type": "stream",
     "text": [
      "37\n",
      "47\n",
      "False\n"
     ]
    }
   ],
   "source": [
    "x = [423,'b',37,'f']\n",
    "u = x[1:]\n",
    "y = u\n",
    "w = x\n",
    "u = u[0:]\n",
    "u[1] = 53\n",
    "x[2] = 47\n",
    "\n",
    "print(y[1])\n",
    "print(w[2])\n",
    "\n",
    "print(bool(y[1]==w[2]))"
   ]
  },
  {
   "cell_type": "code",
   "execution_count": 4,
   "metadata": {},
   "outputs": [
    {
     "name": "stdout",
     "output_type": "stream",
     "text": [
      "tarantula\n"
     ]
    }
   ],
   "source": [
    "first = \"tarantula\"\n",
    "second = \"\"\n",
    "\n",
    "third = first + second\n",
    "print(third)"
   ]
  },
  {
   "cell_type": "code",
   "execution_count": 6,
   "metadata": {},
   "outputs": [
    {
     "name": "stdout",
     "output_type": "stream",
     "text": [
      "9\n",
      "a\n",
      "la\n",
      "ula\n",
      "tula\n",
      "ntula\n",
      "antula\n",
      "rantula\n",
      "arantula\n",
      "tarantula\n"
     ]
    }
   ],
   "source": [
    "first = \"tarantula\"\n",
    "second = \"\"\n",
    "print(len(first))\n",
    "for i in range(len(first)-1,-1,-1):\n",
    "  second = first[i] + second\n",
    "  print(second)"
   ]
  },
  {
   "cell_type": "code",
   "execution_count": 4,
   "metadata": {},
   "outputs": [
    {
     "data": {
      "text/plain": [
       "()"
      ]
     },
     "execution_count": 4,
     "metadata": {},
     "output_type": "execute_result"
    }
   ],
   "source": [
    "def mystery(l):\n",
    "  l = l[0:5]\n",
    "  return()\n",
    "\n",
    "list1 = [44,71,12,8,23,17,16]\n",
    "mystery(list1)"
   ]
  },
  {
   "cell_type": "code",
   "execution_count": 5,
   "metadata": {},
   "outputs": [
    {
     "name": "stdout",
     "output_type": "stream",
     "text": [
      "True\n",
      "False\n",
      "True\n"
     ]
    },
    {
     "data": {
      "text/plain": [
       "False"
      ]
     },
     "execution_count": 5,
     "metadata": {},
     "output_type": "execute_result"
    }
   ],
   "source": [
    "def threesquares(m):\n",
    "    if m <= 0:\n",
    "        return False\n",
    "    \n",
    "    # Check if the number is a perfect square\n",
    "    def is_perfect_square(num):\n",
    "        return int(num**0.5)**2 == num\n",
    "    \n",
    "    # Iterate through possible values of p, q, r and check if m can be expressed as p + q + r\n",
    "    for p in range(int(m**0.5) + 1):\n",
    "        for q in range(int(m**0.5) + 1):\n",
    "            r = m - p**2 - q**2\n",
    "            if r >= 0 and is_perfect_square(r):\n",
    "                return True\n",
    "                \n",
    "    return False\n",
    "\n",
    "# Examples\n",
    "print(threesquares(6))    # True\n",
    "print(threesquares(188))  # False\n",
    "print(threesquares(1000)) # True\n",
    "threesquares()"
   ]
  },
  {
   "cell_type": "code",
   "execution_count": 1,
   "metadata": {},
   "outputs": [
    {
     "data": {
      "text/plain": [
       "False"
      ]
     },
     "execution_count": 1,
     "metadata": {},
     "output_type": "execute_result"
    }
   ],
   "source": [
    "def repfree(s):\n",
    "    return len(s) == len(set(s))\n",
    "\n",
    "repfree(\"zbx\")          # True\n",
    "repfree(\"(7)(a\")        # False\n",
    "repfree(\"a)*(?\")          # True\n",
    "repfree(\"abracadabra\")   # False\n",
    "\n",
    "repfree(\"qwerty!@#2\")\n",
    "repfree(\"(x+6)(y-5)\")\n",
    "repfree(\"94templars\")\n",
    "repfree(\"siruseri\")\n"
   ]
  },
  {
   "cell_type": "code",
   "execution_count": 15,
   "metadata": {},
   "outputs": [
    {
     "data": {
      "text/plain": [
       "False"
      ]
     },
     "execution_count": 15,
     "metadata": {},
     "output_type": "execute_result"
    }
   ],
   "source": [
    "def hillvalley(l):\n",
    "    n = len(l)\n",
    "    if n < 4:  # A hill or a valley must have at least 4 elements\n",
    "        return False\n",
    "\n",
    "    # Check if the list is a hill\n",
    "    i = 1\n",
    "    while i < n and l[i] > l[i-1]:  # Ascending sequence\n",
    "        i += 1\n",
    "    if i == 1 or i == n:  # Ascending sequence is too short or doesn't exist\n",
    "        pass\n",
    "    else:\n",
    "        while i < n and l[i] < l[i-1]:  # Descending sequence\n",
    "            i += 1\n",
    "        if i == n:  # The list is a hill\n",
    "            return True\n",
    "\n",
    "    # Check if the list is a valley\n",
    "    i = 1\n",
    "    while i < n and l[i] < l[i-1]:  # Descending sequence\n",
    "        i += 1\n",
    "    if i == 1 or i == n:  # Descending sequence is too short or doesn't exist\n",
    "        return False\n",
    "    while i < n and l[i] > l[i-1]:  # Ascending sequence\n",
    "        i += 1\n",
    "    return i == n  # The list is a valley if we've gone through the entire list\n",
    "\n",
    "#hillvalley([1,2,3,4,5,3,2,4,5,3,2,1])\n",
    "hillvalley([1,0,2])\n"
   ]
  },
  {
   "cell_type": "code",
   "execution_count": 13,
   "metadata": {},
   "outputs": [
    {
     "data": {
      "text/plain": [
       "True"
      ]
     },
     "execution_count": 13,
     "metadata": {},
     "output_type": "execute_result"
    }
   ],
   "source": [
    "def hillvalley(a):\n",
    "    desc, asc = sorted(a, reverse=True), sorted(a)\n",
    "\n",
    "    i = 1\n",
    "    if a == desc or a == asc: \n",
    "        return False\n",
    "    while i < len(a) - 1:\n",
    "        \n",
    "        if a[i - 1] < a[i] : \n",
    "            if a[i + 1] < a[i]: \n",
    "                return True\n",
    "                \n",
    "        elif a[i - 1] > a[i]:\n",
    "            if a[i + 1] > a[i]:\n",
    "                return True\n",
    "                \n",
    "        i += 1\n",
    "\n",
    "# Examples\n",
    "#hillvalley([1,2,3,5,4])  # True\n",
    "#hillvalley([1,2,3,4,5])  # False\n",
    "#hillvalley([5,4,1,2,3])  # True\n",
    "#hillvalley([5,4,3,2,1])  # False\n",
    "hillvalley([1,0,2])"
   ]
  },
  {
   "cell_type": "code",
   "execution_count": 21,
   "metadata": {},
   "outputs": [
    {
     "ename": "SyntaxError",
     "evalue": "invalid syntax (3550460235.py, line 1)",
     "output_type": "error",
     "traceback": [
      "\u001b[1;36m  Cell \u001b[1;32mIn[21], line 1\u001b[1;36m\u001b[0m\n\u001b[1;33m    def remdup(int(l)):\u001b[0m\n\u001b[1;37m                  ^\u001b[0m\n\u001b[1;31mSyntaxError\u001b[0m\u001b[1;31m:\u001b[0m invalid syntax\n"
     ]
    }
   ],
   "source": [
    "def remdup(l):\n",
    "    a = []\n",
    "    for i in l:\n",
    "        if i not in a:\n",
    "            a.append(i)\n",
    "    return a\n",
    "\n",
    "#remdup([3,1,3,5])\n",
    "#remdup([7,3,-1,-5])\n",
    "remdup([3,5,7,5,3,7,10])"
   ]
  },
  {
   "cell_type": "code",
   "execution_count": 22,
   "metadata": {},
   "outputs": [
    {
     "data": {
      "text/plain": [
       "[0, 144]"
      ]
     },
     "execution_count": 22,
     "metadata": {},
     "output_type": "execute_result"
    }
   ],
   "source": [
    "def sumsquare(l):\n",
    "    odd = 0\n",
    "    even = 0\n",
    "    for i in l:\n",
    "        if i % 2 == 1:\n",
    "            odd += i**2 \n",
    "        elif i % 2 == 0:\n",
    "            even += i**2\n",
    "    return [odd, even]\n",
    "\n",
    "sumsquare([12])"
   ]
  },
  {
   "cell_type": "code",
   "execution_count": 26,
   "metadata": {},
   "outputs": [
    {
     "data": {
      "text/plain": [
       "[[1, 2, 3], [4, 5, 6]]"
      ]
     },
     "execution_count": 26,
     "metadata": {},
     "output_type": "execute_result"
    }
   ],
   "source": [
    "[[1],[2],[3]]\n",
    "[[1,2,3],[4,5,6]]"
   ]
  },
  {
   "cell_type": "code",
   "execution_count": 29,
   "metadata": {},
   "outputs": [
    {
     "data": {
      "text/plain": [
       "[[3]]"
      ]
     },
     "execution_count": 29,
     "metadata": {},
     "output_type": "execute_result"
    }
   ],
   "source": [
    "def transpose(m):\n",
    "    return [list(i) for i in zip(*m)]\n",
    "\n",
    "transpose([[1,2,3],[4,5,6]])\n",
    "transpose([[1],[2],[3]])\n",
    "transpose([[3]])\n",
    "transpose"
   ]
  },
  {
   "cell_type": "code",
   "execution_count": 23,
   "metadata": {},
   "outputs": [
    {
     "data": {
      "text/plain": [
       "False"
      ]
     },
     "execution_count": 23,
     "metadata": {},
     "output_type": "execute_result"
    }
   ],
   "source": [
    "def factors (n):\n",
    "        if n == 0:\n",
    "            return([0])\n",
    "        factorlist = [] \n",
    "        for i in range(1,n+1):\n",
    "              if n%i == 0:\n",
    "                   factorlist.append(i)\n",
    "        return(factorlist)\n",
    "\n",
    "def square(n):\n",
    "       return(len(factors (n))%2 == 1)\n",
    "\n",
    "def threesquares (n):\n",
    "        for i in range(0,n+1):\n",
    "             for j in range(i,n+1):\n",
    "                   if square(i) and square(j) and square (n-(i+j)):\n",
    "                        return(\n",
    "                                True)\n",
    "        return(False)\n",
    "      \n",
    "########################################\n",
    "\n",
    "\n",
    "def repfree(s): \n",
    "        for i in range(len(s)):\n",
    "            for j in range(i+1,len(s)):\n",
    "                  if s[i] == s[j]: \n",
    "                      return(False)\n",
    "        return(True)\n",
    "\n",
    "\n",
    "\n",
    "######################################\n",
    "\n",
    "\n",
    "def ascending(l):\n",
    "    if len(l) <= 1 : \n",
    "        return(True)\n",
    "    else: \n",
    "        return ( l[0] < l[1] and ascending ( l[1:]))\n",
    "\n",
    "def descending(l):\n",
    "        if len(l) <= 1 :\n",
    "            return(True)\n",
    "        else:\n",
    "           return(l[0] > l[1] and descending (l[1:]))\n",
    "\n",
    "def hill(l):\n",
    "        for i in range(1,len (l) - 1 ) : \n",
    "             if ascending (l[: i + 1 ]) and descending ( l [i:]) : \n",
    "                   return(True)\n",
    "        return(False)\n",
    "\n",
    "def valley(l):\n",
    "        for i in range(1,len(l)-1):\n",
    "             if descending (l[:i+1]) and ascending ( l [i:]) :\n",
    "                  return(True)\n",
    "        return(False)\n",
    "      \n",
    "def hillvalley(l):\n",
    "      return(hill(l) or valley(l))\n",
    "\n",
    "# repfree(\"zbx\")          # True\n",
    "# repfree(\"(7)(a\")        # False\n",
    "# repfree(\"a)*(?\")          # True\n",
    "# repfree(\"abracadabra\")   # False\n",
    "\n",
    "# repfree(\"qwerty!@#2\")\n",
    "# repfree(\"(x+6)(y-5)\")\n",
    "# repfree(\"94templars\")\n",
    "# repfree(\"siruseri\")\n",
    "\n",
    "#hillvalley([1,2,3,5,4])  # True\n",
    "#hillvalley([1,2,3,4,5])  # False\n",
    "#hillvalley([5,4,1,2,3])  # True\n",
    "#hillvalley([5,4,3,2,1])  # False\n",
    "#hillvalley([1,0,2])\n",
    "\n",
    "# hillvalley([1,2,3,5,4,3,2,1])\n",
    "# True\n",
    "# Test Case 9\t\n",
    "# hillvalley([1,2,3,4,5,3,2,4,5,3,2,1])\n",
    "# False\n",
    "# Test Case 10\t\n",
    "# hillvalley([9,5,4,-1,-2,3,7])\n",
    "# True\n",
    "# Test Case 11\t\n",
    "# hillvalley([5,4,3,2,1,0,-1,-2,-3])"
   ]
  },
  {
   "cell_type": "code",
   "execution_count": null,
   "metadata": {},
   "outputs": [],
   "source": [
    "def remdup(l):\n",
    "    p = []\n",
    "    for x in l:\n",
    "        if x not in p :\n",
    "            p += [x]\n",
    "    return(p)\n",
    "\n",
    "def sumsquare(l):\n",
    "    a = [0, 0]\n",
    "    for i in range(len(l)):\n",
    "        if l[i] % 2 == 0:\n",
    "            a[l] += l[i] ** 2\n",
    "    else:\n",
    "        a[0] += l[i] ** 2\n",
    "    return (a)\n",
    "\n",
    "def transpose(m):\n",
    "    b = []\n",
    "    c = len(m[0])\n",
    "    r = len(m)\n",
    "    for i in range(0, c):\n",
    "        li = []\n",
    "        for j in range(0, r):\n",
    "            li += [m[j][i]]\n",
    "        b += [li]\n",
    "    return (b)\n",
    "\n",
    "\n"
   ]
  },
  {
   "cell_type": "code",
   "execution_count": 29,
   "metadata": {},
   "outputs": [
    {
     "data": {
      "text/plain": [
       "[[1, 2, 3]]"
      ]
     },
     "execution_count": 29,
     "metadata": {},
     "output_type": "execute_result"
    }
   ],
   "source": [
    "def transpose(m):\n",
    "    B = []\n",
    "    for k in range(len(m[0])):\n",
    "        B.append([])\n",
    "\n",
    "    for i in range(0, len(m)):\n",
    "        for j in range(0, len(m[i])):\n",
    "            B[j].append(m[i][j])\n",
    "    return B\n",
    "\n",
    "transpose([[1,2,3],[4,5,6]])\n",
    "transpose([[1],[2],[3]])\n",
    "transpose([[3]])\n",
    "transpose([[1,2,3],[4,5,6]])\n",
    "transpose([[1],[2],[3]])\n",
    "\n"
   ]
  },
  {
   "cell_type": "code",
   "execution_count": null,
   "metadata": {},
   "outputs": [],
   "source": [
    "def threesquares(m):\n",
    "    if m < 0:\n",
    "        return False\n",
    "    for i in range(0, int(m**0.5)+1):\n",
    "        for j in range(i, int(m**0.5)+1):\n",
    "            for k in range(j, int(m**0.5)+1):\n",
    "                if i*i + j*j + k*k == m:\n",
    "                    return True\n",
    "    return False\n",
    "\n",
    "def repfree(s):\n",
    "    return len(s) == len(set(s))\n",
    "  \n",
    "\n",
    "def hillvalley(a):\n",
    "    hill = valley = False \n",
    "    \n",
    "    i = 1\n",
    "    while i < len(a) - 1:\n",
    "        if a[i-1] < a[i] and a[i+1] < a[i]:\n",
    "            hill = True\n",
    "        elif a[i-1] > a[i] and a[i+1] > a[i]:\n",
    "            valley = True\n",
    "        if hill and valley:\n",
    "            return False \n",
    "        i += 1\n",
    "\n",
    "    return hill or valley "
   ]
  },
  {
   "cell_type": "code",
   "execution_count": null,
   "metadata": {},
   "outputs": [],
   "source": [
    "def remdup(l):\n",
    "    a = []\n",
    "    for i in l:\n",
    "        if i not in a:\n",
    "            a.append(i)\n",
    "    return a\n",
    "\n",
    "def sumsquare(l):\n",
    "    odd = 0\n",
    "    even = 0\n",
    "    for i in l:\n",
    "        if i % 2 == 1:\n",
    "            odd += i**2 \n",
    "        elif i % 2 == 0:\n",
    "            even += i**2\n",
    "    return [odd, even]\n",
    "\n",
    "def transpose(m):\n",
    "    B = []\n",
    "    for k in range(len(m[0])):\n",
    "        B.append([])\n",
    "\n",
    "    for i in range(0, len(m)):\n",
    "        for j in range(0, len(m[i])):\n",
    "            B[j].append(m[i][j])\n",
    "    return B"
   ]
  },
  {
   "cell_type": "code",
   "execution_count": 1,
   "metadata": {},
   "outputs": [
    {
     "data": {
      "text/plain": [
       "258"
      ]
     },
     "execution_count": 1,
     "metadata": {},
     "output_type": "execute_result"
    }
   ],
   "source": [
    "def mystery(l,v):\n",
    "  if len(l) == 0:\n",
    "    return (v)\n",
    "  else:\n",
    "    return (mystery(l[:-1],l[-1]+v))\n",
    "\n",
    "mystery([22,14,19,65,82,55],1)"
   ]
  },
  {
   "cell_type": "code",
   "execution_count": 3,
   "metadata": {},
   "outputs": [
    {
     "name": "stdout",
     "output_type": "stream",
     "text": [
      "[(2, 4, 5), (3, 3, 5), (3, 4, 5), (3, 4, 6)]\n"
     ]
    }
   ],
   "source": [
    "triples = [ (x,y,z) for x in range(2,4) for y in range(2,5) for z in range(5,7) if 2*x*y > 3*z ]\n",
    "\n",
    "print(triples)"
   ]
  },
  {
   "cell_type": "code",
   "execution_count": 2,
   "metadata": {},
   "outputs": [
    {
     "name": "stdout",
     "output_type": "stream",
     "text": [
      "('player3', 100)\n",
      "('Pant', 143)\n"
     ]
    },
    {
     "data": {
      "text/plain": [
       "('player3', 100)"
      ]
     },
     "execution_count": 2,
     "metadata": {},
     "output_type": "execute_result"
    }
   ],
   "source": [
    "def orangecap(d):\n",
    "    player_scores = {}\n",
    "    \n",
    "    # Iterate through each match and player\n",
    "    for match, scores in d.items():\n",
    "        for player, score in scores.items():\n",
    "            # Accumulate the score for each player\n",
    "            if player in player_scores:\n",
    "                player_scores[player] += score\n",
    "            else:\n",
    "                player_scores[player] = score\n",
    "    \n",
    "    # Find the player with the highest total score\n",
    "    top_player = max(player_scores, key=player_scores.get)\n",
    "    top_score = player_scores[top_player]\n",
    "    \n",
    "    return (top_player, top_score)\n",
    "\n",
    "# Test cases\n",
    "orangecap({'match1':{'player1':57, 'player2':38}, 'match2':{'player3':9, 'player1':42}, 'match3':{'player2':41, 'player4':63, 'player3':91}})\n",
    "orangecap({'test1':{'Pant':84, 'Kohli':120}, 'test2':{'Pant':59, 'Gill':42}})\n",
    "orangecap({'match1':{'player1':57, 'player2':38}, 'match2':{'player3':9, 'player1':42}, 'match3':{'player2':41, 'player4':63, 'player3':91}})"
   ]
  },
  {
   "cell_type": "code",
   "execution_count": 4,
   "metadata": {},
   "outputs": [
    {
     "data": {
      "text/plain": [
       "('player3', 100)"
      ]
     },
     "execution_count": 4,
     "metadata": {},
     "output_type": "execute_result"
    }
   ],
   "source": [
    "def orangecap(d):\n",
    "  \"\"\"\n",
    "  This function takes a two-level dictionary representing match scores and returns the player with the highest total score.\n",
    "\n",
    "  Args:\n",
    "    d: A dictionary where keys are match names and values are dictionaries with player names and their scores.\n",
    "\n",
    "  Returns:\n",
    "    A tuple (playername, topscore) where playername is the name of the player with the highest score and topscore is their total score.\n",
    "  \"\"\"\n",
    "  # Initialize variables\n",
    "  player_scores = {}\n",
    "  highest_score = 0\n",
    "  highest_scorer = None\n",
    "\n",
    "  # Iterate through matches and players\n",
    "  for match, players in d.items():\n",
    "    for player, score in players.items():\n",
    "      # Update player scores\n",
    "      player_scores[player] = player_scores.get(player, 0) + score\n",
    "\n",
    "      # Check for new highest score\n",
    "      if player_scores[player] > highest_score:\n",
    "        highest_score = player_scores[player]\n",
    "        highest_scorer = player\n",
    "\n",
    "  # Return the player with the highest score\n",
    "  return highest_scorer, highest_score\n",
    "\n",
    "orangecap({'match1':{'player1':57, 'player2':38}, 'match2':{'player3':9, 'player1':42}, 'match3':{'player2':41, 'player4':63, 'player3':91}})\n",
    "#orangecap({'test1':{'Pant':84, 'Kohli':120}, 'test2':{'Pant':59, 'Gill':42}})"
   ]
  },
  {
   "cell_type": "code",
   "execution_count": 6,
   "metadata": {},
   "outputs": [
    {
     "data": {
      "text/plain": [
       "('player3', 100)"
      ]
     },
     "execution_count": 6,
     "metadata": {},
     "output_type": "execute_result"
    }
   ],
   "source": [
    "def orangecap(d):\n",
    "    # Initialize an empty dictionary to store the total scores of each player\n",
    "    total_scores = {}\n",
    "\n",
    "    # Iterate over each match in the dictionary\n",
    "    for match in d:\n",
    "        # Iterate over each player in the match\n",
    "        for player in d[match]:\n",
    "            # If the player is already in the total_scores dictionary, add the score of the current match\n",
    "            # Otherwise, initialize the player in the dictionary with the score of the current match\n",
    "            total_scores[player] = total_scores.get(player, 0) + d[match][player]\n",
    "\n",
    "    # Find the player with the maximum total score\n",
    "    max_score_player = max(total_scores, key=total_scores.get)\n",
    "    \n",
    "    # Return a tuple of the player's name and their total score\n",
    "    return (max_score_player, total_scores[max_score_player])\n",
    "\n",
    "orangecap({'match1':{'player1':57, 'player2':38}, 'match2':{'player3':9, 'player1':42}, 'match3':{'player2':41, 'player4':63, 'player3':91}})\n",
    "#orangecap({'test1':{'Pant':84, 'Kohli':120}, 'test2':{'Pant':59, 'Gill':42}})"
   ]
  },
  {
   "cell_type": "code",
   "execution_count": null,
   "metadata": {},
   "outputs": [],
   "source": [
    "def orangecap(d):\n",
    "    scr = dict()\n",
    "    for m in d:\n",
    "        for p in d[m]:\n",
    "            if p in scr:\n",
    "                scr[p] += d[m][p]\n",
    "            else:\n",
    "                scr[p] = d[m][p]\n",
    "\n",
    "   \n",
    "    pn=str()\n",
    "    tscr=0\n",
    "    for p in scr:\n",
    "        if scr[p] > tscr:\n",
    "            tscr = scr[p]\n",
    "            pn = p\n",
    "\n",
    "    return (pn, tscr)\n",
    "\n",
    "def addpoly(p1, p2):\n",
    "    r = list()\n",
    "    for a in range(len(p1)):\n",
    "       \n",
    "        for j in range(len(p2)):\n",
    "            if p1[a][1] == p2[j][1]:\n",
    "                r += [(p1[a][0] + p2[j][0], p1[a][1])]\n",
    "\n",
    "       \n",
    "        for k in range(len(r)):\n",
    "            if r[k][1] == p1[a][1]:\n",
    "                break\n",
    "        else:\n",
    "            r += [p1[a]]\n",
    "\n",
    "   \n",
    "    for j in range(len(p2)):\n",
    "        for k in range(len(r)):\n",
    "            if r[k][1] == p2[j][1]:\n",
    "                break\n",
    "        else:\n",
    "            r += [p2[j]]\n",
    "\n",
    "    r = [(c, e) for (c, e) in r if c != 0]  \n",
    "    r.sort(key= lambda l : l[1], reverse=True)\n",
    "\n",
    "    return r\n",
    "\n",
    "def multpoly(p1, p2):\n",
    "    r = list()\n",
    "    for i in range(len(p1)):\n",
    "        for j in range(len(p2)):\n",
    "            r = addpoly([(p1[i][0] * p2[j][0], p1[i][1] + p2[j][1])], r)\n",
    "\n",
    "    return r"
   ]
  },
  {
   "cell_type": "code",
   "execution_count": null,
   "metadata": {},
   "outputs": [],
   "source": [
    "def orangecap(d):\n",
    "    players, scores = [], []\n",
    "    for key, matchs in d.items():\n",
    "        l = zip(matchs.values(), matchs.keys())\n",
    "        for a, b in l:\n",
    "            players.append(b)\n",
    "            scores.append(a)\n",
    "\n",
    "    res = []\n",
    "    index, aindex = [], []\n",
    "    for (i, value) in enumerate(players): \n",
    "        if value not in res: \n",
    "            res.append(value)\n",
    "            c = players.index(value)\n",
    "            aindex.append(c)\n",
    "            continue\n",
    "        index.append(i)\n",
    "\n",
    "    for i in index:\n",
    "        for j in aindex:\n",
    "            if players[i] == players[j]:\n",
    "                scores[j] = scores[j] + scores[i]\n",
    "\n",
    "    index.reverse()\n",
    "    for i in index:\n",
    "        scores.pop(i)\n",
    "\n",
    "    a, b = tuple(res), tuple(scores)\n",
    "    m = max(zip(b, a))\n",
    "    p = (m[1], m[0])\n",
    "\n",
    "    return p\n",
    "\n",
    "def addpoly(p1,p2):\n",
    "    result=[]\n",
    "    i1,i2=0,0\n",
    "    l1,l2=len(p1),len(p2)\n",
    "    while(i1<l1 and i2<l2):\n",
    "        if(p1[i1][1]>p2[i2][1]):\n",
    "            result.append(p1[i1])\n",
    "            i1+=1\n",
    "        elif(p1[i1][1]<p2[i2][1]):\n",
    "            result.append(p2[i2])\n",
    "            i2+=1\n",
    "        else:\n",
    "            if(p1[i1][0]+p2[i2][0]!=0):\n",
    "                result.append((p1[i1][0]+p2[i2][0],p1[i1][1]))\n",
    "            i1+=1\n",
    "            i2+=1\n",
    "    while(i1<l1):\n",
    "        result.append(p1[i1])\n",
    "        i1+=1\n",
    "    while(i2<l2):\n",
    "        result.append(p2[i2])\n",
    "        i2+=1\n",
    "    return result\n",
    "\n",
    "def multpoly(p1,p2):\n",
    "    result_dict=dict()\n",
    "    for coeff1,exp1 in p1:\n",
    "        for coeff2,exp2 in p2:\n",
    "            try:\n",
    "                result_dict[exp1+exp2] += coeff1*coeff2\n",
    "            except:\n",
    "                result_dict[exp1+exp2] = coeff1*coeff2\n",
    "    return sorted([(coeff,exp) for exp,coeff in result_dict.items() if coeff!=0],key=lambda x: x[1],reverse=True)"
   ]
  },
  {
   "cell_type": "code",
   "execution_count": null,
   "metadata": {},
   "outputs": [],
   "source": [
    "def orangecap(d):\n",
    "    total={}\n",
    "    l=[]\n",
    "    for p in d.values():\n",
    "        for ply in p.keys():\n",
    "            if ply not in l:\n",
    "                l=l+[ply]\n",
    "    for n in l:\n",
    "        total[n]=0\n",
    "        for match in d.keys():\n",
    "            if n in d[match].keys():\n",
    "                total[n]=total[n]+d[match][n]\n",
    "    topscore=0\n",
    "    for player in total.keys():\n",
    "            if total[player] > topscore:\n",
    "                playername=player\n",
    "                topscore=total[player]\n",
    "    return (playername,topscore)\n",
    "\n",
    "def csort(l):\n",
    "  for start in range(len(l)): \n",
    "    minpos = start\n",
    "    for i in range(start,len(l)):\n",
    "      if l[i][1] > l[minpos][1]:\n",
    "        minpos = i\n",
    "    (l[start],l[minpos]) = (l[minpos],l[start])\n",
    "  \n",
    "  \n",
    "def remove(l):\n",
    "  for j in (l):\n",
    "    if j[0] == 0 :\n",
    "      l.remove(j)\n",
    "  return (l)\n",
    "\n",
    "  \n",
    "def addpoly(p1,p2):\n",
    "    l=[]\n",
    "    for i in range(len(p1)):\n",
    "        for j in range(len(p2)):\n",
    "            if p1[i][1] == p2[j][1]:\n",
    "                l=l+[(p1[i][0]+p2[j][0], p1[i][1])]\n",
    "                break\n",
    "        else:\n",
    "            l=l+[(p1[i][0], p1[i][1])]\n",
    "    for i in range(len(p2)):\n",
    "        flag=1\n",
    "        for j in range(len(l)):\n",
    "            if p2[i][1] == l[j][1]:\n",
    "                flag=0\n",
    "                break\n",
    "        if flag:\n",
    "            l=l+[(p2[i][0], p2[i][1])]\n",
    "    remove(l)\n",
    "    csort(l)\n",
    "    return (l)\n",
    "  \n"
   ]
  },
  {
   "cell_type": "code",
   "execution_count": 8,
   "metadata": {},
   "outputs": [
    {
     "data": {
      "text/plain": [
       "[(1, 3), (-1, 0)]"
      ]
     },
     "execution_count": 8,
     "metadata": {},
     "output_type": "execute_result"
    }
   ],
   "source": [
    "def addpoly(p1, p2):\n",
    "    # Convert lists to dictionaries for easier manipulation\n",
    "    d1 = {x:y for y,x in p1}\n",
    "    d2 = {x:y for y,x in p2}\n",
    "    \n",
    "    # Add coefficients of like terms\n",
    "    result = {x: d1.get(x, 0) + d2.get(x, 0) for x in set(d1) | set(d2)}\n",
    "    \n",
    "    # Remove zero coefficient terms and convert back to list\n",
    "    result = [(coeff, exp) for exp, coeff in result.items() if coeff != 0]\n",
    "    \n",
    "    # Sort by exponent in descending order\n",
    "    result.sort(key=lambda x: x[1], reverse=True)\n",
    "    \n",
    "    return result\n",
    "\n",
    "def multpoly(p1, p2):\n",
    "    result1 = {}\n",
    "    for i1, v1 in p1:\n",
    "        for i2, v2 in p2:\n",
    "            # Multiply coefficients and add exponents\n",
    "            coeff1, exp1 = i1 * i2, v1 + v2\n",
    "            # Combine like terms\n",
    "            if exp1 in result1:\n",
    "                result1[exp1] += coeff1\n",
    "            else:\n",
    "                result1[exp1] = coeff1\n",
    "    # Remove zero coefficient terms and convert back to list\n",
    "    result1 = [(coeff1, exp1) for exp1, coeff1 in result1.items() if coeff1 != 0]\n",
    "    # Sort by exponent in descending order\n",
    "    result1.sort(key=lambda x: x[1], reverse=True)\n",
    "    return result1\n",
    "\n",
    "\n",
    "multpoly([(1,1),(-1,0)],[(1,2),(1,1),(1,0)])\n"
   ]
  },
  {
   "cell_type": "code",
   "execution_count": 1,
   "metadata": {},
   "outputs": [
    {
     "ename": "ValueError",
     "evalue": "invalid literal for int() with base 10: '1 Swiatek'",
     "output_type": "error",
     "traceback": [
      "\u001b[1;31m---------------------------------------------------------------------------\u001b[0m",
      "\u001b[1;31mValueError\u001b[0m                                Traceback (most recent call last)",
      "Cell \u001b[1;32mIn[1], line 26\u001b[0m\n\u001b[0;32m     24\u001b[0m \u001b[38;5;28;01mfor\u001b[39;00m set_scores \u001b[38;5;129;01min\u001b[39;00m sets:\n\u001b[0;32m     25\u001b[0m     \u001b[38;5;28;01mfor\u001b[39;00m set_score \u001b[38;5;129;01min\u001b[39;00m set_scores\u001b[38;5;241m.\u001b[39msplit(\u001b[38;5;124m'\u001b[39m\u001b[38;5;124m,\u001b[39m\u001b[38;5;124m'\u001b[39m):\n\u001b[1;32m---> 26\u001b[0m         winner_score, loser_score \u001b[38;5;241m=\u001b[39m \u001b[38;5;28mmap\u001b[39m(\u001b[38;5;28mint\u001b[39m, set_score\u001b[38;5;241m.\u001b[39msplit(\u001b[38;5;124m'\u001b[39m\u001b[38;5;124m-\u001b[39m\u001b[38;5;124m'\u001b[39m))\n\u001b[0;32m     27\u001b[0m         player_stats[winner][\u001b[38;5;124m'\u001b[39m\u001b[38;5;124msets_won\u001b[39m\u001b[38;5;124m'\u001b[39m] \u001b[38;5;241m+\u001b[39m\u001b[38;5;241m=\u001b[39m \u001b[38;5;241m1\u001b[39m\n\u001b[0;32m     28\u001b[0m         player_stats[loser][\u001b[38;5;124m'\u001b[39m\u001b[38;5;124msets_lost\u001b[39m\u001b[38;5;124m'\u001b[39m] \u001b[38;5;241m+\u001b[39m\u001b[38;5;241m=\u001b[39m \u001b[38;5;241m1\u001b[39m\n",
      "\u001b[1;31mValueError\u001b[0m: invalid literal for int() with base 10: '1 Swiatek'"
     ]
    }
   ],
   "source": [
    "# Initialize an empty dictionary to store player statistics\n",
    "player_stats = {}\n",
    "line = input()\n",
    "\n",
    "# Read input lines until 'EOF'\n",
    "while line != \"EOF\":\n",
    "    \n",
    "    # Split the line into components\n",
    "    winner, loser, *sets = line.split(':')\n",
    "\n",
    "    # Update player statistics\n",
    "    for player in [winner, loser]:\n",
    "        if player not in player_stats:\n",
    "            player_stats[player] = {'best_of_5': 0, 'best_of_3': 0, 'sets_won': 0, 'games_won': 0, 'sets_lost': 0, 'games_lost': 0}\n",
    "\n",
    "    # Update match statistics\n",
    "    if len(sets) > 3:\n",
    "        player_stats[winner]['best_of_5'] += 1\n",
    "    else:\n",
    "        player_stats[winner]['best_of_3'] += 1\n",
    "\n",
    "    # Update set and game statistics\n",
    "    # Update set and game statistics\n",
    "    for set_scores in sets:\n",
    "        for set_score in set_scores.split(','):\n",
    "            winner_score, loser_score = map(int, set_score.split('-'))\n",
    "            player_stats[winner]['sets_won'] += 1\n",
    "            player_stats[loser]['sets_lost'] += 1\n",
    "            player_stats[winner]['games_won'] += winner_score\n",
    "            player_stats[loser]['games_lost'] += loser_score\n",
    "\n",
    "\n",
    "# Print player statistics in decreasing order of ranking\n",
    "for player, stats in sorted(player_stats.items(), key=lambda x: (-x[1]['best_of_5'], -x[1]['best_of_3'], -x[1]['sets_won'], -x[1]['games_won'], x[1]['sets_lost'], x[1]['games_lost'])):\n",
    "    print(f\"{player}: {stats}\")\n",
    "\n"
   ]
  },
  {
   "cell_type": "code",
   "execution_count": 3,
   "metadata": {},
   "outputs": [
    {
     "ename": "SyntaxError",
     "evalue": "invalid syntax (2999996088.py, line 1)",
     "output_type": "error",
     "traceback": [
      "\u001b[1;36m  Cell \u001b[1;32mIn[3], line 1\u001b[1;36m\u001b[0m\n\u001b[1;33m    Zverev:Alcaraz:2-6,6-7,7-6,6-3,6-1\u001b[0m\n\u001b[1;37m                  ^\u001b[0m\n\u001b[1;31mSyntaxError\u001b[0m\u001b[1;31m:\u001b[0m invalid syntax\n"
     ]
    }
   ],
   "source": [
    "Zverev:Alcaraz:2-6,6-7,7-6,6-3,6-1\n",
    "Swiatek:Jabeur:6-4,6-4\n",
    "Alcaraz:Zverev:6-3,6-3\n",
    "Jabeur:Swiatek:1-6,7-5,6-2\n",
    "Zverev:Alcaraz:6-0,7-6,6-3\n",
    "Jabeur:Swiatek:2-6,6-2,6-0\n",
    "Alcaraz:Zverev:6-3,4-6,6-3,6-4\n",
    "Swiatek:Jabeur:6-1,3-6,7-5\n",
    "Zverev:Alcaraz:7-6,4-6,7-6,2-6,6-2\n",
    "Jabeur:Swiatek:6-4,1-6,6-3\n",
    "Alcaraz:Zverev:7-5,7-5\n",
    "Jabeur:Swiatek:3-6,6-3,6-3\n",
    "EOF"
   ]
  },
  {
   "cell_type": "code",
   "execution_count": 3,
   "metadata": {},
   "outputs": [
    {
     "ename": "IndexError",
     "evalue": "list index out of range",
     "output_type": "error",
     "traceback": [
      "\u001b[1;31m---------------------------------------------------------------------------\u001b[0m",
      "\u001b[1;31mIndexError\u001b[0m                                Traceback (most recent call last)",
      "Cell \u001b[1;32mIn[3], line 20\u001b[0m\n\u001b[0;32m     18\u001b[0m \u001b[38;5;66;03m# Extract winner, loser and string of setscores\u001b[39;00m\n\u001b[0;32m     19\u001b[0m LineList \u001b[38;5;241m=\u001b[39m line\u001b[38;5;241m.\u001b[39mstrip()\u001b[38;5;241m.\u001b[39msplit(\u001b[38;5;124m'\u001b[39m\u001b[38;5;124m:\u001b[39m\u001b[38;5;124m'\u001b[39m,\u001b[38;5;241m2\u001b[39m)\n\u001b[1;32m---> 20\u001b[0m (winner,loser,setscores) \u001b[38;5;241m=\u001b[39m ( LineList[\u001b[38;5;241m0\u001b[39m], \u001b[43mLineList\u001b[49m\u001b[43m[\u001b[49m\u001b[38;5;241;43m1\u001b[39;49m\u001b[43m]\u001b[49m, LineList[\u001b[38;5;241m2\u001b[39m])\n\u001b[0;32m     22\u001b[0m \u001b[38;5;66;03m# Extract sequence of sets from setscores\u001b[39;00m\n\u001b[0;32m     23\u001b[0m sets \u001b[38;5;241m=\u001b[39m setscores\u001b[38;5;241m.\u001b[39msplit(\u001b[38;5;124m'\u001b[39m\u001b[38;5;124m,\u001b[39m\u001b[38;5;124m'\u001b[39m)\n",
      "\u001b[1;31mIndexError\u001b[0m: list index out of range"
     ]
    }
   ],
   "source": [
    "# Statistics will be stored as a dictionary\n",
    "# Each key is a player name, each value is a list of 6 integers \n",
    "# representing \n",
    "#   Best of 5 set matches won,\n",
    "#   Best of 3 set matches won,\n",
    "#   Sets won\n",
    "#   Games won\n",
    "#   Sets lost (store as negative number for comparison)\n",
    "#   Games lost (store as negative number for comparison)\n",
    "stats = {}   \n",
    "\n",
    "# Read a line of input\n",
    "line = input()\n",
    "while line != \"EOF\":\n",
    "  # Keep track of sets/games won and lost in this match\n",
    "  # with respect to winner of the match\n",
    "  (wsets,lsets,wgames,lgames) = (0,0,0,0)\n",
    "  # Extract winner, loser and string of setscores\n",
    "  LineList = line.strip().split(':',2)\n",
    "  (winner,loser,setscores) = ( LineList[0], LineList[1], LineList[2])\n",
    "\n",
    "  # Extract sequence of sets from setscores\n",
    "  sets = setscores.split(',')\n",
    "\n",
    "  for set in sets:\n",
    "    # Process each set\n",
    "    (winstr,losestr) = set.split('-')\n",
    "    win = int(winstr)\n",
    "    lose = int(losestr)\n",
    "    wgames = wgames + win\n",
    "    lgames = lgames + lose\n",
    "    if win > lose:\n",
    "      wsets = wsets + 1\n",
    "    else:\n",
    "      lsets = lsets + 1\n",
    "\n",
    "  # Update statistics for each of the players\n",
    "\n",
    "  for player in [winner,loser]:\n",
    "    try:\n",
    "      stats[player]\n",
    "    except KeyError:\n",
    "      stats[player] = [0,0,0,0,0,0]\n",
    "\n",
    "  if wsets >= 3:\n",
    "    stats[winner][0] = stats[winner][0] + 1\n",
    "  else:\n",
    "    stats[winner][1] = stats[winner][1] + 1\n",
    "\n",
    "  stats[winner][2] = stats[winner][2] + wsets\n",
    "  stats[winner][3] = stats[winner][3] + wgames\n",
    "  stats[winner][4] = stats[winner][4] - lsets\n",
    "  stats[winner][5] = stats[winner][5] - lgames\n",
    "\n",
    "  stats[loser][2] = stats[loser][2] + lsets\n",
    "  stats[loser][3] = stats[loser][3] + lgames\n",
    "  stats[loser][4] = stats[loser][4] - wsets\n",
    "  stats[loser][5] = stats[loser][5] - wgames\n",
    "\n",
    "  line = input()\n",
    "\n",
    "# Collect each player's stats as a tuple, name last    \n",
    "statlist = [(stat[0],stat[1],stat[2],stat[3],stat[4],stat[5],name) for name in stats.keys() for stat in [stats[name]]]\n",
    "\n",
    "# Sort the statistics in descending order\n",
    "# Losing games are stored negatively for sorting correctly\n",
    "statlist.sort(reverse = True)\n",
    "\n",
    "# Print\n",
    "for entry in statlist:\n",
    "    print(entry[6],entry[0],entry[1],entry[2],entry[3], -entry[4], -entry[5])\n",
    "\n"
   ]
  },
  {
   "cell_type": "code",
   "execution_count": 1,
   "metadata": {},
   "outputs": [
    {
     "ename": "ValueError",
     "evalue": "too many values to unpack (expected 2)",
     "output_type": "error",
     "traceback": [
      "\u001b[1;31m---------------------------------------------------------------------------\u001b[0m",
      "\u001b[1;31mValueError\u001b[0m                                Traceback (most recent call last)",
      "Cell \u001b[1;32mIn[1], line 16\u001b[0m\n\u001b[0;32m     12\u001b[0m sets \u001b[38;5;241m=\u001b[39m setscores\u001b[38;5;241m.\u001b[39msplit(\u001b[38;5;124m'\u001b[39m\u001b[38;5;124m,\u001b[39m\u001b[38;5;124m'\u001b[39m)\n\u001b[0;32m     14\u001b[0m \u001b[38;5;28;01mfor\u001b[39;00m \u001b[38;5;28mset\u001b[39m \u001b[38;5;129;01min\u001b[39;00m sets:\n\u001b[1;32m---> 16\u001b[0m   (winstr,losestr) \u001b[38;5;241m=\u001b[39m \u001b[38;5;28mset\u001b[39m\u001b[38;5;241m.\u001b[39msplit(\u001b[38;5;124m'\u001b[39m\u001b[38;5;124m-\u001b[39m\u001b[38;5;124m'\u001b[39m)\n\u001b[0;32m     17\u001b[0m   win \u001b[38;5;241m=\u001b[39m \u001b[38;5;28mint\u001b[39m(winstr)\n\u001b[0;32m     18\u001b[0m   lose \u001b[38;5;241m=\u001b[39m \u001b[38;5;28mint\u001b[39m(losestr)\n",
      "\u001b[1;31mValueError\u001b[0m: too many values to unpack (expected 2)"
     ]
    }
   ],
   "source": [
    "stats = {}   \n",
    "\n",
    "line = input()\n",
    "while line != \"EOF\":\n",
    "  \n",
    "  (wsets,lsets,wgames,lgames) = (0,0,0,0)\n",
    "  \n",
    "  LineList = line.strip().split(':',2)\n",
    "  (winner,loser,setscores) = ( LineList[0], LineList[1], LineList[2])\n",
    "\n",
    "  \n",
    "  sets = setscores.split(',')\n",
    "\n",
    "  for set in sets:\n",
    "    \n",
    "    (winstr,losestr) = set.split('-')\n",
    "    win = int(winstr)\n",
    "    lose = int(losestr)\n",
    "    wgames = wgames + win\n",
    "    lgames = lgames + lose\n",
    "    if win > lose:\n",
    "      wsets = wsets + 1\n",
    "    else:\n",
    "      lsets = lsets + 1\n",
    "\n",
    "  for player in [winner,loser]:\n",
    "    try:\n",
    "      stats[player]\n",
    "    except KeyError:\n",
    "      stats[player] = [0,0,0,0,0,0]\n",
    "\n",
    "  if wsets >= 3:\n",
    "    stats[winner][0] = stats[winner][0] + 1\n",
    "  else:\n",
    "    stats[winner][1] = stats[winner][1] + 1\n",
    "\n",
    "  stats[winner][2] = stats[winner][2] + wsets\n",
    "  stats[winner][3] = stats[winner][3] + wgames\n",
    "  stats[winner][4] = stats[winner][4] - lsets\n",
    "  stats[winner][5] = stats[winner][5] - lgames\n",
    "\n",
    "  stats[loser][2] = stats[loser][2] + lsets\n",
    "  stats[loser][3] = stats[loser][3] + lgames\n",
    "  stats[loser][4] = stats[loser][4] - wsets\n",
    "  stats[loser][5] = stats[loser][5] - wgames\n",
    "\n",
    "  line = input()\n",
    "\n",
    "  \n",
    "statlist = [(stat[0],stat[1],stat[2],stat[3],stat[4],stat[5],name) for name in stats.keys() for stat in [stats[name]]]\n",
    "\n",
    "\n",
    "statlist.sort(reverse = True)\n",
    "\n",
    "\n",
    "for entry in statlist:\n",
    "    print(entry[6],entry[0],entry[1],entry[2],entry[3], -entry[4], -entry[5])"
   ]
  },
  {
   "cell_type": "code",
   "execution_count": null,
   "metadata": {},
   "outputs": [],
   "source": [
    "# A dictionary to store player statistics\n",
    "player_data = {}\n",
    "\n",
    "# Read input line by line\n",
    "line = input()\n",
    "while line != \"EOF\":\n",
    "    (won_sets, lost_sets, won_games, lost_games) = (0, 0, 0, 0)\n",
    "    parts = line.strip().split(':', 2)\n",
    "    (winner, loser, score_sets) = (parts[0], parts[1], parts[2])\n",
    "\n",
    "    sets = score_sets.split(',')\n",
    "\n",
    "    for set in sets:\n",
    "        (win_score, lose_score) = set.split('-')\n",
    "        win = int(win_score)\n",
    "        lose = int(lose_score)\n",
    "        won_games += win\n",
    "        lost_games += lose\n",
    "        if win > lose:\n",
    "            won_sets += 1\n",
    "        else:\n",
    "            lost_sets += 1\n",
    "\n",
    "    for player in [winner, loser]:\n",
    "        if player not in player_data:\n",
    "            player_data[player] = [0, 0, 0, 0, 0, 0]\n",
    "\n",
    "    if won_sets >= 3:\n",
    "        player_data[winner][0] += 1\n",
    "    else:\n",
    "        player_data[winner][1] += 1\n",
    "\n",
    "    player_data[winner][2] += won_sets\n",
    "    player_data[winner][3] += won_games\n",
    "    player_data[winner][4] -= lost_sets\n",
    "    player_data[winner][5] -= lost_games\n",
    "\n",
    "    player_data[loser][2] += lost_sets\n",
    "    player_data[loser][3] += lost_games\n",
    "    player_data[loser][4] -= won_sets\n",
    "    player_data[loser][5] -= won_games\n",
    "\n",
    "    line = input()\n",
    "\n",
    "# Prepare data for sorting and printing\n",
    "data_list = [(data[0], data[1], data[2], data[3], data[4], data[5], name) for name in player_data.keys() for data in [player_data[name]]]\n",
    "\n",
    "# Sort the data in descending order\n",
    "data_list.sort(reverse=True)\n",
    "\n",
    "# Print the sorted data\n",
    "for entry in data_list:\n",
    "    print(f\"{entry[6]} {entry[0]} {entry[1]} {entry[2]} {entry[3]} {-entry[4]} {-entry[5]}\")\n"
   ]
  },
  {
   "cell_type": "code",
   "execution_count": null,
   "metadata": {},
   "outputs": [],
   "source": [
    "def parse_match_result(match_result):\n",
    "    winner, loser, sets_scores = match_result.split(\":\")\n",
    "    sets = sets_scores.split(\",\")\n",
    "    winner_sets_won = 0\n",
    "    loser_sets_won = 0\n",
    "    winner_games_won = 0\n",
    "    loser_games_won = 0\n",
    "    for set_score in sets:\n",
    "        winner_score, loser_score = map(int, set_score.split(\"-\"))\n",
    "        if winner_score > loser_score:\n",
    "            winner_sets_won += 1\n",
    "            winner_games_won += winner_score\n",
    "            loser_games_won += loser_score\n",
    "        else:\n",
    "            loser_sets_won += 1\n",
    "            winner_games_won += winner_score\n",
    "            loser_games_won += loser_score\n",
    "    return winner, loser, winner_sets_won, loser_sets_won, winner_games_won, loser_games_won\n",
    "\n",
    "# Dictionary to store player statistics\n",
    "player_stats = {}\n",
    "\n",
    "# Read input until \"EOF\" is encountered\n",
    "while True:\n",
    "    match_result = input()\n",
    "    if match_result == \"EOF\":\n",
    "        break\n",
    "    winner, loser, winner_sets_won, loser_sets_won, winner_games_won, loser_games_won = parse_match_result(match_result)\n",
    "    \n",
    "    # Update winner's statistics\n",
    "    if winner in player_stats:\n",
    "        player_stats[winner][0] += 1 if winner_sets_won >= 3 else 0\n",
    "        player_stats[winner][1] += 1 if winner_sets_won == 2 else 0\n",
    "        player_stats[winner][2] += winner_sets_won\n",
    "        player_stats[winner][3] += winner_games_won\n",
    "        player_stats[winner][4] -= loser_sets_won\n",
    "        player_stats[winner][5] -= loser_games_won\n",
    "    else:\n",
    "        player_stats[winner] = [1 if winner_sets_won >= 3 else 0,\n",
    "                                1 if winner_sets_won == 2 else 0,\n",
    "                                winner_sets_won,\n",
    "                                winner_games_won,\n",
    "                                -loser_sets_won,\n",
    "                                -loser_games_won]\n",
    "    \n",
    "    # Update loser's statistics\n",
    "    if loser in player_stats:\n",
    "        player_stats[loser][2] += loser_sets_won\n",
    "        player_stats[loser][3] += loser_games_won\n",
    "        player_stats[loser][4] -= winner_sets_won\n",
    "        player_stats[loser][5] -= winner_games_won\n",
    "    else:\n",
    "        player_stats[loser] = [0, 0, loser_sets_won, loser_games_won, -winner_sets_won, -winner_games_won]\n",
    "\n",
    "# Sort and print player statistics\n",
    "sorted_players = sorted(player_stats.items(), key=lambda x: (x[1][0], x[1][1], x[1][2], -x[1][4], -x[1][5]), reverse=True)\n",
    "# Print the sorted data\n",
    "for player, stats in sorted_players:\n",
    "    print(player, stats[0], stats[1], stats[2], stats[3], -stats[4], -stats[5])"
   ]
  },
  {
   "cell_type": "code",
   "execution_count": null,
   "metadata": {},
   "outputs": [],
   "source": []
  }
 ],
 "metadata": {
  "kernelspec": {
   "display_name": "Python 3",
   "language": "python",
   "name": "python3"
  },
  "language_info": {
   "codemirror_mode": {
    "name": "ipython",
    "version": 3
   },
   "file_extension": ".py",
   "mimetype": "text/x-python",
   "name": "python",
   "nbconvert_exporter": "python",
   "pygments_lexer": "ipython3",
   "version": "3.12.1"
  }
 },
 "nbformat": 4,
 "nbformat_minor": 2
}
