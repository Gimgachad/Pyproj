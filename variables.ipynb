{
 "cells": [
  {
   "cell_type": "markdown",
   "id": "1c9dc6c3-a5a0-4bf7-8594-034e6856403f",
   "metadata": {},
   "source": [
    "# Data type, Variable assignment and their manupulation"
   ]
  },
  {
   "cell_type": "code",
   "execution_count": 1,
   "id": "ce9a76c3-3819-4336-ad54-e69e2a4b72c8",
   "metadata": {},
   "outputs": [
    {
     "name": "stdout",
     "output_type": "stream",
     "text": [
      "<class 'int'>\n",
      "<class 'float'>\n",
      "<class 'str'>\n",
      "<class 'complex'>\n",
      "<class 'bool'>\n",
      "<class 'int'>\n",
      "<class 'bool'>\n",
      "<class 'method'>\n"
     ]
    }
   ],
   "source": [
    "# Various data-type (types of data)\n",
    "print(type(7))\n",
    "print(type(4.1641))\n",
    "print(type(\"Hello World\"))\n",
    "print(type(7.5+44.5j))\n",
    "print(type(7<22))\n",
    "print(type(11001))\n",
    "print(type(False))\n",
    "print(type(input))"
   ]
  },
  {
   "cell_type": "code",
   "execution_count": 2,
   "id": "b13dbbdc-e92e-49b1-91d3-47cfab8f2b92",
   "metadata": {},
   "outputs": [
    {
     "data": {
      "text/plain": [
       "<function __main__.<lambda>(x)>"
      ]
     },
     "execution_count": 2,
     "metadata": {},
     "output_type": "execute_result"
    }
   ],
   "source": [
    "lambda x:x+2"
   ]
  },
  {
   "cell_type": "code",
   "execution_count": 3,
   "id": "b0f8a683-9478-4c26-8ed7-f2dc5d5beb00",
   "metadata": {},
   "outputs": [
    {
     "data": {
      "text/plain": [
       "9"
      ]
     },
     "execution_count": 3,
     "metadata": {},
     "output_type": "execute_result"
    }
   ],
   "source": [
    "(lambda x:x+1)(8)"
   ]
  },
  {
   "cell_type": "code",
   "execution_count": 4,
   "id": "6452fa26-c434-4f30-9313-f5ee74d39d43",
   "metadata": {},
   "outputs": [
    {
     "data": {
      "text/plain": [
       "5"
      ]
     },
     "execution_count": 4,
     "metadata": {},
     "output_type": "execute_result"
    }
   ],
   "source": [
    "add_number=lambda x:x+1\n",
    "add_number(4)"
   ]
  },
  {
   "cell_type": "code",
   "execution_count": 5,
   "id": "f580d925-ca0b-42f4-b760-88be5c10b4bd",
   "metadata": {},
   "outputs": [
    {
     "data": {
      "text/plain": [
       "68.0"
      ]
     },
     "execution_count": 5,
     "metadata": {},
     "output_type": "execute_result"
    }
   ],
   "source": [
    "# Some (Lambda) function\n",
    "#print(type(print))\n",
    "F=lambda C:9/5*C+32\n",
    "F(20)\n",
    "#print(type(F))\n",
    "#print(type(add()))"
   ]
  },
  {
   "cell_type": "markdown",
   "id": "2b934f17-97bc-404a-a75a-c3518a10c2e6",
   "metadata": {},
   "source": [
    "# Conversion of Integer into Float & vice versa etc"
   ]
  },
  {
   "cell_type": "code",
   "execution_count": 7,
   "id": "df0b2eee-79c6-4bfe-a954-b550852d21c7",
   "metadata": {},
   "outputs": [
    {
     "name": "stdout",
     "output_type": "stream",
     "text": [
      "1.1904761904761905 <class 'float'>\n",
      "1.190476190476190476190476190 <class 'decimal.Decimal'>\n"
     ]
    }
   ],
   "source": [
    "# variable assignments\n",
    "from decimal import Decimal\n",
    "v1=21\n",
    "v2=25\n",
    "result1=v2/v1\n",
    "result2=Decimal(Decimal(v2)/Decimal(v1))\n",
    "print(result1,type(result1))\n",
    "print(result2,type(result2))"
   ]
  },
  {
   "cell_type": "code",
   "execution_count": 9,
   "id": "e3d5c24e-d066-46c4-b13d-2175fe4f73ae",
   "metadata": {},
   "outputs": [
    {
     "name": "stdout",
     "output_type": "stream",
     "text": [
      "7\n",
      "37\n",
      "37.4\n",
      "7.0\n",
      "(7+44j)\n",
      "0b11001\n",
      "25\n"
     ]
    }
   ],
   "source": [
    "# Typing various datatype\n",
    "print(int(7.5)) # Conversion of floating point number to integer \n",
    "print(str(37)) # Conversion of integer to string\n",
    "print(str(37.4)) # Conversion of float to string\n",
    "print(float(7)) # Conversion of integer to float\n",
    "print(complex(7,44)) # Conversion of real nos. to complex\n",
    "print(bin(25)) # Conversion of Decimal to Binary number\n",
    "print(int(0b11001)) # Conversion of Binary to Decimal number\n",
    "#note:The b in the output of the bin() function doesn’t actually form part of the binary number. It’s a prefix used in Python to indicate that the string represents a binary number.\n",
    "\n",
    "#When you use the bin() function, Python returns the binary representation as a string, and it adds the 0b prefix to the start of the string to indicate that the following numbers are in binary format.\n",
    "\n",
    "#So, for example, when you see 0b1111, the 1111 is the binary representation of the number, and the 0b simply indicates that this is a binary number.\n",
    "\n",
    "#This is similar to how Python uses 0x to denote hexadecimal numbers and 0o for octal numbers. It’s a way of providing context for the number system being used.\n",
    "\n",
    "#So, you’re correct that binary numbers consist only of 0s and 1s. The b is just part of Python’s way of indicating that the number is binary."
   ]
  },
  {
   "cell_type": "code",
   "execution_count": 10,
   "id": "e213e80e-bc6a-4e2d-a90a-ce1a6a8b2961",
   "metadata": {},
   "outputs": [
    {
     "name": "stdout",
     "output_type": "stream",
     "text": [
      "Enter a Binary number: 10\n"
     ]
    },
    {
     "name": "stdout",
     "output_type": "stream",
     "text": [
      "The decimal number is: 2\n",
      "<class 'int'>\n"
     ]
    }
   ],
   "source": [
    "# Calling of a function: Convert Binary into Decimal Number\n",
    "bin_num= input('Enter a Binary number:')\n",
    "dec_num= int(bin_num, 2)\n",
    "print('The decimal number is:', dec_num)\n",
    "print(type(dec_num))"
   ]
  },
  {
   "cell_type": "code",
   "execution_count": 13,
   "id": "ea4f8790-5ceb-4b33-98fe-31167ee9374a",
   "metadata": {},
   "outputs": [
    {
     "name": "stdout",
     "output_type": "stream",
     "text": [
      "Enter a Decimal number: 2\n"
     ]
    },
    {
     "name": "stdout",
     "output_type": "stream",
     "text": [
      "The Binary number is: 0b10\n",
      "<class 'str'>\n"
     ]
    }
   ],
   "source": [
    "# Calling of a function: Convert Decimal into Binary Number\n",
    "dec_num= int(input('Enter a Decimal number:'))\n",
    "bin_num=bin(dec_num)\n",
    "print('The Binary number is:', bin_num)\n",
    "print(type(bin_num))"
   ]
  },
  {
   "cell_type": "code",
   "execution_count": 15,
   "id": "f8b7ae9d-1ffe-4936-bb45-e2d85042bdc1",
   "metadata": {},
   "outputs": [
    {
     "name": "stdout",
     "output_type": "stream",
     "text": [
      "38\n"
     ]
    }
   ],
   "source": [
    "import random\n",
    "print(random.randint(1,100))"
   ]
  },
  {
   "cell_type": "markdown",
   "id": "b53b4cd4-9d1b-454c-a839-92aa2e7b3c02",
   "metadata": {},
   "source": [
    "# String & its manupulation"
   ]
  },
  {
   "cell_type": "code",
   "execution_count": 17,
   "id": "7cf71ab9-2ddd-4f15-b7ff-ad8874f24460",
   "metadata": {},
   "outputs": [
    {
     "name": "stdout",
     "output_type": "stream",
     "text": [
      "Hello, World!\n",
      "Hello, \n",
      "World!\n",
      "Hello, \tWorld!\n"
     ]
    }
   ],
   "source": [
    "# 'Hello' Program in Python (To display a output in different form)\n",
    "print(\"Hello, World!\")\n",
    "print(\"Hello, \\nWorld!\")#\\n means new line\n",
    "print(\"Hello, \\tWorld!\")#\\t means tab fn"
   ]
  },
  {
   "cell_type": "code",
   "execution_count": 20,
   "id": "05d34225-4a4d-49ba-8cab-dc7f53c42792",
   "metadata": {},
   "outputs": [
    {
     "name": "stdout",
     "output_type": "stream",
     "text": [
      "Hello World\n",
      "Hello Universe\n",
      "11\n",
      "14\n",
      "2\n",
      "e\n",
      "H\n",
      "Hello\n",
      "World\n",
      "HloWrd\n"
     ]
    }
   ],
   "source": [
    "# Define a string variable\n",
    "vs=\"Hello World\"\n",
    "#posof element from left=[012345678910]\n",
    "#posof element from right=[-1-2-3-4-5-6-7-8-9-10-11]\n",
    "print(str(vs))\n",
    "vs1=vs.replace('World','Universe')\n",
    "print(vs1)\n",
    "print(len(vs))\n",
    "print(len(vs1))\n",
    "print(vs.count(\"o\"))\n",
    "print(vs[1])\n",
    "print(vs[-11])\n",
    "print(vs[0:5])\n",
    "print(vs[6:11])\n",
    "print(vs[0:11:2])"
   ]
  },
  {
   "cell_type": "code",
   "execution_count": 21,
   "id": "a02096e7-1815-49e7-a886-c144bb199c37",
   "metadata": {},
   "outputs": [
    {
     "name": "stdout",
     "output_type": "stream",
     "text": [
      "Enter 1st word :  Hi\n",
      "Enter 2nd word :  How are you?\n"
     ]
    },
    {
     "name": "stdout",
     "output_type": "stream",
     "text": [
      "Hi,How are you?\n"
     ]
    }
   ],
   "source": [
    "# Concatenate the strings\n",
    "first_word = str(input(\"Enter 1st word : \"))\n",
    "second_word = str(input(\"Enter 2nd word : \"))\n",
    "print(first_word + \",\" + second_word)\n"
   ]
  },
  {
   "cell_type": "code",
   "execution_count": 23,
   "id": "f53830c2-ba12-405d-913a-89ec7e05e4c4",
   "metadata": {},
   "outputs": [
    {
     "name": "stdout",
     "output_type": "stream",
     "text": [
      "Hello world\n",
      "HELLO WORLD\n",
      "hello world\n",
      "1\n",
      "3\n",
      "['Hello', 'World']\n",
      "6\n"
     ]
    }
   ],
   "source": [
    "\n",
    "# Capitalize, Upper & Lowercase converter, count, split etc\n",
    "greetings=\"Hello World\"\n",
    "print(greetings.capitalize())\n",
    "print(greetings.upper())\n",
    "print(greetings.lower())\n",
    "print(greetings.count(\"Hello\"))\n",
    "print(greetings.count(\"l\"))\n",
    "print(greetings.split())\n",
    "print(greetings.find('World'))"
   ]
  },
  {
   "cell_type": "markdown",
   "id": "408f2e6f-56f1-4023-b32b-de438daed1ed",
   "metadata": {},
   "source": [
    "# Different operations of variables\n",
    "# Arithmatic operation (Addition (+), Substraction (-),\n",
    "# Multiplication (*), Division (/), Module (//), Remainder (%),\n",
    "# Exponentiation (** ))"
   ]
  },
  {
   "cell_type": "code",
   "execution_count": 25,
   "id": "11ec43b8-0748-449f-8130-41d5936a2a05",
   "metadata": {},
   "outputs": [
    {
     "name": "stdout",
     "output_type": "stream",
     "text": [
      "Enter 1st number:  22\n",
      "Enter 2nd number:  7\n"
     ]
    },
    {
     "name": "stdout",
     "output_type": "stream",
     "text": [
      "The addition of two numbers are: 29.0\n",
      "The substraction of two numbers are: 15.0\n",
      "The multiplication of two numbers are: 154.0\n",
      "The division of two numbers are: 3.142857142857143\n",
      "The modulo (floor division) of two numbers are: 3.0\n",
      "The remainder of two numbers are: 1.0\n",
      "The exponentiation of a number: 2494357888.0\n"
     ]
    }
   ],
   "source": [
    "# Simple Arithmatic operation of two variables\n",
    "first_num = float(input(\"Enter 1st number: \"))\n",
    "second_num = float(input(\"Enter 2nd number: \"))\n",
    "print(\"The addition of two numbers are:\", first_num +second_num)\n",
    "print(\"The substraction of two numbers are:\", first_num -second_num)\n",
    "print(\"The multiplication of two numbers are:\", first_num*second_num)\n",
    "print(\"The division of two numbers are:\", first_num/second_num)\n",
    "print(\"The modulo (floor division) of two numbers are:\", first_num//second_num)\n",
    "print(\"The remainder of two numbers are:\", first_num%second_num)\n",
    "print(\"The exponentiation of a number:\", first_num**second_num)\n",
    "#print (\"The sum of %d and %d are: %d \"%(first_num,second_num,first_num +second_num))\n",
    "#print (\"The sum of {} and {} are: {}\".format(first_num,second_num,first_num +second_num))"
   ]
  },
  {
   "cell_type": "code",
   "execution_count": 26,
   "id": "f6239a34-2723-4bad-bbcb-a7e7297ae232",
   "metadata": {},
   "outputs": [
    {
     "name": "stdout",
     "output_type": "stream",
     "text": [
      "(7.4+45.5j)\n",
      "<class 'complex'>\n",
      "(7.4-45.5j)\n",
      "7.4\n",
      "45.5\n",
      "46.097830751565745\n"
     ]
    }
   ],
   "source": [
    "# Complex variable \n",
    "z=7.4+45.5j\n",
    "print(z)\n",
    "print(type(z))\n",
    "print(z.conjugate())\n",
    "print(z.real)\n",
    "print(z.imag)\n",
    "print(abs(z))"
   ]
  },
  {
   "cell_type": "code",
   "execution_count": 36,
   "id": "2ef5acb4-e670-4a00-af7b-58b2e23fb682",
   "metadata": {},
   "outputs": [
    {
     "data": {
      "text/plain": [
       "46.097830751565745"
      ]
     },
     "execution_count": 36,
     "metadata": {},
     "output_type": "execute_result"
    }
   ],
   "source": [
    "import math\n",
    "math.sqrt(7.4*7.4+45.5*45.5)"
   ]
  },
  {
   "cell_type": "code",
   "execution_count": 35,
   "id": "d199f489-f856-423b-93c4-7409b187f36d",
   "metadata": {},
   "outputs": [
    {
     "data": {
      "text/plain": [
       "3"
      ]
     },
     "execution_count": 35,
     "metadata": {},
     "output_type": "execute_result"
    }
   ],
   "source": [
    "import math\n",
    "##math.ceil(22/7)\n",
    "round(22/7)"
   ]
  },
  {
   "cell_type": "code",
   "execution_count": 37,
   "id": "1bfb3911-0b51-47a2-8805-5d50c8ad2e38",
   "metadata": {},
   "outputs": [
    {
     "name": "stdout",
     "output_type": "stream",
     "text": [
      "Enter 1st number:  22\n",
      "Enter 2nd number:  7\n"
     ]
    },
    {
     "name": "stdout",
     "output_type": "stream",
     "text": [
      "3.14286\n",
      "2494357888.0\n",
      "154.0\n"
     ]
    }
   ],
   "source": [
    "# Some more matematical operations\n",
    "first_num = float(input(\"Enter 1st number: \"))\n",
    "second_num = float(input(\"Enter 2nd number: \"))\n",
    "ratio=print(round(first_num/second_num,5))\n",
    "exponent=print(first_num**second_num)\n",
    "absolute_value=print(abs(-first_num*second_num))"
   ]
  },
  {
   "cell_type": "code",
   "execution_count": 39,
   "id": "818e0aa4-c042-4c90-b272-5585062b692c",
   "metadata": {},
   "outputs": [
    {
     "name": "stdout",
     "output_type": "stream",
     "text": [
      "7.38905609893065\n",
      "5.0\n",
      "120\n",
      "4\n",
      "3\n",
      "-3\n",
      "1.9459101490553132\n",
      "2.807354922057604\n",
      "0.8450980400142567\n"
     ]
    }
   ],
   "source": [
    "# Exponential, Square Root, Ceil, Floor, Log function etc module from 'Math' library\n",
    "import math\n",
    "print(math.exp(2))\n",
    "print(math.sqrt(25))\n",
    "print(math.factorial(5))\n",
    "print(math.ceil(3.1416))\n",
    "print(math.floor(3.1416))\n",
    "print(math.trunc(-3.1416))#removes decimal part\n",
    "print(math.log(7)) #Logarithm in e base\n",
    "print(math.log(7,2)) #Logarithm in 2 base\n",
    "print(math.log(7,10)) #Logarithm in 10 base"
   ]
  },
  {
   "cell_type": "code",
   "execution_count": 47,
   "id": "a07ff5df-bbe9-46b9-820b-e969c54b5cbd",
   "metadata": {},
   "outputs": [
    {
     "name": "stdout",
     "output_type": "stream",
     "text": [
      "Enter the base of a triangle:  3\n",
      "Enter the altitude of a triangle:  2\n"
     ]
    },
    {
     "name": "stdout",
     "output_type": "stream",
     "text": [
      "The hypotenues of the triangle with base 3 and altitude 2 is given by 3.605551275463989\n"
     ]
    }
   ],
   "source": [
    "# Doing mathematical operation inside print function\n",
    "import math\n",
    "x=int(input(\"Enter the base of a triangle: \"))\n",
    "y=int(input(\"Enter the altitude of a triangle: \"))\n",
    "hyp=math.sqrt(x**2+y**2)\n",
    "print(\"The hypotenues of the triangle with base {} and altitude {} is given by {}\".format(x,y,hyp))"
   ]
  },
  {
   "cell_type": "markdown",
   "id": "79fd79ea-8ee7-4b5e-a412-e6a8171c1e1c",
   "metadata": {},
   "source": [
    "# Augmented arithmatic operation (Augmented sum (+=),\n",
    "## Augmented substraction (-=) etc )"
   ]
  },
  {
   "cell_type": "code",
   "execution_count": 48,
   "id": "f2bb1434-6884-47b9-871c-d4c83d5a2b9a",
   "metadata": {},
   "outputs": [
    {
     "name": "stdout",
     "output_type": "stream",
     "text": [
      "Enter a number :  10\n"
     ]
    },
    {
     "name": "stdout",
     "output_type": "stream",
     "text": [
      "The augmented number is 11.0\n"
     ]
    }
   ],
   "source": [
    "# Define function \n",
    "x = float(input(\"Enter a number : \"))\n",
    "x+=1\n",
    "print (\"The augmented number is {}\".format(x))"
   ]
  },
  {
   "cell_type": "code",
   "execution_count": 49,
   "id": "202759f5-f5e0-407e-924c-98c2095f06e8",
   "metadata": {},
   "outputs": [
    {
     "name": "stdout",
     "output_type": "stream",
     "text": [
      "Enter a number :  10\n"
     ]
    },
    {
     "name": "stdout",
     "output_type": "stream",
     "text": [
      "The augmented number is 9.0\n"
     ]
    }
   ],
   "source": [
    "# Define function \n",
    "x = float(input(\"Enter a number : \"))\n",
    "x-=1\n",
    "print (\"The augmented number is {}\".format(x))"
   ]
  },
  {
   "cell_type": "code",
   "execution_count": 50,
   "id": "348fd3b2-e957-45b7-b3f7-fd5e730219e6",
   "metadata": {},
   "outputs": [
    {
     "name": "stdout",
     "output_type": "stream",
     "text": [
      "Enter a number :  22\n"
     ]
    },
    {
     "name": "stdout",
     "output_type": "stream",
     "text": [
      "The augmented number is 44.0\n"
     ]
    }
   ],
   "source": [
    "# Define function \n",
    "x = float(input(\"Enter a number : \"))\n",
    "x*=2\n",
    "print (\"The augmented number is {}\".format(x))"
   ]
  },
  {
   "cell_type": "code",
   "execution_count": 51,
   "id": "3478ccde-155e-423d-8c2b-4119dcaa0a3d",
   "metadata": {},
   "outputs": [
    {
     "name": "stdout",
     "output_type": "stream",
     "text": [
      "Enter a number :  22\n"
     ]
    },
    {
     "name": "stdout",
     "output_type": "stream",
     "text": [
      "The augmented number is 5.5\n"
     ]
    }
   ],
   "source": [
    "# Define function \n",
    "x = float(input(\"Enter a number : \"))\n",
    "x/=4\n",
    "print (\"The augmented number is {}\".format(x))"
   ]
  },
  {
   "cell_type": "code",
   "execution_count": 52,
   "id": "a0b2e71c-2d25-4068-a9b3-acc6c85f9f58",
   "metadata": {},
   "outputs": [
    {
     "name": "stdout",
     "output_type": "stream",
     "text": [
      "Enter a number :  22\n"
     ]
    },
    {
     "name": "stdout",
     "output_type": "stream",
     "text": [
      "The augmented number is 4.0\n"
     ]
    }
   ],
   "source": [
    "# Define function \n",
    "x = float(input(\"Enter a number : \"))\n",
    "x//=5\n",
    "print (\"The augmented number is {}\".format(x))"
   ]
  },
  {
   "cell_type": "code",
   "execution_count": 53,
   "id": "93ee0930-e62a-4221-a72d-bf771254d006",
   "metadata": {},
   "outputs": [
    {
     "name": "stdout",
     "output_type": "stream",
     "text": [
      "Enter a number :  22\n"
     ]
    },
    {
     "name": "stdout",
     "output_type": "stream",
     "text": [
      "The augmented number is 6.0\n"
     ]
    }
   ],
   "source": [
    "# Define function \n",
    "x = float(input(\"Enter a number : \"))\n",
    "x%=8\n",
    "print (\"The augmented number is {}\".format(x))"
   ]
  },
  {
   "cell_type": "code",
   "execution_count": 54,
   "id": "ba0b8909-dbc0-4ab2-b55c-7063ee5511b0",
   "metadata": {},
   "outputs": [
    {
     "name": "stdout",
     "output_type": "stream",
     "text": [
      "Enter a number :  22\n"
     ]
    },
    {
     "name": "stdout",
     "output_type": "stream",
     "text": [
      "The augmented number is 484.0\n"
     ]
    }
   ],
   "source": [
    "# Define function \n",
    "x = float(input(\"Enter a number : \"))\n",
    "x**=2\n",
    "print (\"The augmented number is {}\".format(x))"
   ]
  },
  {
   "cell_type": "markdown",
   "id": "f5621fbc-3029-4d63-ab26-984d7e612fe0",
   "metadata": {},
   "source": [
    "# Bitwise operation (Binary NOT (~), Binary AND (&), Shift LEFT(<<), Shift RIGHT (>>) \n"
   ]
  },
  {
   "cell_type": "code",
   "execution_count": 2,
   "id": "f7aa7455",
   "metadata": {},
   "outputs": [
    {
     "name": "stdout",
     "output_type": "stream",
     "text": [
      "-46\n",
      "45\n"
     ]
    }
   ],
   "source": [
    "# Bitwise NOT (COMPLEMENTARY) verification \n",
    "print(~45)\n",
    "print(~-46)\n"
   ]
  },
  {
   "cell_type": "code",
   "execution_count": 3,
   "id": "84fb4319",
   "metadata": {},
   "outputs": [
    {
     "name": "stdout",
     "output_type": "stream",
     "text": [
      "-0b110000\n",
      "0b110000\n"
     ]
    }
   ],
   "source": [
    "print(bin(~47))\n",
    "print(bin(~-49))"
   ]
  },
  {
   "cell_type": "code",
   "execution_count": 4,
   "id": "1e91a0e9",
   "metadata": {},
   "outputs": [
    {
     "name": "stdout",
     "output_type": "stream",
     "text": [
      "-0b10111\n",
      "-0b10111\n"
     ]
    }
   ],
   "source": [
    "# Bitwise NOT verification \n",
    "print(bin(~22))\n",
    "print(bin(-22-1))"
   ]
  },
  {
   "cell_type": "code",
   "execution_count": 5,
   "id": "b04de6a8",
   "metadata": {},
   "outputs": [
    {
     "name": "stdout",
     "output_type": "stream",
     "text": [
      "4\n"
     ]
    }
   ],
   "source": [
    "# Bitwise AND\n",
    "x=44\n",
    "y=70\n",
    "print(x & y)"
   ]
  },
  {
   "cell_type": "code",
   "execution_count": 6,
   "id": "c91b24c1",
   "metadata": {},
   "outputs": [
    {
     "name": "stdout",
     "output_type": "stream",
     "text": [
      "0b101100\n",
      "0b1000110\n",
      "4\n"
     ]
    }
   ],
   "source": [
    "# Bitwise AND verification \n",
    "print(bin(x))\n",
    "print(bin(y))\n",
    "print(0b101100 & 0b1000110)"
   ]
  },
  {
   "cell_type": "code",
   "execution_count": 7,
   "id": "784c7739",
   "metadata": {},
   "outputs": [
    {
     "name": "stdout",
     "output_type": "stream",
     "text": [
      "23\n"
     ]
    }
   ],
   "source": [
    "# Bitwise OR\n",
    "x=22\n",
    "y=7\n",
    "print(x|y)"
   ]
  },
  {
   "cell_type": "code",
   "execution_count": 8,
   "id": "7ce705d1",
   "metadata": {},
   "outputs": [
    {
     "name": "stdout",
     "output_type": "stream",
     "text": [
      "0b10110\n",
      "0b111\n",
      "23\n"
     ]
    }
   ],
   "source": [
    "# Bitwise OR Verification\n",
    "print(bin(x))\n",
    "print(bin(y))\n",
    "print(0b10110|0b111)"
   ]
  },
  {
   "cell_type": "code",
   "execution_count": 9,
   "id": "32bd8db3",
   "metadata": {},
   "outputs": [
    {
     "name": "stdout",
     "output_type": "stream",
     "text": [
      "320\n",
      "320\n"
     ]
    }
   ],
   "source": [
    "# Bitwise LEFT-SHIFT\n",
    "x=20\n",
    "y=4\n",
    "print(x<<y)\n",
    "############\n",
    "print(0b10100<<0b100)\n"
   ]
  },
  {
   "cell_type": "code",
   "execution_count": 10,
   "id": "00585ebb",
   "metadata": {},
   "outputs": [
    {
     "name": "stdout",
     "output_type": "stream",
     "text": [
      "16\n",
      "16\n"
     ]
    }
   ],
   "source": [
    "# Bitwise XOR\n",
    "x=20\n",
    "y=4\n",
    "print(x^y)\n",
    "############\n",
    "print(0b10100^0b100)"
   ]
  },
  {
   "cell_type": "code",
   "execution_count": 11,
   "id": "91b43505",
   "metadata": {},
   "outputs": [
    {
     "name": "stdout",
     "output_type": "stream",
     "text": [
      "0\n",
      "0\n"
     ]
    }
   ],
   "source": [
    "\n",
    "# Bitwise RINGT-SHIFT\n",
    "x=2\n",
    "y=4\n",
    "print(x>>y)\n",
    "############\n",
    "print(10>>100)"
   ]
  },
  {
   "cell_type": "markdown",
   "id": "5471ee67-2857-4b2a-a134-c90691d6ffc2",
   "metadata": {},
   "source": [
    "# Latex in jupyter\n",
    "$(a+b)^2=a^2+2ab+b^2$"
   ]
  },
  {
   "cell_type": "markdown",
   "id": "4023970f-92e1-42fc-b41f-2908fe0b5fa7",
   "metadata": {},
   "source": [
    "# Relational (Comarison) operation (Equal (==), Unequal (!=), Less\n",
    "# than (<), Greater than (>) etc )"
   ]
  },
  {
   "cell_type": "code",
   "execution_count": 56,
   "id": "038bfe05-8f8e-453b-ac17-961cb3ae1ef9",
   "metadata": {},
   "outputs": [
    {
     "name": "stdout",
     "output_type": "stream",
     "text": [
      "True False True False\n"
     ]
    }
   ],
   "source": [
    "a=22\n",
    "b=7\n",
    "print(a!=b,a==b,a>b,a<b)"
   ]
  },
  {
   "cell_type": "code",
   "execution_count": 57,
   "id": "52e4b31d-ccd1-4006-b58a-525d1284e734",
   "metadata": {},
   "outputs": [
    {
     "name": "stdout",
     "output_type": "stream",
     "text": [
      "True\n",
      "True\n",
      "False\n",
      "True\n",
      "True\n",
      "False\n",
      "False\n",
      "False\n"
     ]
    }
   ],
   "source": [
    "# not statement\n",
    "print(False==(not True))\n",
    "print(True==(not False))\n",
    "print(not 10!=7)\n",
    "print(not 10==7)\n",
    "print(not 10<7)\n",
    "print(not 10>7)\n",
    "print(not 10>=7)\n",
    "print(10<=7)"
   ]
  },
  {
   "cell_type": "code",
   "execution_count": 58,
   "id": "54ad7e3d-db00-40b7-b6c7-56fdee2a3a8b",
   "metadata": {},
   "outputs": [
    {
     "name": "stdout",
     "output_type": "stream",
     "text": [
      "True\n",
      "False\n",
      "False\n",
      "False\n"
     ]
    }
   ],
   "source": [
    "# Comparison statement (AND Table)\n",
    "a = 5\n",
    "b = 3\n",
    "c = 7\n",
    "print(a>b and b<c)\n",
    "print(a>b and b>c)\n",
    "print(a<b and b<c)\n",
    "print(a<b and b>c)"
   ]
  },
  {
   "cell_type": "code",
   "execution_count": 59,
   "id": "96513014-e041-42a7-8bd8-7774ae4fcb94",
   "metadata": {},
   "outputs": [
    {
     "name": "stdout",
     "output_type": "stream",
     "text": [
      "True\n",
      "True\n",
      "True\n",
      "False\n"
     ]
    }
   ],
   "source": [
    "# Comparison statement (OR Table)\n",
    "a = 5\n",
    "b = 3\n",
    "c = 7\n",
    "print(a>b or b<c)\n",
    "print(a>b or b>c)\n",
    "print(a<b or b<c)\n",
    "print(a<b or b>c)\n"
   ]
  },
  {
   "cell_type": "markdown",
   "id": "9f9465d1-bb2a-4388-ae4b-bcdb31a7f274",
   "metadata": {},
   "source": [
    "# Boolean (Logical) Operation (NOT (not), AND (&), OR (|), XOR (^)etc)"
   ]
  },
  {
   "cell_type": "code",
   "execution_count": 60,
   "id": "ae9d62f6-dc97-4173-8242-6945b2b182f0",
   "metadata": {},
   "outputs": [
    {
     "data": {
      "text/plain": [
       "(0, 1, 1, 1)"
      ]
     },
     "execution_count": 60,
     "metadata": {},
     "output_type": "execute_result"
    }
   ],
   "source": [
    "\n",
    "# OR Operation\n",
    "(0|0, 0|1, 1|0, 1|1)\n"
   ]
  },
  {
   "cell_type": "code",
   "execution_count": 61,
   "id": "25bb494f-6145-4d24-878e-71bda45be50c",
   "metadata": {},
   "outputs": [
    {
     "data": {
      "text/plain": [
       "(0, 0, 0, 1)"
      ]
     },
     "execution_count": 61,
     "metadata": {},
     "output_type": "execute_result"
    }
   ],
   "source": [
    "# AND Operation \n",
    "(0 & 0, 0 & 1,1 & 0,1 & 1)"
   ]
  },
  {
   "cell_type": "code",
   "execution_count": 62,
   "id": "49da848a-5463-4577-989f-9a2044189cde",
   "metadata": {},
   "outputs": [
    {
     "data": {
      "text/plain": [
       "(0, 1, 1, 0)"
      ]
     },
     "execution_count": 62,
     "metadata": {},
     "output_type": "execute_result"
    }
   ],
   "source": [
    "# XOR Operation\n",
    "(0^0, 0^1, 1^0, 1^1)"
   ]
  },
  {
   "cell_type": "code",
   "execution_count": 2,
   "id": "12721698-a432-4f5d-a6bb-2664cab71b72",
   "metadata": {},
   "outputs": [
    {
     "name": "stdout",
     "output_type": "stream",
     "text": [
      "0 or 1 is: 1\n",
      "0 and 1 is: 0\n"
     ]
    }
   ],
   "source": [
    "x1 = 0\n",
    "x2 = 1\n",
    "#y1 = not x1\n",
    "y2 = x1 or x2\n",
    "y3 = x1 and x2\n",
    "\n",
    "#print(\"not of\",x1,'is:',y1)\n",
    "print(x1,\"or\",x2,'is:',y2)\n",
    "print(x1,\"and\",x2,'is:',y3)"
   ]
  },
  {
   "cell_type": "code",
   "execution_count": 70,
   "id": "7df01da2-d088-4cf3-bf93-6a73bb2d0a0b",
   "metadata": {},
   "outputs": [
    {
     "name": "stdout",
     "output_type": "stream",
     "text": [
      "0\n"
     ]
    }
   ],
   "source": [
    "x1=1\n",
    "x2=0\n",
    "x=x1 and x2\n",
    "print(x)"
   ]
  },
  {
   "cell_type": "markdown",
   "id": "6cda052b-56c7-4342-a7db-cf67df5f03d6",
   "metadata": {},
   "source": [
    "# Function, their classification & usage"
   ]
  },
  {
   "cell_type": "code",
   "execution_count": 3,
   "id": "50eb18c2-7436-4371-b815-ff7223405040",
   "metadata": {},
   "outputs": [
    {
     "name": "stdout",
     "output_type": "stream",
     "text": [
      "<class 'builtin_function_or_method'>\n",
      "<class 'builtin_function_or_method'>\n"
     ]
    }
   ],
   "source": [
    "# Built-in function\n",
    "print(type(print))\n",
    "print(type(abs))"
   ]
  },
  {
   "cell_type": "code",
   "execution_count": 4,
   "id": "3873817a-0f82-4fb4-bf76-3cc8cd3bca89",
   "metadata": {},
   "outputs": [
    {
     "name": "stdout",
     "output_type": "stream",
     "text": [
      "Welcome to the World of Python!\n"
     ]
    },
    {
     "data": {
      "text/plain": [
       "function"
      ]
     },
     "execution_count": 4,
     "metadata": {},
     "output_type": "execute_result"
    }
   ],
   "source": [
    "# An example to define a custom function \n",
    "def welcome():\n",
    " print(\"Welcome to the World of Python!\")\n",
    "welcome()\n",
    "type(welcome)"
   ]
  },
  {
   "cell_type": "code",
   "execution_count": 5,
   "id": "27d81029-af2b-48c6-939a-75d9fb332e01",
   "metadata": {},
   "outputs": [
    {
     "name": "stdout",
     "output_type": "stream",
     "text": [
      "Hi friends, Welcome to the World of Python!\n"
     ]
    }
   ],
   "source": [
    "# Another example to define a custom function \n",
    "def welcome(name = \"friends\"):\n",
    " print(f\"Hi {name}, Welcome to the World of Python!\")\n",
    "welcome()\n"
   ]
  },
  {
   "cell_type": "markdown",
   "id": "f6e759a8-836a-4fd6-af4d-a8b4370e9b9b",
   "metadata": {},
   "source": [
    "# Global function"
   ]
  },
  {
   "cell_type": "code",
   "execution_count": 6,
   "id": "b5f60991-71dc-4bf5-ba7b-8b86d12b8486",
   "metadata": {},
   "outputs": [
    {
     "name": "stdout",
     "output_type": "stream",
     "text": [
      "This is a global function: Hello Universe!\n"
     ]
    },
    {
     "data": {
      "text/plain": [
       "function"
      ]
     },
     "execution_count": 6,
     "metadata": {},
     "output_type": "execute_result"
    }
   ],
   "source": [
    "# An example of a GLOBAL function \n",
    "greet_global=\"Hello Universe!\"\n",
    "def hello():\n",
    " print(\"This is a global function:\", greet_global)\n",
    "hello()\n",
    "type(hello)"
   ]
  },
  {
   "cell_type": "markdown",
   "id": "116294c9-ffca-490b-b4bd-14aba4287f5f",
   "metadata": {},
   "source": [
    "# Local function"
   ]
  },
  {
   "cell_type": "code",
   "execution_count": 7,
   "id": "8951aa3a-7945-4ff7-9b00-d39797805c64",
   "metadata": {},
   "outputs": [
    {
     "name": "stdout",
     "output_type": "stream",
     "text": [
      "This is a local function: Hi World!\n"
     ]
    },
    {
     "data": {
      "text/plain": [
       "function"
      ]
     },
     "execution_count": 7,
     "metadata": {},
     "output_type": "execute_result"
    }
   ],
   "source": [
    "# An example of a LOCAL function\n",
    "def hello():\n",
    " greet_local=\"Hi World!\"\n",
    " print(\"This is a local function:\", greet_local)\n",
    "hello()\n",
    "type(hello)"
   ]
  },
  {
   "cell_type": "code",
   "execution_count": 8,
   "id": "48c2c71c-3c5d-4eea-b133-5ce8690e9261",
   "metadata": {},
   "outputs": [
    {
     "name": "stdout",
     "output_type": "stream",
     "text": [
      "Sum of x and y is 29\n"
     ]
    }
   ],
   "source": [
    "# Programing math using function \n",
    "def add(x,y):\n",
    " total = x+y\n",
    " print(\"Sum of x and y is\", total)\n",
    "add(22,7)"
   ]
  },
  {
   "cell_type": "code",
   "execution_count": 9,
   "id": "68c21b1b-021b-4681-9fba-4f3546e2d685",
   "metadata": {},
   "outputs": [
    {
     "name": "stdout",
     "output_type": "stream",
     "text": [
      "49\n"
     ]
    }
   ],
   "source": [
    "# Programming Gloal Function in local environment (Method-I)\n",
    "x=11\n",
    "def fpn():\n",
    " global x\n",
    " fx=4*x + 5\n",
    " print(fx)\n",
    " return\n",
    "fpn()"
   ]
  },
  {
   "cell_type": "code",
   "execution_count": 10,
   "id": "ea35976c-4002-42f8-afbc-607a4bb65364",
   "metadata": {},
   "outputs": [
    {
     "data": {
      "text/plain": [
       "49"
      ]
     },
     "execution_count": 10,
     "metadata": {},
     "output_type": "execute_result"
    }
   ],
   "source": [
    "# Programming Gloal Function in local environment (Method-I)\n",
    "x=11\n",
    "def fpn():\n",
    " global x\n",
    " fx=4*x + 5\n",
    " return fx\n",
    "fpn()\n"
   ]
  },
  {
   "cell_type": "code",
   "execution_count": 12,
   "id": "722f451f-27cc-48a0-86e9-cf1814f96a73",
   "metadata": {},
   "outputs": [
    {
     "name": "stdout",
     "output_type": "stream",
     "text": [
      "Enter 1st number: 11\n",
      "Enter 2nd number: 1\n"
     ]
    },
    {
     "name": "stdout",
     "output_type": "stream",
     "text": [
      "The sum of two numbers is:  12\n"
     ]
    }
   ],
   "source": [
    "# Programing 'Function-Block' with RETURN statement\n",
    "def add():\n",
    " num1 = int(input(\"Enter 1st number:\"))\n",
    " num2 = int(input(\"Enter 2nd number:\"))\n",
    " output=num1+num2\n",
    " return output\n",
    "# calling function outside block\n",
    "total = add()\n",
    "print (\"The sum of two numbers is: \",total)\n",
    "#print (\"The augmented number is {}\".format(x))\n"
   ]
  },
  {
   "cell_type": "markdown",
   "id": "38eeb9ac-7daa-4a3b-b489-7ba1c3d00acd",
   "metadata": {},
   "source": [
    "# Lambda function"
   ]
  },
  {
   "cell_type": "code",
   "execution_count": 15,
   "id": "c723f394-1a78-4dc6-a700-6a6e60b10ee7",
   "metadata": {},
   "outputs": [
    {
     "name": "stdout",
     "output_type": "stream",
     "text": [
      "Enter the temperature in centigrate (degree C):  -40\n"
     ]
    },
    {
     "name": "stdout",
     "output_type": "stream",
     "text": [
      "The temperature in fehrenhite -40.0 degree F is: -40.0\n"
     ]
    }
   ],
   "source": [
    "# Programing function with LAMBDA function\n",
    "C = float(input(\"Enter the temperature in centigrate (degree C): \"))\n",
    "F = lambda C : 9/5*C + 32\n",
    "temp_in_C = F(C)\n",
    "print(\"The temperature in fehrenhite {} degree F is: {}\".format(C,temp_in_C))"
   ]
  },
  {
   "cell_type": "code",
   "execution_count": 16,
   "id": "a959c593-2db5-4249-897f-271a3ea1692c",
   "metadata": {},
   "outputs": [
    {
     "name": "stdout",
     "output_type": "stream",
     "text": [
      "Enter 1st number:  22\n",
      "Enter 2nd number:  37\n"
     ]
    },
    {
     "name": "stdout",
     "output_type": "stream",
     "text": [
      "The sum of two numbers 22.0 and 37.0 is: 59.0\n",
      "The subtraction of two numbers 22.0 and 37.0 is: -15.0\n",
      "The multiplication of two numbers 22.0 and 37.0 is: 814.0\n",
      "The division of two numbers 22.0 and 37.0 is: 0.5945945945945946\n",
      "The floor division of two numbers 22.0 and 37.0 is: 0.0\n",
      "The remainder of two numbers 22.0 and 37.0 is: 22.0\n"
     ]
    }
   ],
   "source": [
    "# Doing mathematical operation using function\n",
    "first_num = float(input(\"Enter 1st number: \"))\n",
    "second_num = float(input(\"Enter 2nd number: \"))\n",
    "\n",
    "def arithmatic(first_num, second_num):\n",
    "    x1 = first_num + second_num\n",
    "    x2 = first_num - second_num\n",
    "    x3 = first_num * second_num\n",
    "    x4 = first_num / second_num\n",
    "    x5 = first_num // second_num\n",
    "    x6 = first_num % second_num\n",
    "    return x1, x2, x3, x4, x5, x6\n",
    "\n",
    "# Calling function\n",
    "y1, y2, y3, y4, y5, y6 = arithmatic(first_num, second_num)\n",
    "\n",
    "print(\"The sum of two numbers {} and {} is: {}\".format(first_num, second_num, y1))\n",
    "print(\"The subtraction of two numbers {} and {} is: {}\".format(first_num, second_num, y2))\n",
    "print(\"The multiplication of two numbers {} and {} is: {}\".format(first_num, second_num, y3))\n",
    "print(\"The division of two numbers {} and {} is: {}\".format(first_num, second_num, y4))\n",
    "print(\"The floor division of two numbers {} and {} is: {}\".format(first_num, second_num, y5))\n",
    "print(\"The remainder of two numbers {} and {} is: {}\".format(first_num, second_num, y6))\n"
   ]
  },
  {
   "cell_type": "markdown",
   "id": "0f517790-0748-40d5-b397-53990aafdcc3",
   "metadata": {},
   "source": [
    "# More math"
   ]
  },
  {
   "cell_type": "code",
   "execution_count": 17,
   "id": "fc9390ba-f254-41eb-98af-8d3abc5ecb82",
   "metadata": {},
   "outputs": [
    {
     "name": "stdout",
     "output_type": "stream",
     "text": [
      "The dot product is: [[32]]\n",
      "The cross product is: [[-3  6 -3]]\n"
     ]
    }
   ],
   "source": [
    "# To find dot and cross product using NUMPY library\n",
    "import numpy as np\n",
    "from numpy import arccos, dot\n",
    "v = np.array([[1, 2, 3]])\n",
    "w = np.array([[4, 5, 6]])\n",
    "dot_product = dot(v, w.T)\n",
    "cross_product=np.cross(v, w)\n",
    "print(\"The dot product is:\",dot_product)\n",
    "print(\"The cross product is:\",cross_product)\n"
   ]
  },
  {
   "cell_type": "markdown",
   "id": "65b04ab9-c51f-45a7-b179-fbbf52b4ef81",
   "metadata": {},
   "source": [
    "# Tables of various operations in Math library: Number Theory,Functions, Logarithmic, Trigonometric, Hyperbolic"
   ]
  },
  {
   "cell_type": "code",
   "execution_count": 19,
   "id": "3ab05af6-c9d3-4037-ba4d-e92d4980ad9d",
   "metadata": {},
   "outputs": [
    {
     "name": "stdout",
     "output_type": "stream",
     "text": [
      "1587 particles were reflected out of 1000000\n"
     ]
    }
   ],
   "source": [
    "#http://www-personal.umich.edu/~mejn/cp/programs/rutherford.py\n",
    "from math import sqrt,log,cos,sin,pi\n",
    "from random import random\n",
    "# Constants\n",
    "Z = 79\n",
    "e = 1.602e-19\n",
    "E = 7.7e6*e\n",
    "epsilon0 = 8.854e-12\n",
    "a0 = 5.292e-11\n",
    "sigma = a0/100\n",
    "N = 1000000\n",
    "# Function to generate two Gaussian random numbers\n",
    "def gaussian():\n",
    " r = sqrt(-2*sigma*sigma*log(1-random()))\n",
    " theta = 2*pi*random()\n",
    " x = r*cos(theta)\n",
    " y = r*sin(theta)\n",
    " return x,y\n",
    "# Main program\n",
    "count = 0\n",
    "for i in range(N):\n",
    " x,y = gaussian()\n",
    " b = sqrt(x*x+y*y)\n",
    " if b<Z*e*e/(2*pi*epsilon0*E):\n",
    "     count += 1\n",
    "print(count,\"particles were reflected out of\",N)"
   ]
  },
  {
   "cell_type": "code",
   "execution_count": 1,
   "id": "a594312a",
   "metadata": {},
   "outputs": [
    {
     "name": "stdout",
     "output_type": "stream",
     "text": [
      "Series for m= 1\n",
      "  0.0082275 nm\n",
      "  0.009751111111111111 nm\n",
      "  0.010284375 nm\n",
      "  0.010531200000000001 nm\n",
      "  0.010665277777777779 nm\n",
      "Series for m= 2\n",
      "  0.0015236111111111112 nm\n",
      "  0.002056875 nm\n",
      "  0.0023037 nm\n",
      "  0.002437777777777778 nm\n",
      "  0.002518622448979592 nm\n",
      "Series for m= 3\n",
      "  0.0005332638888888889 nm\n",
      "  0.0007800888888888888 nm\n",
      "  0.0009141666666666666 nm\n",
      "  0.0009950113378684807 nm\n",
      "  0.0010474826388888888 nm\n"
     ]
    }
   ],
   "source": [
    "R=1.097e-2\n",
    "for m in range (1,4):\n",
    "    print(\"Series for m=\",m)\n",
    "    for n in range (m+1,m+6):\n",
    "        invlambda=R*(1/m**2-1/n**2)\n",
    "        print(\" \",invlambda,\"nm\")"
   ]
  },
  {
   "cell_type": "markdown",
   "id": "28116261-3bcc-4b27-91a2-94e7bb875435",
   "metadata": {},
   "source": [
    "[cilck here to go to link](http://www-personal.umich.edu/~mejn/cp/programs.html)"
   ]
  }
 ],
 "metadata": {
  "kernelspec": {
   "display_name": "Python 3 (ipykernel)",
   "language": "python",
   "name": "python3"
  },
  "language_info": {
   "codemirror_mode": {
    "name": "ipython",
    "version": 3
   },
   "file_extension": ".py",
   "mimetype": "text/x-python",
   "name": "python",
   "nbconvert_exporter": "python",
   "pygments_lexer": "ipython3",
   "version": "3.12.1"
  }
 },
 "nbformat": 4,
 "nbformat_minor": 5
}
