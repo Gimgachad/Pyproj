{
 "cells": [
  {
   "cell_type": "code",
   "execution_count": 1,
   "id": "c3323afa-b352-460a-b971-d5b2f7cba7d0",
   "metadata": {},
   "outputs": [
    {
     "name": "stdout",
     "output_type": "stream",
     "text": [
      "2\n"
     ]
    }
   ],
   "source": [
    "x=20\n",
    "y=3\n",
    "x%=y\n",
    "print(x)"
   ]
  },
  {
   "cell_type": "code",
   "execution_count": 2,
   "id": "16290deb-9269-47c4-9f7c-65c9c0462cea",
   "metadata": {},
   "outputs": [
    {
     "name": "stdout",
     "output_type": "stream",
     "text": [
      "4032\n"
     ]
    }
   ],
   "source": [
    "a=3954\n",
    "b=78\n",
    "a+=b\n",
    "print(a)"
   ]
  },
  {
   "cell_type": "code",
   "execution_count": 4,
   "id": "f49aef3b-d0e9-4584-9570-b530bb67d5dd",
   "metadata": {},
   "outputs": [
    {
     "name": "stdout",
     "output_type": "stream",
     "text": [
      "4655753\n"
     ]
    }
   ],
   "source": [
    "m=845\n",
    "n=4656598\n",
    "n-=m\n",
    "print(n)"
   ]
  },
  {
   "cell_type": "code",
   "execution_count": 5,
   "id": "64438359-1b54-4303-9399-824dd267bfd5",
   "metadata": {},
   "outputs": [
    {
     "name": "stdout",
     "output_type": "stream",
     "text": [
      "5500078408\n"
     ]
    }
   ],
   "source": [
    "x=57898\n",
    "y=94996\n",
    "y*=x\n",
    "print(y)"
   ]
  },
  {
   "cell_type": "code",
   "execution_count": 7,
   "id": "b21bae07-6eda-4435-9bf9-fb9789da2c24",
   "metadata": {},
   "outputs": [
    {
     "name": "stdout",
     "output_type": "stream",
     "text": [
      "14241.891832229581\n"
     ]
    }
   ],
   "source": [
    "p=32257885\n",
    "q=2265\n",
    "p/=q\n",
    "print(p)"
   ]
  },
  {
   "cell_type": "code",
   "execution_count": 8,
   "id": "6d61abd3-d75a-4762-93f1-dee98d377e6b",
   "metadata": {},
   "outputs": [
    {
     "name": "stdout",
     "output_type": "stream",
     "text": [
      "973\n"
     ]
    }
   ],
   "source": [
    "c=543234\n",
    "d=558\n",
    "c//=d\n",
    "print(c)"
   ]
  },
  {
   "cell_type": "code",
   "execution_count": 9,
   "id": "26f69441-3aa2-4e74-9c5a-3dbadd45705b",
   "metadata": {},
   "outputs": [
    {
     "name": "stdout",
     "output_type": "stream",
     "text": [
      "314311439086839139050451757962398357468203249420951956178534129225921488759419384272859043773651725675487160430402453820458773749466345955921824692056888800583535127546893532084973565587291316331519214898524941531148388640718599\n"
     ]
    }
   ],
   "source": [
    "j=9799\n",
    "k=57\n",
    "j**=k\n",
    "print(j)"
   ]
  },
  {
   "cell_type": "code",
   "execution_count": 10,
   "id": "9f8004ee-01a8-49e7-9e51-aa106836a1b1",
   "metadata": {},
   "outputs": [
    {
     "name": "stdout",
     "output_type": "stream",
     "text": [
      "3262349 0 1\n"
     ]
    }
   ],
   "source": [
    "x=557\n",
    "y=5857\n",
    "p=599999\n",
    "q=99498494\n",
    "x*=y\n",
    "p//=x\n",
    "q**=p\n",
    "print(x,p,q)"
   ]
  },
  {
   "cell_type": "code",
   "execution_count": 1,
   "id": "8f3efdd5-1d4c-4295-953b-f471ad7b778f",
   "metadata": {},
   "outputs": [
    {
     "name": "stdout",
     "output_type": "stream",
     "text": [
      "-1.568702182696731e-05 -5.6589258797226145e-06 109787 99988 -54171 -3535470315 "
     ]
    },
    {
     "ename": "ValueError",
     "evalue": "Exceeds the limit (4300 digits) for integer string conversion; use sys.set_int_max_str_digits() to increase the limit",
     "output_type": "error",
     "traceback": [
      "\u001b[1;31m---------------------------------------------------------------------------\u001b[0m",
      "\u001b[1;31mValueError\u001b[0m                                Traceback (most recent call last)",
      "Cell \u001b[1;32mIn[1], line 16\u001b[0m\n\u001b[0;32m     14\u001b[0m y\u001b[38;5;241m/\u001b[39m\u001b[38;5;241m/\u001b[39m\u001b[38;5;241m=\u001b[39mb\n\u001b[0;32m     15\u001b[0m x\u001b[38;5;241m*\u001b[39m\u001b[38;5;241m*\u001b[39m\u001b[38;5;241m=\u001b[39mm\n\u001b[1;32m---> 16\u001b[0m \u001b[38;5;28;43mprint\u001b[39;49m\u001b[43m(\u001b[49m\u001b[43ma\u001b[49m\u001b[43m,\u001b[49m\u001b[43mb\u001b[49m\u001b[43m,\u001b[49m\u001b[43mm\u001b[49m\u001b[43m,\u001b[49m\u001b[43mn\u001b[49m\u001b[43m,\u001b[49m\u001b[43mp\u001b[49m\u001b[43m,\u001b[49m\u001b[43mq\u001b[49m\u001b[43m,\u001b[49m\u001b[43mx\u001b[49m\u001b[43m,\u001b[49m\u001b[43my\u001b[49m\u001b[43m)\u001b[49m\n",
      "\u001b[1;31mValueError\u001b[0m: Exceeds the limit (4300 digits) for integer string conversion; use sys.set_int_max_str_digits() to increase the limit"
     ]
    }
   ],
   "source": [
    "m=9799\n",
    "n=99988\n",
    "p=55616\n",
    "q=65265\n",
    "a=55461\n",
    "b=93661\n",
    "x=98989\n",
    "y=221133\n",
    "m+=n\n",
    "p-=m\n",
    "q*=p\n",
    "a/=q\n",
    "b%=a\n",
    "y//=b\n",
    "x**=m\n",
    "print(a,b,m,n,p,q,x,y)"
   ]
  },
  {
   "cell_type": "code",
   "execution_count": null,
   "id": "506b9104-dee6-435b-80d4-ba29f418e6d2",
   "metadata": {},
   "outputs": [],
   "source": []
  }
 ],
 "metadata": {
  "kernelspec": {
   "display_name": "Python 3 (ipykernel)",
   "language": "python",
   "name": "python3"
  },
  "language_info": {
   "codemirror_mode": {
    "name": "ipython",
    "version": 3
   },
   "file_extension": ".py",
   "mimetype": "text/x-python",
   "name": "python",
   "nbconvert_exporter": "python",
   "pygments_lexer": "ipython3",
   "version": "3.12.1"
  }
 },
 "nbformat": 4,
 "nbformat_minor": 5
}
