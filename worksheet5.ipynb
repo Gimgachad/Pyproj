{
 "cells": [
  {
   "cell_type": "code",
   "execution_count": 1,
   "id": "c0dd8a76-bb13-4e5c-af61-31ef05ac5fee",
   "metadata": {},
   "outputs": [
    {
     "name": "stdout",
     "output_type": "stream",
     "text": [
      "3\n"
     ]
    }
   ],
   "source": [
    "import numpy as np\n",
    "num1=int(np.pi)\n",
    "print(num1)"
   ]
  },
  {
   "cell_type": "code",
   "execution_count": 9,
   "id": "0eb472b6-ad1f-4887-b64e-e5661f83dd5d",
   "metadata": {},
   "outputs": [
    {
     "name": "stdout",
     "output_type": "stream",
     "text": [
      "both numbers are equal\n"
     ]
    }
   ],
   "source": [
    "a=100\n",
    "b=100\n",
    "result=\"both numbers are equal\" if (a==b) else \"numbers are not equal\"\n",
    "print(result)"
   ]
  },
  {
   "cell_type": "code",
   "execution_count": 11,
   "id": "cd8920ee-640f-4be0-904f-e63d237464c3",
   "metadata": {},
   "outputs": [
    {
     "name": "stdin",
     "output_type": "stream",
     "text": [
      "Enter 1st no.: 500\n",
      "Enter 2nd no.: 500\n"
     ]
    },
    {
     "name": "stdout",
     "output_type": "stream",
     "text": [
      "The nos. are equal\n"
     ]
    }
   ],
   "source": [
    "x=input(\"Enter 1st no.:\")\n",
    "y=input(\"Enter 2nd no.:\")\n",
    "result=\"the numbers are not equal\" if (x!=y) else \"The nos. are equal\"\n",
    "print(result)"
   ]
  },
  {
   "cell_type": "code",
   "execution_count": 12,
   "id": "69ac8210-757b-4938-af62-b950a720a638",
   "metadata": {},
   "outputs": [
    {
     "data": {
      "text/plain": [
       "566"
      ]
     },
     "execution_count": 12,
     "metadata": {},
     "output_type": "execute_result"
    }
   ],
   "source": [
    "round(565.55)"
   ]
  },
  {
   "cell_type": "code",
   "execution_count": 13,
   "id": "7f08164f-2cf5-438d-95cc-31ee53dd2aad",
   "metadata": {},
   "outputs": [
    {
     "data": {
      "text/plain": [
       "56.4545519885"
      ]
     },
     "execution_count": 13,
     "metadata": {},
     "output_type": "execute_result"
    }
   ],
   "source": [
    "float(56.4545519885)"
   ]
  },
  {
   "cell_type": "code",
   "execution_count": 14,
   "id": "ad0ea822-8a17-4edd-a1e0-af8e73b03493",
   "metadata": {},
   "outputs": [
    {
     "data": {
      "text/plain": [
       "40000000.0"
      ]
     },
     "execution_count": 14,
     "metadata": {},
     "output_type": "execute_result"
    }
   ],
   "source": [
    "float(40000000)"
   ]
  },
  {
   "cell_type": "code",
   "execution_count": 16,
   "id": "c1705b48-5e21-494f-b4a9-0271dfd13be7",
   "metadata": {},
   "outputs": [
    {
     "name": "stdout",
     "output_type": "stream",
     "text": [
      "This\n",
      "is \n",
      "a\n",
      "multi-line\n",
      "statement\n"
     ]
    }
   ],
   "source": [
    "quote='''This\n",
    "is \n",
    "a\n",
    "multi-line\n",
    "statement'''\n",
    "print(quote)"
   ]
  },
  {
   "cell_type": "code",
   "execution_count": 17,
   "id": "fd817a04-3182-41e3-b8c8-ab8b5935dce9",
   "metadata": {},
   "outputs": [
    {
     "data": {
      "text/plain": [
       "'This\\nis \\na\\ntest'"
      ]
     },
     "execution_count": 17,
     "metadata": {},
     "output_type": "execute_result"
    }
   ],
   "source": [
    "'''This\n",
    "is \n",
    "a\n",
    "test'''"
   ]
  },
  {
   "cell_type": "code",
   "execution_count": 21,
   "id": "44bc41ba-3a58-4f0b-9c3b-aed7a5a5a332",
   "metadata": {},
   "outputs": [
    {
     "name": "stdin",
     "output_type": "stream",
     "text": [
      "Enter age: 18\n"
     ]
    },
    {
     "name": "stdout",
     "output_type": "stream",
     "text": [
      "You can enter\n"
     ]
    }
   ],
   "source": [
    "age=int(input(\"Enter age:\"))\n",
    "allow=True if (age>=18) else False\n",
    "enter=\"You can enter\" if (allow==True) else \"You are underaged\"\n",
    "print(enter)"
   ]
  },
  {
   "cell_type": "code",
   "execution_count": 22,
   "id": "a21217b1-10fc-4bc1-9adc-f3dd9afb0208",
   "metadata": {},
   "outputs": [
    {
     "name": "stdout",
     "output_type": "stream",
     "text": [
      "a is greater than b\n"
     ]
    }
   ],
   "source": [
    "a=59974\n",
    "b=5552.664\n",
    "if a<b:\n",
    "    print(\"a is less than b\")\n",
    "else:\n",
    "    print(\"a is greater than b\")"
   ]
  },
  {
   "cell_type": "code",
   "execution_count": 25,
   "id": "8d5a0b91-bd36-4bae-b9cf-4a6f65bdc316",
   "metadata": {},
   "outputs": [
    {
     "name": "stdin",
     "output_type": "stream",
     "text": [
      "Enter traffic light: yellow\n"
     ]
    },
    {
     "name": "stdout",
     "output_type": "stream",
     "text": [
      "Wait\n"
     ]
    }
   ],
   "source": [
    "trafficlight=input(\"Enter traffic light:\")\n",
    "if trafficlight==\"red\":\n",
    "    print(\"Stop\")\n",
    "elif trafficlight==\"yellow\":\n",
    "    print(\"Wait\")\n",
    "elif trafficlight==\"green\":\n",
    "    print(\"Go\")\n",
    "else:\n",
    "    print(\"Enter appropriate value\")"
   ]
  },
  {
   "cell_type": "code",
   "execution_count": null,
   "id": "cbcbcc7b-ff7e-4b33-8bf7-7f043a2ff98c",
   "metadata": {},
   "outputs": [],
   "source": []
  }
 ],
 "metadata": {
  "kernelspec": {
   "display_name": "Python 3 (ipykernel)",
   "language": "python",
   "name": "python3"
  },
  "language_info": {
   "codemirror_mode": {
    "name": "ipython",
    "version": 3
   },
   "file_extension": ".py",
   "mimetype": "text/x-python",
   "name": "python",
   "nbconvert_exporter": "python",
   "pygments_lexer": "ipython3",
   "version": "3.12.1"
  }
 },
 "nbformat": 4,
 "nbformat_minor": 5
}
