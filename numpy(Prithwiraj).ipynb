{
 "cells": [
  {
   "cell_type": "code",
   "execution_count": 36,
   "metadata": {},
   "outputs": [
    {
     "name": "stdout",
     "output_type": "stream",
     "text": [
      "0.0\n",
      "0.693\n",
      "1.099\n",
      "1.386\n",
      "1.609\n",
      "1.792\n",
      "1.946\n",
      "2.079\n",
      "2.197\n",
      "2.303\n"
     ]
    }
   ],
   "source": [
    "# WHILE Loop using MATH\n",
    "import math \n",
    "i = 1  \n",
    "while (i < 11): \n",
    "    u_i = math.log(i) \n",
    "    print (round(u_i,3))\n",
    "    i+=1 "
   ]
  },
  {
   "cell_type": "code",
   "execution_count": 2,
   "metadata": {},
   "outputs": [
    {
     "name": "stdout",
     "output_type": "stream",
     "text": [
      "A List: [2, 4, 1, 6, 8, 0, 9, 7, 3]\n",
      "Numpy Array: [2 4 1 6 8 0 9 7 3]\n",
      "Data Dim: 1\n",
      "Data Shape: (9,)\n",
      "Data Size: 9\n",
      "Data Type: int32\n",
      "Data Byte: 36\n"
     ]
    }
   ],
   "source": [
    "# Properties of Numpy ‘Array’ \n",
    "import numpy as np \n",
    "data_lst=[2,4,1,6,8,0,9,7,3] \n",
    "data_arr=np.array(data_lst) \n",
    "print (\"A List:\",data_lst) \n",
    "print (\"Numpy Array:\",data_arr)\n",
    "print(\"Data Dim:\",np.ndim(data_arr))\n",
    "print(\"Data Shape:\",np.shape(data_arr)) \n",
    "print (\"Data Size:\",np.size(data_arr)) \n",
    "print (\"Data Type:\",data_arr.dtype)\n",
    "print (\"Data Byte:\",data_arr.nbytes) "
   ]
  },
  {
   "cell_type": "code",
   "execution_count": 4,
   "metadata": {},
   "outputs": [],
   "source": [
    "#Splitting a Numpy ‘Array’ \n",
    " \n",
    "data_lst=[[2 ,4 ,1],[6 ,8 ,0],[9 ,7 ,31]] "
   ]
  },
  {
   "cell_type": "code",
   "execution_count": 5,
   "metadata": {},
   "outputs": [
    {
     "name": "stdout",
     "output_type": "stream",
     "text": [
      "NUMPY Array:\n",
      " [[ 2  4  1]\n",
      " [ 6  8  0]\n",
      " [ 9  7 31]]\n",
      "Disentangled (Flattened) NUMPY Array:\n",
      " [ 2  4  1  6  8  0  9  7 31]\n"
     ]
    }
   ],
   "source": [
    "#Ravel(Flatten) two or multi-dimensional Numpy 'Array'\n",
    " \n",
    "data_lst=[[2 ,4 ,1],[6 ,8 ,0],[9 ,7 ,31]] \n",
    "data_arr= np.array(data_lst) \n",
    "data_flatten= np.ravel(data_arr)\n",
    "print (f'NUMPY Array:\\n {data_arr}') \n",
    "print (f'Disentangled (Flattened) NUMPY Array:\\n { data_flatten}') "
   ]
  },
  {
   "cell_type": "code",
   "execution_count": 6,
   "metadata": {},
   "outputs": [
    {
     "name": "stdout",
     "output_type": "stream",
     "text": [
      "Concatenate vertically:\n",
      " [[2.  4.  1.  6. ]\n",
      " [8.  0.  9.  7.3]\n",
      " [2.  4.  1.  6. ]\n",
      " [8.  0.  9.  7.3]]\n",
      "Concatenate horizontally:\n",
      " [[2.  4.  1.  6.  2.  4.  1.  6. ]\n",
      " [8.  0.  9.  7.3 8.  0.  9.  7.3]]\n"
     ]
    }
   ],
   "source": [
    "#Concatenate two Numpy ‘Array’ \n",
    "data_arr1=np.array([[2,4,1,6],[8,0,9,7.3]]) \n",
    "data_arr2=np.array([[2,4,1,6],[8,0,9,7.3]]) \n",
    "con_ver=np.concatenate(((data_arr1,data_arr2)), \n",
    "axis=0)\n",
    "con_hor=np.concatenate (((data_arr1,data_arr2)), \n",
    "axis=1) \n",
    "print (\"Concatenate vertically:\\n\", con_ver)\n",
    "print (\"Concatenate horizontally:\\n\", con_hor) "
   ]
  },
  {
   "cell_type": "code",
   "execution_count": 9,
   "metadata": {},
   "outputs": [
    {
     "name": "stdout",
     "output_type": "stream",
     "text": [
      "Array before append: [2 4 1 6 8 0 9 7 3]\n",
      "Array after append: [2.   4.   1.   6.   8.   0.   9.   7.   3.   0.01]\n"
     ]
    }
   ],
   "source": [
    "#Converting Integer to Floating Array by Append\n",
    " \n",
    "data_int_arr=np.array([2,4,1,6,8,0,9,7,3]) \n",
    "data_flt_arr=np.append(data_int_arr,0.007) \n",
    "print (\"Array before append:\", data_int_arr) \n",
    "print (\"Array after append:\", np.around(data_flt_arr,2)) "
   ]
  },
  {
   "cell_type": "code",
   "execution_count": 10,
   "metadata": {},
   "outputs": [
    {
     "name": "stdout",
     "output_type": "stream",
     "text": [
      "Summation of numbers: 40\n"
     ]
    }
   ],
   "source": [
    "#Numpy ‘Sum’ from List \n",
    " \n",
    "data_list=[2,4,1,6,8,0,9,7,3]\n",
    "data_sum=np.sum(data_list) \n",
    "print(\"Summation of numbers:\", data_sum)"
   ]
  },
  {
   "cell_type": "code",
   "execution_count": 16,
   "metadata": {},
   "outputs": [
    {
     "name": "stdout",
     "output_type": "stream",
     "text": [
      "[1.41421356 2.         1.         2.44948974 2.82842712 0.\n",
      " 3.         2.64575131 1.73205081]\n"
     ]
    }
   ],
   "source": [
    "#Numpy ‘Array’ from List \n",
    " \n",
    "my_int_list=[2,4,1,6,8,0,9,7,3] \n",
    "my_int_list_sqrt=np.sqrt(my_int_list) \n",
    "print (my_int_list_sqrt)"
   ]
  },
  {
   "cell_type": "code",
   "execution_count": 25,
   "metadata": {},
   "outputs": [
    {
     "name": "stdout",
     "output_type": "stream",
     "text": [
      "[2 4 1 6 8 0 9 7 3]\n",
      "<class 'numpy.ndarray'>\n"
     ]
    },
    {
     "data": {
      "text/plain": [
       "dtype('int32')"
      ]
     },
     "execution_count": 25,
     "metadata": {},
     "output_type": "execute_result"
    }
   ],
   "source": [
    "#Numpy ‘Array’ from List \n",
    " \n",
    "my_int_list=[2,4,1,6,8,0,9,7,3] \n",
    "my_int_array=np.array(my_int_list) # Note: No commas \n",
    "print (my_int_array) \n",
    "print(type(my_int_array))\n",
    "my_int_array.dtype "
   ]
  },
  {
   "cell_type": "code",
   "execution_count": 27,
   "metadata": {},
   "outputs": [
    {
     "name": "stdout",
     "output_type": "stream",
     "text": [
      "8\n",
      "(8,)\n"
     ]
    }
   ],
   "source": [
    "#Numpy ‘Array’ from List \n",
    " \n",
    "my_int_list=[2,4,1,6,8,0,9,7]\n",
    "my_int_array=np.array(my_int_list)\n",
    "print (my_int_array.size) \n",
    "print (my_int_array.shape) "
   ]
  },
  {
   "cell_type": "code",
   "execution_count": 17,
   "metadata": {},
   "outputs": [
    {
     "name": "stdout",
     "output_type": "stream",
     "text": [
      "List:\n",
      " ([[0, 1, 2]], [[3, 4, 5]], [[6, 7, 8]])\n",
      "Array:\n",
      " [[[0 1 2]]\n",
      "\n",
      " [[3 4 5]]\n",
      "\n",
      " [[6 7 8]]]\n",
      "Size of array:\n",
      " 9\n",
      "Shape of array:\n",
      " (3, 1, 3)\n",
      "Flatten array:\n",
      " [0 1 2 3 4 5 6 7 8]\n"
     ]
    }
   ],
   "source": [
    "#Some characteristics and manipulation of Numpy ‘Array’ \n",
    " \n",
    "data_list=[[0,1,2]],[[3,4,5]],[[6,7,8]] \n",
    "data_array=np.array(data_list) \n",
    "print (\"List:\\n\", data_list) \n",
    "print (\"Array:\\n\", data_array) \n",
    "print (\"Size of array:\\n\", data_array.size) \n",
    "print (\"Shape of array:\\n\", data_array.shape) \n",
    "print(\"Flatten array:\\n\", data_array.ravel()) "
   ]
  },
  {
   "cell_type": "code",
   "execution_count": 19,
   "metadata": {},
   "outputs": [
    {
     "name": "stdout",
     "output_type": "stream",
     "text": [
      "[0 1 2 3 4 5 6 7 8]\n",
      "<class 'numpy.ndarray'>\n",
      "int32\n",
      "1\n"
     ]
    }
   ],
   "source": [
    "#Numpy ‘Array’ from ’Arrange’ (Range) \n",
    " \n",
    "my_int_array1 = np.arange (9) \n",
    "print(my_int_array1)\n",
    "print(type(my_int_array1)) # Builtin Python package \n",
    "print(my_int_array1.dtype) # With Numpy package \n",
    "print (my_int_array1.ndim) "
   ]
  },
  {
   "cell_type": "code",
   "execution_count": 28,
   "metadata": {},
   "outputs": [],
   "source": [
    "#Permutation using NUMPY\n",
    " "
   ]
  },
  {
   "cell_type": "markdown",
   "metadata": {},
   "source": [
    "# 6.1.2 Matrix and their manipulation in Numpy "
   ]
  },
  {
   "cell_type": "code",
   "execution_count": 1,
   "metadata": {},
   "outputs": [
    {
     "name": "stdout",
     "output_type": "stream",
     "text": [
      "Data List: [[2, 4, 1], [6, 8, 0], [9, 7, 31]]\n",
      "Numpy Array: [[ 2  4  1]\n",
      " [ 6  8  0]\n",
      " [ 9  7 31]]\n",
      "Numpy Matrix: [[ 2  4  1]\n",
      " [ 6  8  0]\n",
      " [ 9  7 31]]\n"
     ]
    }
   ],
   "source": [
    "#From Array to Matrix \n",
    "\n",
    "data_lst= [[2,4,1],[6,8,0] ,[9,7,31]]\n",
    "print (\"Data List:\",data_lst) \n",
    "data_arr= np.array(data_lst) \n",
    "print (\"Numpy Array:\", data_arr) \n",
    "data_mat=np.matrix(data_arr)\n",
    "print (\"Numpy Matrix:\",data_mat) "
   ]
  },
  {
   "cell_type": "code",
   "execution_count": 2,
   "metadata": {},
   "outputs": [
    {
     "name": "stdout",
     "output_type": "stream",
     "text": [
      "[[0. 0. 0.]\n",
      " [0. 0. 0.]\n",
      " [0. 0. 0.]]\n",
      "<class 'numpy.ndarray'>\n",
      "float64\n",
      "(3, 3)\n"
     ]
    }
   ],
   "source": [
    "#Null Matrix \n",
    " \n",
    "mat_null_3dim=np.zeros ((3,3)) \n",
    "print (mat_null_3dim) \n",
    "print (type (mat_null_3dim)) \n",
    "print (mat_null_3dim.dtype) \n",
    "print (mat_null_3dim.shape)"
   ]
  },
  {
   "cell_type": "code",
   "execution_count": 3,
   "metadata": {},
   "outputs": [
    {
     "name": "stdout",
     "output_type": "stream",
     "text": [
      "[[1. 0. 0. 0.]\n",
      " [0. 1. 0. 0.]\n",
      " [0. 0. 1. 0.]\n",
      " [0. 0. 0. 1.]]\n",
      "(4, 4)\n"
     ]
    }
   ],
   "source": [
    "#Unit Matrix \n",
    " \n",
    "iden_mat4=np.eye (4,4) \n",
    "print (iden_mat4)  \n",
    "print (iden_mat4.shape)"
   ]
  },
  {
   "cell_type": "code",
   "execution_count": 5,
   "metadata": {},
   "outputs": [
    {
     "name": "stdout",
     "output_type": "stream",
     "text": [
      "[[1. 1. 1. 1.]\n",
      " [1. 1. 1. 1.]\n",
      " [1. 1. 1. 1.]]\n",
      "(3, 4)\n"
     ]
    }
   ],
   "source": [
    "#One Matrix\n",
    "\n",
    "mat34=np.ones((3,4)) \n",
    "print(mat34)\n",
    "print (mat34.shape)"
   ]
  },
  {
   "cell_type": "code",
   "execution_count": 6,
   "metadata": {},
   "outputs": [
    {
     "name": "stdout",
     "output_type": "stream",
     "text": [
      "Diagonal matrix: [[ 0  0  0  0  0]\n",
      " [ 0  4  0  0  0]\n",
      " [ 0  0  8  0  0]\n",
      " [ 0  0  0 12  0]\n",
      " [ 0  0  0  0 16]]\n"
     ]
    }
   ],
   "source": [
    "#Diagonal Matrix\n",
    " \n",
    "MD=np.diag(np.arange(0, 20, 4)) \n",
    "print (\"Diagonal matrix:\",MD) "
   ]
  },
  {
   "cell_type": "code",
   "execution_count": 8,
   "metadata": {},
   "outputs": [
    {
     "name": "stdout",
     "output_type": "stream",
     "text": [
      "matU:  [[0. 1. 0. 0.]\n",
      " [0. 0. 1. 0.]\n",
      " [0. 0. 0. 1.]\n",
      " [0. 0. 0. 0.]]\n",
      "matL:  [[1. 0. 0. 0.]\n",
      " [1. 1. 0. 0.]\n",
      " [0. 1. 1. 0.]\n",
      " [0. 0. 1. 1.]]\n"
     ]
    }
   ],
   "source": [
    "#Diagonal off-set Matrix \n",
    "\n",
    "N = 4\n",
    "matU = np.eye(N, k=1)\n",
    "matL = np.eye(N, k=-1) + np.eye(N)\n",
    "print(\"matU: \", matU)\n",
    "print(\"matL: \", matL)"
   ]
  },
  {
   "cell_type": "code",
   "execution_count": 11,
   "metadata": {},
   "outputs": [
    {
     "name": "stdout",
     "output_type": "stream",
     "text": [
      "[[0.21285836 0.08615188 0.82066757 0.60638629]\n",
      " [0.65473866 0.75852192 0.80662435 0.62046972]\n",
      " [0.74299104 0.58659999 0.634699   0.88358589]\n",
      " [0.51555796 0.29048978 0.52993484 0.72177241]]\n"
     ]
    }
   ],
   "source": [
    "#Random Matrix\n",
    "mat_rand4=np.random.random((4,4)) \n",
    "print (mat_rand4) "
   ]
  },
  {
   "cell_type": "code",
   "execution_count": 14,
   "metadata": {},
   "outputs": [
    {
     "name": "stdout",
     "output_type": "stream",
     "text": [
      "A= [0 1 2 3 4 5 6 7]\n",
      "M= [[0 1 2]\n",
      " [3 4 5]\n",
      " [6 7 8]]\n",
      "Dimension of array A: 1\n",
      "Number of elements in the matrix: 9\n",
      "The matrix is a 2-dimensional matrix\n",
      "The matrix is a 2-dimensional matrix\n"
     ]
    }
   ],
   "source": [
    "#Dimension of Array and Matrix \n",
    "A = np.arange(8) \n",
    "M = np.arange (9).reshape(3,3) \n",
    "print (\"A=\",A) \n",
    "print(\"M=\",M) \n",
    "print (\"Dimension of array A:\",A.ndim) \n",
    "print (\"Number of elements in the matrix:\", np.size(M)) \n",
    "print (f'The matrix is a {np.ndim(M)}-dimensional matrix') \n",
    "print (f'The matrix is a {M.ndim}-dimensional matrix') "
   ]
  },
  {
   "cell_type": "code",
   "execution_count": 15,
   "metadata": {},
   "outputs": [
    {
     "name": "stdout",
     "output_type": "stream",
     "text": [
      "Sum of elements of two arrays: [ 3  9 16]\n"
     ]
    }
   ],
   "source": [
    "#Summing two arrays\n",
    "arrayl = np.array([1,4,8]) \n",
    "array2 = np.array([2,5,8]) \n",
    "print (\"Sum of elements of two arrays:\", arrayl+array2) "
   ]
  },
  {
   "cell_type": "code",
   "execution_count": 18,
   "metadata": {},
   "outputs": [
    {
     "name": "stdout",
     "output_type": "stream",
     "text": [
      "One dimensional array:  [ 1  2  3  4  5  6  7  8  9 10 11 12 13 14 15 16]\n",
      "Four (4x4) dimensional array: [[ 1  2  3  4]\n",
      " [ 5  6  7  8]\n",
      " [ 9 10 11 12]\n",
      " [13 14 15 16]]\n",
      "Two (2x8) dimensional array: [[ 1  2  3  4  5  6  7  8]\n",
      " [ 9 10 11 12 13 14 15 16]]\n",
      "Return to one dimensional array: [ 1  2  3  4  5  6  7  8  9 10 11 12 13 14 15 16]\n"
     ]
    }
   ],
   "source": [
    "#Reshaping of dimension of Array\n",
    "one_dim_arr = np.arange(1,17) \n",
    "print (\"One dimensional array: \",one_dim_arr) \n",
    "four_dim_arr = np.reshape(one_dim_arr,(4, 4)) \n",
    "two_dim_arr = np.reshape(one_dim_arr,(2,8)) \n",
    "return_one_dim = four_dim_arr.reshape(-1)\n",
    "print (\"Four (4x4) dimensional array:\",four_dim_arr)\n",
    "print (\"Two (2x8) dimensional array:\",two_dim_arr) \n",
    "print (\"Return to one dimensional array:\",return_one_dim)\n"
   ]
  },
  {
   "cell_type": "code",
   "execution_count": 20,
   "metadata": {},
   "outputs": [
    {
     "name": "stdout",
     "output_type": "stream",
     "text": [
      "A= [[ 1  3  0]\n",
      " [ 0  9 11]\n",
      " [ 1  1  2]]\n",
      "Transpose of matrix A: [[ 1  0  1]\n",
      " [ 3  9  1]\n",
      " [ 0 11  2]]\n",
      "Trace of matrix A: 12\n",
      "Inverse of matrix A: [[ 0.175 -0.15   0.825]\n",
      " [ 0.275  0.05  -0.275]\n",
      " [-0.225  0.05   0.225]]\n",
      "Rank of matrix A: 3\n",
      "Determinant of matrix A: 40.000000000000014\n",
      "Hermitian of matrix A: [[ 1  0  1]\n",
      " [ 3  9  1]\n",
      " [ 0 11  2]]\n"
     ]
    }
   ],
   "source": [
    "#Transpose, Trace, Inverse,Rank,Determinant,Hermiticity of a Matrix\n",
    "A=np.array([[1,3,0],[0,9,11],[1,1,2]]) \n",
    "print (\"A=\",A) \n",
    "print (\"Transpose of matrix A:\",np.transpose(A))\n",
    "print (\"Trace of matrix A:\",np.trace(A)) \n",
    "print (\"Inverse of matrix A:\",np.linalg.inv(A)) \n",
    "print (\"Rank of matrix A:\",np.linalg.matrix_rank(A))\n",
    "print (\"Determinant of matrix A:\",np.linalg.det(A)) \n",
    "print (\"Hermitian of matrix A:\",np.conj (A).T)"
   ]
  },
  {
   "cell_type": "code",
   "execution_count": 21,
   "metadata": {},
   "outputs": [
    {
     "name": "stdout",
     "output_type": "stream",
     "text": [
      "Matrix A= [[1 2 3]\n",
      " [4 5 6]\n",
      " [7 8 9]]\n",
      "Matrix B= [[9 8 7]\n",
      " [6 5 4]\n",
      " [3 2 1]]\n",
      "A+B= [[10 10 10]\n",
      " [10 10 10]\n",
      " [10 10 10]]\n",
      "A-B= [[-8 -6 -4]\n",
      " [-2  0  2]\n",
      " [ 4  6  8]]\n",
      "A*B=  [[ 30  24  18]\n",
      " [ 84  69  54]\n",
      " [138 114  90]]\n",
      "A/B (Termwise division)= [[0.11111111 0.25       0.42857143]\n",
      " [0.66666667 1.         1.5       ]\n",
      " [2.33333333 4.         9.        ]]\n"
     ]
    }
   ],
   "source": [
    "#Simple Arithmetic with Matrices \n",
    "A=np.array([[1,2,3],[4,5,6] ,[7,8,9]]) \n",
    "B=np.array ([[9,8,7],[6,5,4],[3,2,1]]) \n",
    "print (\"Matrix A=\",A) \n",
    "print (\"Matrix B=\",B) \n",
    "print (\"A+B=\",np.add(A,B)) \n",
    "print (\"A-B=\",np.subtract (A,B))\n",
    "print (\"A*B= \",np.matmul(A,B)) \n",
    "print (\"A/B (Termwise division)=\",np.divide(A,B)) "
   ]
  },
  {
   "cell_type": "code",
   "execution_count": 22,
   "metadata": {},
   "outputs": [
    {
     "name": "stdout",
     "output_type": "stream",
     "text": [
      "Matrix V1= [1 2 3]\n",
      "Matrix V2= [9 8 7]\n",
      "Dot (Inner) product of V1 & V2: 46\n",
      "Cross product of V1 & V2: [-10  20 -10]\n",
      "Tensor (Outer) product of V1 & V2: [[ 9  8  7]\n",
      " [18 16 14]\n",
      " [27 24 21]]\n",
      "Kronecker product of V1 & v2: [ 9  8  7 18 16 14 27 24 21]\n"
     ]
    }
   ],
   "source": [
    "#Dot(Inner), Tensor (Outer) and Kronecker (Outer) product of two vectors\n",
    "V1=np.array ([1,2,3]) \n",
    "V2=np.array([9,8,7]) \n",
    "print (\"Matrix V1=\",V1) \n",
    "print (\"Matrix V2=\",V2) \n",
    "print (\"Dot (Inner) product of V1 & V2:\",np.dot(V1,V2)) \n",
    "print (\"Cross product of V1 & V2:\",np.cross (V1, V2)) \n",
    "print (\"Tensor (Outer) product of V1 & V2:\",np.tensordot(V1, V2, axes=0)) \n",
    "print (\"Kronecker product of V1 & v2:\",np.kron(V1,V2)) "
   ]
  },
  {
   "cell_type": "markdown",
   "metadata": {},
   "source": [
    "## 6.1.3 Use of Linear Algebra package in Numpy "
   ]
  },
  {
   "cell_type": "code",
   "execution_count": 23,
   "metadata": {},
   "outputs": [
    {
     "name": "stdout",
     "output_type": "stream",
     "text": [
      "M= [[ 1  3  5]\n",
      " [ 7  9 11]\n",
      " [13 15 17]]\n",
      "Inverse of M: [[-2.81474977e+14  5.62949953e+14 -2.81474977e+14]\n",
      " [ 5.62949953e+14 -1.12589991e+15  5.62949953e+14]\n",
      " [-2.81474977e+14  5.62949953e+14 -2.81474977e+14]]\n"
     ]
    }
   ],
   "source": [
    "#Inverse of a matrix\n",
    "M= np.arange(1,19,2).reshape(3,3) \n",
    "print (\"M=\",M) \n",
    "InvM=np.linalg.inv (M) \n",
    "evalues, evectors = np.linalg.eig(M) \n",
    "print (\"Inverse of M:\", InvM) "
   ]
  },
  {
   "cell_type": "code",
   "execution_count": 24,
   "metadata": {},
   "outputs": [
    {
     "name": "stdout",
     "output_type": "stream",
     "text": [
      "MN= [[0. 1. 0. 0.]\n",
      " [1. 0. 1. 0.]\n",
      " [0. 1. 0. 1.]\n",
      " [0. 0. 1. 0.]]\n",
      "Eigen values: [-1.61803399 -0.61803399  1.61803399  0.61803399]\n",
      "Eigen vectors: [[ 0.37174803  0.60150096 -0.37174803 -0.60150096]\n",
      " [-0.60150096 -0.37174803 -0.60150096 -0.37174803]\n",
      " [ 0.60150096 -0.37174803 -0.60150096  0.37174803]\n",
      " [-0.37174803  0.60150096 -0.37174803  0.60150096]]\n",
      "Normalized Eigen vectors: [[ 0.185  0.3   -0.185 -0.3  ]\n",
      " [-0.3   -0.185 -0.3   -0.185]\n",
      " [ 0.3   -0.185 -0.3    0.185]\n",
      " [-0.185  0.3   -0.185  0.3  ]]\n"
     ]
    }
   ],
   "source": [
    "#Eigen values and Eigen vectors \n",
    "N=4\n",
    "MN=np.eye (N,k=1) +np.eye (N,k=-1) \n",
    "print (\"MN=\",MN) \n",
    "evalMN, evecMN = np.linalg.eig(MN) \n",
    "print (\"Eigen values:\",evalMN) \n",
    "print (\"Eigen vectors:\",evecMN) \n",
    "print (\"Normalized Eigen vectors:\",np.around(evecMN ,2) /np.linalg.norm(evecMN)) "
   ]
  },
  {
   "cell_type": "code",
   "execution_count": 25,
   "metadata": {},
   "outputs": [
    {
     "name": "stdout",
     "output_type": "stream",
     "text": [
      "M= [[ 1  3  5]\n",
      " [ 7  9 11]\n",
      " [13 15 17]]\n",
      "Eigen values: [ 2.94452187e+01 -2.44521872e+00 -1.61086274e-15]\n",
      "Eigen vectors: [[ 0.20079137  0.79227344  0.40824829]\n",
      " [ 0.5165778   0.09475476 -0.81649658]\n",
      " [ 0.83236422 -0.60276391  0.40824829]]\n"
     ]
    }
   ],
   "source": [
    "#Eigen values and Eigen vectors\n",
    "M= np.arange(1,19,2).reshape(3,3) \n",
    "print (\"M=\",M) \n",
    "np.linalg.inv(M) \n",
    "evalues, evectors = np.linalg.eig(M) \n",
    "print (\"Eigen values:\", evalues) \n",
    "print (\"Eigen vectors:\",evectors) "
   ]
  },
  {
   "cell_type": "code",
   "execution_count": 26,
   "metadata": {},
   "outputs": [
    {
     "name": "stdout",
     "output_type": "stream",
     "text": [
      "M= [[ 1  3  5]\n",
      " [ 7  9 11]\n",
      " [13 15 17]]\n",
      "Transformation matrix (p) is: [[ 0.2   0.79  0.41]\n",
      " [ 0.52  0.09 -0.82]\n",
      " [ 0.83 -0.6   0.41]]\n",
      "Diagonal matrix (D) is: [[ 2.94452187e+01  0.00000000e+00  0.00000000e+00]\n",
      " [ 0.00000000e+00 -2.44521872e+00  0.00000000e+00]\n",
      " [ 0.00000000e+00  0.00000000e+00 -1.61086274e-15]]\n",
      "Diagonal matrix is: (Verification) [ 2.94452187e+01 -2.44521872e+00 -1.61086274e-15]\n"
     ]
    }
   ],
   "source": [
    "#Diagonalization by Similarity Transformation \n",
    "M= np.arange(1,19,2).reshape(3,3) \n",
    "(d,P)=np.linalg.eig(M) \n",
    "D=np.diag(d) \n",
    "print (\"M=\",M) \n",
    "print (\"Transformation matrix (p) is:\",np.around (P,2)) \n",
    "print (\"Diagonal matrix (D) is:\",D) \n",
    "print (\"Diagonal matrix is: (Verification)\",d)"
   ]
  },
  {
   "cell_type": "code",
   "execution_count": 27,
   "metadata": {},
   "outputs": [
    {
     "name": "stdout",
     "output_type": "stream",
     "text": [
      "M= [[ 4 72]\n",
      " [ 3 14]\n",
      " [ 8  2]]\n",
      "Left transformation matrix  [[ 0.98067142 -0.08381868  0.17679932]\n",
      " [ 0.19264847  0.25566091 -0.94737747]\n",
      " [ 0.03420725  0.96312612  0.26686689]]\n",
      "Right transformation matrix (VT): [[ 0.0649307   0.99788978]\n",
      " [ 0.99788978 -0.0649307 ]]\n",
      "Column matrix (s): [73.52899788  8.1539236 ]\n"
     ]
    }
   ],
   "source": [
    "#Singular-value decomposition \n",
    "from scipy.linalg import svd \n",
    "# define a matrix \n",
    "M = np.array([[4, 72], [3, 14], [8, 2]])\n",
    "print (\"M=\",M) \n",
    "# SVD calculation \n",
    "U, s, VT = svd(M) \n",
    "print(\"Left transformation matrix \",U) \n",
    "print (\"Right transformation matrix (VT):\",VT) \n",
    "print (\"Column matrix (s):\",s) "
   ]
  },
  {
   "cell_type": "code",
   "execution_count": 30,
   "metadata": {},
   "outputs": [
    {
     "name": "stdout",
     "output_type": "stream",
     "text": [
      "Values of the components of X vectors (x1,x2,x3) are: [-0.46515152 -0.15151515  0.78636364]\n"
     ]
    },
    {
     "data": {
      "text/plain": [
       "True"
      ]
     },
     "execution_count": 30,
     "metadata": {},
     "output_type": "execute_result"
    }
   ],
   "source": [
    "#Solution of linear equation \n",
    "A = np.array([[1, 2.6, 3], [4, 5, 6], [7, .8,9]])\n",
    "B=np.array([1.5,2.1,3.7]) \n",
    "X = np.linalg.solve(A, B) \n",
    "print(\"Values of the components of X vectors (x1,x2,x3) are:\",X) \n",
    "np.allclose(np.dot (A, X), B) # Verification "
   ]
  },
  {
   "cell_type": "code",
   "execution_count": 31,
   "metadata": {},
   "outputs": [
    {
     "data": {
      "text/plain": [
       "<function convolve at 0x000002334718A930>"
      ]
     },
     "execution_count": 31,
     "metadata": {},
     "output_type": "execute_result"
    }
   ],
   "source": [
    "#Sparse matrix \n",
    "np.concatenate \n",
    "np.conj \n",
    "np.conjugate \n",
    "np.convolve "
   ]
  },
  {
   "cell_type": "code",
   "execution_count": 32,
   "metadata": {},
   "outputs": [
    {
     "ename": "TypeError",
     "evalue": "non-string returned while reading data",
     "output_type": "error",
     "traceback": [
      "\u001b[1;31m---------------------------------------------------------------------------\u001b[0m",
      "\u001b[1;31mTypeError\u001b[0m                                 Traceback (most recent call last)",
      "Cell \u001b[1;32mIn[32], line 3\u001b[0m\n\u001b[0;32m      1\u001b[0m \u001b[38;5;66;03m#Reading, saving data and writing using NUMPY \u001b[39;00m\n\u001b[0;32m      2\u001b[0m np\u001b[38;5;241m.\u001b[39msave(\u001b[38;5;124m'\u001b[39m\u001b[38;5;124mdata_saved.py\u001b[39m\u001b[38;5;124m'\u001b[39m,data_arr) \n\u001b[1;32m----> 3\u001b[0m \u001b[43mnp\u001b[49m\u001b[38;5;241;43m.\u001b[39;49m\u001b[43mloadtxt\u001b[49m\u001b[43m \u001b[49m\u001b[43m(\u001b[49m\u001b[43mdata_arr\u001b[49m\u001b[43m)\u001b[49m \n",
      "File \u001b[1;32mc:\\Users\\Prith\\AppData\\Local\\Programs\\Python\\Python312\\Lib\\site-packages\\numpy\\lib\\npyio.py:1373\u001b[0m, in \u001b[0;36mloadtxt\u001b[1;34m(fname, dtype, comments, delimiter, converters, skiprows, usecols, unpack, ndmin, encoding, max_rows, quotechar, like)\u001b[0m\n\u001b[0;32m   1370\u001b[0m \u001b[38;5;28;01mif\u001b[39;00m \u001b[38;5;28misinstance\u001b[39m(delimiter, \u001b[38;5;28mbytes\u001b[39m):\n\u001b[0;32m   1371\u001b[0m     delimiter \u001b[38;5;241m=\u001b[39m delimiter\u001b[38;5;241m.\u001b[39mdecode(\u001b[38;5;124m'\u001b[39m\u001b[38;5;124mlatin1\u001b[39m\u001b[38;5;124m'\u001b[39m)\n\u001b[1;32m-> 1373\u001b[0m arr \u001b[38;5;241m=\u001b[39m \u001b[43m_read\u001b[49m\u001b[43m(\u001b[49m\u001b[43mfname\u001b[49m\u001b[43m,\u001b[49m\u001b[43m \u001b[49m\u001b[43mdtype\u001b[49m\u001b[38;5;241;43m=\u001b[39;49m\u001b[43mdtype\u001b[49m\u001b[43m,\u001b[49m\u001b[43m \u001b[49m\u001b[43mcomment\u001b[49m\u001b[38;5;241;43m=\u001b[39;49m\u001b[43mcomment\u001b[49m\u001b[43m,\u001b[49m\u001b[43m \u001b[49m\u001b[43mdelimiter\u001b[49m\u001b[38;5;241;43m=\u001b[39;49m\u001b[43mdelimiter\u001b[49m\u001b[43m,\u001b[49m\n\u001b[0;32m   1374\u001b[0m \u001b[43m            \u001b[49m\u001b[43mconverters\u001b[49m\u001b[38;5;241;43m=\u001b[39;49m\u001b[43mconverters\u001b[49m\u001b[43m,\u001b[49m\u001b[43m \u001b[49m\u001b[43mskiplines\u001b[49m\u001b[38;5;241;43m=\u001b[39;49m\u001b[43mskiprows\u001b[49m\u001b[43m,\u001b[49m\u001b[43m \u001b[49m\u001b[43musecols\u001b[49m\u001b[38;5;241;43m=\u001b[39;49m\u001b[43musecols\u001b[49m\u001b[43m,\u001b[49m\n\u001b[0;32m   1375\u001b[0m \u001b[43m            \u001b[49m\u001b[43munpack\u001b[49m\u001b[38;5;241;43m=\u001b[39;49m\u001b[43munpack\u001b[49m\u001b[43m,\u001b[49m\u001b[43m \u001b[49m\u001b[43mndmin\u001b[49m\u001b[38;5;241;43m=\u001b[39;49m\u001b[43mndmin\u001b[49m\u001b[43m,\u001b[49m\u001b[43m \u001b[49m\u001b[43mencoding\u001b[49m\u001b[38;5;241;43m=\u001b[39;49m\u001b[43mencoding\u001b[49m\u001b[43m,\u001b[49m\n\u001b[0;32m   1376\u001b[0m \u001b[43m            \u001b[49m\u001b[43mmax_rows\u001b[49m\u001b[38;5;241;43m=\u001b[39;49m\u001b[43mmax_rows\u001b[49m\u001b[43m,\u001b[49m\u001b[43m \u001b[49m\u001b[43mquote\u001b[49m\u001b[38;5;241;43m=\u001b[39;49m\u001b[43mquotechar\u001b[49m\u001b[43m)\u001b[49m\n\u001b[0;32m   1378\u001b[0m \u001b[38;5;28;01mreturn\u001b[39;00m arr\n",
      "File \u001b[1;32mc:\\Users\\Prith\\AppData\\Local\\Programs\\Python\\Python312\\Lib\\site-packages\\numpy\\lib\\npyio.py:1016\u001b[0m, in \u001b[0;36m_read\u001b[1;34m(fname, delimiter, comment, quote, imaginary_unit, usecols, skiplines, max_rows, converters, ndmin, unpack, dtype, encoding)\u001b[0m\n\u001b[0;32m   1013\u001b[0m     data \u001b[38;5;241m=\u001b[39m _preprocess_comments(data, comments, encoding)\n\u001b[0;32m   1015\u001b[0m \u001b[38;5;28;01mif\u001b[39;00m read_dtype_via_object_chunks \u001b[38;5;129;01mis\u001b[39;00m \u001b[38;5;28;01mNone\u001b[39;00m:\n\u001b[1;32m-> 1016\u001b[0m     arr \u001b[38;5;241m=\u001b[39m \u001b[43m_load_from_filelike\u001b[49m\u001b[43m(\u001b[49m\n\u001b[0;32m   1017\u001b[0m \u001b[43m        \u001b[49m\u001b[43mdata\u001b[49m\u001b[43m,\u001b[49m\u001b[43m \u001b[49m\u001b[43mdelimiter\u001b[49m\u001b[38;5;241;43m=\u001b[39;49m\u001b[43mdelimiter\u001b[49m\u001b[43m,\u001b[49m\u001b[43m \u001b[49m\u001b[43mcomment\u001b[49m\u001b[38;5;241;43m=\u001b[39;49m\u001b[43mcomment\u001b[49m\u001b[43m,\u001b[49m\u001b[43m \u001b[49m\u001b[43mquote\u001b[49m\u001b[38;5;241;43m=\u001b[39;49m\u001b[43mquote\u001b[49m\u001b[43m,\u001b[49m\n\u001b[0;32m   1018\u001b[0m \u001b[43m        \u001b[49m\u001b[43mimaginary_unit\u001b[49m\u001b[38;5;241;43m=\u001b[39;49m\u001b[43mimaginary_unit\u001b[49m\u001b[43m,\u001b[49m\n\u001b[0;32m   1019\u001b[0m \u001b[43m        \u001b[49m\u001b[43musecols\u001b[49m\u001b[38;5;241;43m=\u001b[39;49m\u001b[43musecols\u001b[49m\u001b[43m,\u001b[49m\u001b[43m \u001b[49m\u001b[43mskiplines\u001b[49m\u001b[38;5;241;43m=\u001b[39;49m\u001b[43mskiplines\u001b[49m\u001b[43m,\u001b[49m\u001b[43m \u001b[49m\u001b[43mmax_rows\u001b[49m\u001b[38;5;241;43m=\u001b[39;49m\u001b[43mmax_rows\u001b[49m\u001b[43m,\u001b[49m\n\u001b[0;32m   1020\u001b[0m \u001b[43m        \u001b[49m\u001b[43mconverters\u001b[49m\u001b[38;5;241;43m=\u001b[39;49m\u001b[43mconverters\u001b[49m\u001b[43m,\u001b[49m\u001b[43m \u001b[49m\u001b[43mdtype\u001b[49m\u001b[38;5;241;43m=\u001b[39;49m\u001b[43mdtype\u001b[49m\u001b[43m,\u001b[49m\n\u001b[0;32m   1021\u001b[0m \u001b[43m        \u001b[49m\u001b[43mencoding\u001b[49m\u001b[38;5;241;43m=\u001b[39;49m\u001b[43mencoding\u001b[49m\u001b[43m,\u001b[49m\u001b[43m \u001b[49m\u001b[43mfilelike\u001b[49m\u001b[38;5;241;43m=\u001b[39;49m\u001b[43mfilelike\u001b[49m\u001b[43m,\u001b[49m\n\u001b[0;32m   1022\u001b[0m \u001b[43m        \u001b[49m\u001b[43mbyte_converters\u001b[49m\u001b[38;5;241;43m=\u001b[39;49m\u001b[43mbyte_converters\u001b[49m\u001b[43m)\u001b[49m\n\u001b[0;32m   1024\u001b[0m \u001b[38;5;28;01melse\u001b[39;00m:\n\u001b[0;32m   1025\u001b[0m     \u001b[38;5;66;03m# This branch reads the file into chunks of object arrays and then\u001b[39;00m\n\u001b[0;32m   1026\u001b[0m     \u001b[38;5;66;03m# casts them to the desired actual dtype.  This ensures correct\u001b[39;00m\n\u001b[0;32m   1027\u001b[0m     \u001b[38;5;66;03m# string-length and datetime-unit discovery (like `arr.astype()`).\u001b[39;00m\n\u001b[0;32m   1028\u001b[0m     \u001b[38;5;66;03m# Due to chunking, certain error reports are less clear, currently.\u001b[39;00m\n\u001b[0;32m   1029\u001b[0m     \u001b[38;5;28;01mif\u001b[39;00m filelike:\n",
      "\u001b[1;31mTypeError\u001b[0m: non-string returned while reading data"
     ]
    }
   ],
   "source": [
    "#Reading, saving data and writing using NUMPY \n",
    "np.save('data_saved.py',data_arr) \n",
    "np.loadtxt (data_arr) "
   ]
  },
  {
   "cell_type": "code",
   "execution_count": null,
   "metadata": {},
   "outputs": [],
   "source": [
    "#Quit\n",
    "quit()"
   ]
  },
  {
   "cell_type": "code",
   "execution_count": 3,
   "metadata": {},
   "outputs": [
    {
     "name": "stdout",
     "output_type": "stream",
     "text": [
      "Requirement already satisfied: nbmerge in c:\\users\\prith\\appdata\\local\\programs\\python\\python312\\lib\\site-packages (0.0.4)\n",
      "Note: you may need to restart the kernel to use updated packages.\n"
     ]
    },
    {
     "name": "stderr",
     "output_type": "stream",
     "text": [
      "\n",
      "[notice] A new release of pip is available: 23.2.1 -> 23.3.2\n",
      "[notice] To update, run: python.exe -m pip install --upgrade pip\n"
     ]
    }
   ],
   "source": [
    "!pip install nbmerge"
   ]
  },
  {
   "cell_type": "code",
   "execution_count": 5,
   "metadata": {},
   "outputs": [
    {
     "name": "stderr",
     "output_type": "stream",
     "text": [
      "C:\\Users\\Prith\\AppData\\Local\\Programs\\Python\\Python312\\Lib\\site-packages\\nbformat\\__init__.py:93: MissingIDFieldWarning: Code cell is missing an id field, this will become a hard error in future nbformat versions. You may want to use `normalize()` on your notebooks before validations (available since nbformat 5.1.4). Previous versions of nbformat are fixing this issue transparently, and will stop doing so in the future.\n",
      "  validate(nb)\n"
     ]
    }
   ],
   "source": [
    "import nbmerge\n",
    "!nbmerge loop-while.ipynb loop-decision-2.ipynb \"Controlled operations.ipynb\" > merged.ipynb"
   ]
  },
  {
   "cell_type": "code",
   "execution_count": null,
   "metadata": {},
   "outputs": [],
   "source": []
  }
 ],
 "metadata": {
  "kernelspec": {
   "display_name": "Python 3",
   "language": "python",
   "name": "python3"
  },
  "language_info": {
   "codemirror_mode": {
    "name": "ipython",
    "version": 3
   },
   "file_extension": ".py",
   "mimetype": "text/x-python",
   "name": "python",
   "nbconvert_exporter": "python",
   "pygments_lexer": "ipython3",
   "version": "3.12.1"
  }
 },
 "nbformat": 4,
 "nbformat_minor": 2
}
