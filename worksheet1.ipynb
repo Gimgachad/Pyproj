{
 "cells": [
  {
   "cell_type": "code",
   "execution_count": 1,
   "id": "d9f743bf-9ca1-4a70-9cd2-a2d9070e433d",
   "metadata": {},
   "outputs": [],
   "source": [
    "#This is a sample comment"
   ]
  },
  {
   "cell_type": "code",
   "execution_count": 2,
   "id": "35534e00-f2cb-4e10-acb4-118c483a1819",
   "metadata": {},
   "outputs": [
    {
     "data": {
      "text/plain": [
       "852.28125"
      ]
     },
     "execution_count": 2,
     "metadata": {},
     "output_type": "execute_result"
    }
   ],
   "source": [
    "100*8+55-87/32"
   ]
  },
  {
   "cell_type": "code",
   "execution_count": 3,
   "id": "6b9449ca-765c-421f-9a5d-1761f61b3d58",
   "metadata": {},
   "outputs": [
    {
     "data": {
      "text/plain": [
       "46301"
      ]
     },
     "execution_count": 3,
     "metadata": {},
     "output_type": "execute_result"
    }
   ],
   "source": [
    "645+45656"
   ]
  },
  {
   "cell_type": "code",
   "execution_count": 4,
   "id": "5d03a6e6-abfd-4c09-a6e9-4e06be2e01a7",
   "metadata": {},
   "outputs": [
    {
     "data": {
      "text/plain": [
       "254629497041810760783555711051172270131433549208242031329517556169297662470417088272924672"
      ]
     },
     "execution_count": 4,
     "metadata": {},
     "output_type": "execute_result"
    }
   ],
   "source": [
    "8**99"
   ]
  },
  {
   "cell_type": "code",
   "execution_count": 5,
   "id": "d5267cae-7669-4eeb-a955-3f756837dd63",
   "metadata": {},
   "outputs": [
    {
     "ename": "ValueError",
     "evalue": "Exceeds the limit (4300 digits) for integer string conversion; use sys.set_int_max_str_digits() to increase the limit",
     "output_type": "error",
     "traceback": [
      "\u001b[1;31m---------------------------------------------------------------------------\u001b[0m",
      "\u001b[1;31mValueError\u001b[0m                                Traceback (most recent call last)",
      "File \u001b[1;32m~\\AppData\\Local\\Programs\\Python\\Python312\\Lib\\site-packages\\IPython\\core\\formatters.py:708\u001b[0m, in \u001b[0;36mPlainTextFormatter.__call__\u001b[1;34m(self, obj)\u001b[0m\n\u001b[0;32m    701\u001b[0m stream \u001b[38;5;241m=\u001b[39m StringIO()\n\u001b[0;32m    702\u001b[0m printer \u001b[38;5;241m=\u001b[39m pretty\u001b[38;5;241m.\u001b[39mRepresentationPrinter(stream, \u001b[38;5;28mself\u001b[39m\u001b[38;5;241m.\u001b[39mverbose,\n\u001b[0;32m    703\u001b[0m     \u001b[38;5;28mself\u001b[39m\u001b[38;5;241m.\u001b[39mmax_width, \u001b[38;5;28mself\u001b[39m\u001b[38;5;241m.\u001b[39mnewline,\n\u001b[0;32m    704\u001b[0m     max_seq_length\u001b[38;5;241m=\u001b[39m\u001b[38;5;28mself\u001b[39m\u001b[38;5;241m.\u001b[39mmax_seq_length,\n\u001b[0;32m    705\u001b[0m     singleton_pprinters\u001b[38;5;241m=\u001b[39m\u001b[38;5;28mself\u001b[39m\u001b[38;5;241m.\u001b[39msingleton_printers,\n\u001b[0;32m    706\u001b[0m     type_pprinters\u001b[38;5;241m=\u001b[39m\u001b[38;5;28mself\u001b[39m\u001b[38;5;241m.\u001b[39mtype_printers,\n\u001b[0;32m    707\u001b[0m     deferred_pprinters\u001b[38;5;241m=\u001b[39m\u001b[38;5;28mself\u001b[39m\u001b[38;5;241m.\u001b[39mdeferred_printers)\n\u001b[1;32m--> 708\u001b[0m \u001b[43mprinter\u001b[49m\u001b[38;5;241;43m.\u001b[39;49m\u001b[43mpretty\u001b[49m\u001b[43m(\u001b[49m\u001b[43mobj\u001b[49m\u001b[43m)\u001b[49m\n\u001b[0;32m    709\u001b[0m printer\u001b[38;5;241m.\u001b[39mflush()\n\u001b[0;32m    710\u001b[0m \u001b[38;5;28;01mreturn\u001b[39;00m stream\u001b[38;5;241m.\u001b[39mgetvalue()\n",
      "File \u001b[1;32m~\\AppData\\Local\\Programs\\Python\\Python312\\Lib\\site-packages\\IPython\\lib\\pretty.py:393\u001b[0m, in \u001b[0;36mRepresentationPrinter.pretty\u001b[1;34m(self, obj)\u001b[0m\n\u001b[0;32m    390\u001b[0m \u001b[38;5;28;01mfor\u001b[39;00m \u001b[38;5;28mcls\u001b[39m \u001b[38;5;129;01min\u001b[39;00m _get_mro(obj_class):\n\u001b[0;32m    391\u001b[0m     \u001b[38;5;28;01mif\u001b[39;00m \u001b[38;5;28mcls\u001b[39m \u001b[38;5;129;01min\u001b[39;00m \u001b[38;5;28mself\u001b[39m\u001b[38;5;241m.\u001b[39mtype_pprinters:\n\u001b[0;32m    392\u001b[0m         \u001b[38;5;66;03m# printer registered in self.type_pprinters\u001b[39;00m\n\u001b[1;32m--> 393\u001b[0m         \u001b[38;5;28;01mreturn\u001b[39;00m \u001b[38;5;28;43mself\u001b[39;49m\u001b[38;5;241;43m.\u001b[39;49m\u001b[43mtype_pprinters\u001b[49m\u001b[43m[\u001b[49m\u001b[38;5;28;43mcls\u001b[39;49m\u001b[43m]\u001b[49m\u001b[43m(\u001b[49m\u001b[43mobj\u001b[49m\u001b[43m,\u001b[49m\u001b[43m \u001b[49m\u001b[38;5;28;43mself\u001b[39;49m\u001b[43m,\u001b[49m\u001b[43m \u001b[49m\u001b[43mcycle\u001b[49m\u001b[43m)\u001b[49m\n\u001b[0;32m    394\u001b[0m     \u001b[38;5;28;01melse\u001b[39;00m:\n\u001b[0;32m    395\u001b[0m         \u001b[38;5;66;03m# deferred printer\u001b[39;00m\n\u001b[0;32m    396\u001b[0m         printer \u001b[38;5;241m=\u001b[39m \u001b[38;5;28mself\u001b[39m\u001b[38;5;241m.\u001b[39m_in_deferred_types(\u001b[38;5;28mcls\u001b[39m)\n",
      "File \u001b[1;32m~\\AppData\\Local\\Programs\\Python\\Python312\\Lib\\site-packages\\IPython\\lib\\pretty.py:778\u001b[0m, in \u001b[0;36m_repr_pprint\u001b[1;34m(obj, p, cycle)\u001b[0m\n\u001b[0;32m    776\u001b[0m \u001b[38;5;250m\u001b[39m\u001b[38;5;124;03m\"\"\"A pprint that just redirects to the normal repr function.\"\"\"\u001b[39;00m\n\u001b[0;32m    777\u001b[0m \u001b[38;5;66;03m# Find newlines and replace them with p.break_()\u001b[39;00m\n\u001b[1;32m--> 778\u001b[0m output \u001b[38;5;241m=\u001b[39m \u001b[38;5;28;43mrepr\u001b[39;49m\u001b[43m(\u001b[49m\u001b[43mobj\u001b[49m\u001b[43m)\u001b[49m\n\u001b[0;32m    779\u001b[0m lines \u001b[38;5;241m=\u001b[39m output\u001b[38;5;241m.\u001b[39msplitlines()\n\u001b[0;32m    780\u001b[0m \u001b[38;5;28;01mwith\u001b[39;00m p\u001b[38;5;241m.\u001b[39mgroup():\n",
      "\u001b[1;31mValueError\u001b[0m: Exceeds the limit (4300 digits) for integer string conversion; use sys.set_int_max_str_digits() to increase the limit"
     ]
    }
   ],
   "source": [
    "9999**99999"
   ]
  },
  {
   "cell_type": "code",
   "execution_count": 6,
   "id": "f6723e93-6772-4a1a-ac86-06abc1a07edc",
   "metadata": {},
   "outputs": [
    {
     "data": {
      "text/plain": [
       "904923385897135968635993330451994402947962681462442739395945305327974242620886079862171919815773916062137678512046882180356624800604291530719893095286154551116680012572086803199157922039351668478564828348301753851143492353748173455041191368048498800957203432864824321737565305767651292628878449326573851129626299643156164006373606978104288368619463474679817790736225593640367076086526860949335086889282591623958899999030416805981546506749160652353984617143198124534369829314662231891921802116654672691150163416611310214731835685336083791098159986712848540463380146580690263454169758498566538040283235414152791831337593439444621511310090438179023511669703673763956387336503489038555475153925609024892127654203399307885287010407165087303556463402104249596842331426415525300653110053828399397903205357713789894870863251291459593595201054980469493300664198318677355414365010851955548694739119104090220233140788420859415456152644287308234078905829203811259753933035275480038057609620799308776526343252218093571949400396210984799378493274214493165068279520881815164603318874389878937542957605014381356061059994092564793420317582087577117177337626416509150218644192106716925196995812374694889330885145792545242433594855481697026358810825184757759935422851061660629603404087764810046653789381560074364474182774292894551853222460145230888637407442107011588271876801389494627762853045057208646205607006661255813799080395885457915508673465373921100097736951463981366585143929393417244108340751863808054676992455065838053595310271331759143203555316304314251716764567094137578074061132119862408874390848886395852792960864168601792788278318160137904725260688818200212497979747376338411781124255038680896140093227362659027162713194890382243266772509375096737692404023569670426915056835458749926163985256792853781964089923834318862117838128735569807805351308189084989769489964408778532697647602700282950821524204053787874658551812707648093031690343619645467904689510727375518396966457071841305216156347877121685546777678309421329334333950023546927391264996410340738923279172434249372049444083417317264151167058316398213637536972859458418643841045234965050333775282590668237489897775711992749330416321184641859741493413207330861021636211695796890541696093027330978109081670597186421777865316335568268866847863125613923464409844281877208541827346630071361261867264461942278221180886866038139173352394382234246436410919991789177435673334776810354886604183268250331679892996979175063172926111707167198988243425047912706142878386347158445445591102587506888005640161498171679357966807984060508691288681969337226449111719514569649584122429236008770062941505213765399433830889823697501728179680768772138041764144904770378170664744008068818519908732748955581235528133962380590442055397577789081529546432947644282480004693282468769435839804376574018464714415877893064638696587341337302512708701490668177002555837586724984868715778513594603545480341027561264023573773303851210892680448436222398163440132775762853207138057827113307234300824712023342158555900846805612907241505922208073502427151381654140438487897137928537698888446898147168193058173312004926859743133949522199995615524876873255809031695967215769079935733193721979907314034693042338529314763723194210563682373779442613729638860299539363371280264299237537468883139150469536810933163407660360896994875462207011514046858224784931169192381967468686722699491276553444179847632286712599329618653107733053483010527841643072968036829514977400340066251763328207284025211584908980266699661667524249578619916906867512040194805177552703325877373006584049976097235088187395421164165166094064459452363384380694012449976128470800253126328810143168379290430540593182289272142298431994458570517660385235378152301536784502584160105719811652504606694771247419726895637829932351658449968923764340374310375005018692236541404840118114549173569827683049363850020327899649931006693481683342743602024169581762417279247879686614711509052491002523222444916196015880503158449149909989999"
      ]
     },
     "execution_count": 6,
     "metadata": {},
     "output_type": "execute_result"
    }
   ],
   "source": [
    "9999**999"
   ]
  },
  {
   "cell_type": "code",
   "execution_count": 7,
   "id": "61c2f434-c8a1-41a0-9544-cf3b90d8c39f",
   "metadata": {},
   "outputs": [
    {
     "data": {
      "text/plain": [
       "8321376"
      ]
     },
     "execution_count": 7,
     "metadata": {},
     "output_type": "execute_result"
    }
   ],
   "source": [
    "854*9744"
   ]
  },
  {
   "cell_type": "code",
   "execution_count": 8,
   "id": "edb0b614-2ccd-433c-841d-0d86dabf30d1",
   "metadata": {},
   "outputs": [
    {
     "data": {
      "text/plain": [
       "4.055339377144105e-12"
      ]
     },
     "execution_count": 8,
     "metadata": {},
     "output_type": "execute_result"
    }
   ],
   "source": [
    "1/246588486684"
   ]
  },
  {
   "cell_type": "code",
   "execution_count": 9,
   "id": "da0238a3-42cb-47b7-9a08-739974fffba1",
   "metadata": {},
   "outputs": [
    {
     "data": {
      "text/plain": [
       "202.02255639097746"
      ]
     },
     "execution_count": 9,
     "metadata": {},
     "output_type": "execute_result"
    }
   ],
   "source": [
    "134345/665"
   ]
  },
  {
   "cell_type": "code",
   "execution_count": 10,
   "id": "f83efb8d-ab42-4f9f-a342-5d742c7e0842",
   "metadata": {},
   "outputs": [
    {
     "data": {
      "text/plain": [
       "914.99999"
      ]
     },
     "execution_count": 10,
     "metadata": {},
     "output_type": "execute_result"
    }
   ],
   "source": [
    "999.99999-85"
   ]
  },
  {
   "cell_type": "code",
   "execution_count": 11,
   "id": "976e311a-87c3-4b2b-b278-dbb770eb49ae",
   "metadata": {},
   "outputs": [
    {
     "data": {
      "text/plain": [
       "-651984883076"
      ]
     },
     "execution_count": 11,
     "metadata": {},
     "output_type": "execute_result"
    }
   ],
   "source": [
    "4545-651984887621"
   ]
  },
  {
   "cell_type": "code",
   "execution_count": 12,
   "id": "24fa1a8b-0425-464e-a0fc-ded34a91bf55",
   "metadata": {},
   "outputs": [
    {
     "data": {
      "text/plain": [
       "6769185693221082462611383350387776676136987411087441693103456925618624825621461959466346049560045751000781746808990144165631173844378110777896185027016263567481676005375912746770319617093147318513719416191532612609853778836966267037518172366354903946851317568922729250448317114732500482029170365918634"
      ]
     },
     "execution_count": 12,
     "metadata": {},
     "output_type": "execute_result"
    }
   ],
   "source": [
    "99+9+7474*999**99"
   ]
  },
  {
   "cell_type": "code",
   "execution_count": 14,
   "id": "5d5182a7-7ccf-4ccb-8ea7-f1ab064fb245",
   "metadata": {},
   "outputs": [
    {
     "data": {
      "text/plain": [
       "359644410"
      ]
     },
     "execution_count": 14,
     "metadata": {},
     "output_type": "execute_result"
    }
   ],
   "source": [
    "545*659898"
   ]
  },
  {
   "cell_type": "code",
   "execution_count": 13,
   "id": "b20f66fb-ee51-44a1-a6b1-27f27c591244",
   "metadata": {},
   "outputs": [
    {
     "data": {
      "text/plain": [
       "25536"
      ]
     },
     "execution_count": 13,
     "metadata": {},
     "output_type": "execute_result"
    }
   ],
   "source": [
    "456*56"
   ]
  },
  {
   "cell_type": "code",
   "execution_count": 15,
   "id": "1fbb14b6-4604-4e98-a7ab-715e7dc7f885",
   "metadata": {},
   "outputs": [
    {
     "data": {
      "text/plain": [
       "21334"
      ]
     },
     "execution_count": 15,
     "metadata": {},
     "output_type": "execute_result"
    }
   ],
   "source": [
    "558582%33578"
   ]
  },
  {
   "cell_type": "code",
   "execution_count": 16,
   "id": "094371d1-5946-4a52-b5e7-3b1a3f2c9f46",
   "metadata": {},
   "outputs": [
    {
     "data": {
      "text/plain": [
       "0"
      ]
     },
     "execution_count": 16,
     "metadata": {},
     "output_type": "execute_result"
    }
   ],
   "source": [
    "86658465//6516126545"
   ]
  },
  {
   "cell_type": "code",
   "execution_count": 17,
   "id": "9b8164b6-68a9-414b-a954-4e18bdcdfce7",
   "metadata": {},
   "outputs": [
    {
     "data": {
      "text/plain": [
       "1"
      ]
     },
     "execution_count": 17,
     "metadata": {},
     "output_type": "execute_result"
    }
   ],
   "source": [
    "115//65"
   ]
  },
  {
   "cell_type": "code",
   "execution_count": 1,
   "id": "c08ca25b-2ffb-4f8c-8901-e079eafdb092",
   "metadata": {},
   "outputs": [
    {
     "data": {
      "text/plain": [
       "0"
      ]
     },
     "execution_count": 1,
     "metadata": {},
     "output_type": "execute_result"
    }
   ],
   "source": [
    "9254**984%698//652"
   ]
  },
  {
   "cell_type": "code",
   "execution_count": 2,
   "id": "5aa9511d-d38f-43b1-94ef-ea84257d1129",
   "metadata": {},
   "outputs": [
    {
     "data": {
      "text/plain": [
       "220"
      ]
     },
     "execution_count": 2,
     "metadata": {},
     "output_type": "execute_result"
    }
   ],
   "source": [
    "655*3292%565"
   ]
  }
 ],
 "metadata": {
  "kernelspec": {
   "display_name": "Python 3 (ipykernel)",
   "language": "python",
   "name": "python3"
  },
  "language_info": {
   "codemirror_mode": {
    "name": "ipython",
    "version": 3
   },
   "file_extension": ".py",
   "mimetype": "text/x-python",
   "name": "python",
   "nbconvert_exporter": "python",
   "pygments_lexer": "ipython3",
   "version": "3.12.1"
  }
 },
 "nbformat": 4,
 "nbformat_minor": 5
}
