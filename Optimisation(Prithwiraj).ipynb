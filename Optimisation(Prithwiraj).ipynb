{
 "cells": [
  {
   "cell_type": "markdown",
   "metadata": {},
   "source": [
    "# Lecture-IV:Numerical Analysis using Python"
   ]
  },
  {
   "cell_type": "markdown",
   "metadata": {},
   "source": [
    "### Numerical Optimisation(Finding Roots)"
   ]
  },
  {
   "cell_type": "code",
   "execution_count": 1,
   "metadata": {},
   "outputs": [
    {
     "data": {
      "image/png": "[encoded data removed]",
      "text/plain": [
       "<Figure size 640x480 with 1 Axes>"
      ]
     },
     "metadata": {},
     "output_type": "display_data"
    }
   ],
   "source": [
    "# To plot the function to find the maximum and minimum values of y=f(x)\n",
    "import numpy as np\n",
    "import matplotlib.pyplot as plt\n",
    "x = np.arange(-11, 11, 1)\n",
    "#a = 2\n",
    "#b = -5\n",
    "#c = 3\n",
    "#y = a*(x ** 2) + b*x + c\n",
    "y = x ** 3 - x ** 2 - 1\n",
    "#print('Values of x: ', x)\n",
    "#print('Values of y: ', y)\n",
    "plt.plot(x, y)\n",
    "plt.title(\"Quadratic Function\")\n",
    "plt.xlabel(\"Values of x\")\n",
    "plt.ylabel (\"Values of y\")\n",
    "plt.grid(True)\n",
    "plt.show()\n",
    "\n",
    "# 2*(x ** 2) - 5*x + 3"
   ]
  },
  {
   "cell_type": "code",
   "execution_count": 4,
   "metadata": {},
   "outputs": [
    {
     "name": "stdout",
     "output_type": "stream",
     "text": [
      "fsolve gives the accuracy to be : -0.0002927698435315489\n",
      "fsolve gives the root to be : 1.4665709222073589\n"
     ]
    },
    {
     "name": "stderr",
     "output_type": "stream",
     "text": [
      "c:\\Users\\Prith\\AppData\\Local\\Programs\\Python\\Python312\\Lib\\site-packages\\scipy\\optimize\\_minpack_py.py:177: RuntimeWarning: The iteration is not making good progress, as measured by the \n",
      "  improvement from the last ten iterations.\n",
      "  warnings.warn(msg, RuntimeWarning)\n"
     ]
    }
   ],
   "source": [
    "#Code for finding root (Optimisation) by 'fsolve' module SCIPY package\n",
    "\n",
    "import numpy as np\n",
    "from scipy.optimize import fsolve\n",
    "X = np.linspace(-10.0, 10.0,100)\n",
    "x1 = float(input(\"Lower value of the root: \"))\n",
    "x2 = float(input(\"Higher value of the root: \"))\n",
    "def f(x):\n",
    "    return x ** 3 - x ** 2 - 1\n",
    "result = fsolve(f,[x1,x2])\n",
    "print(\"fsolve gives the accuracy to be :\", result[0])\n",
    "print(\"fsolve gives the root to be :\", result[1])\n",
    "\n",
    "# 2*(x ** 2) - 5*x + 3"
   ]
  },
  {
   "cell_type": "markdown",
   "metadata": {},
   "source": [
    "### Bisect method"
   ]
  },
  {
   "cell_type": "code",
   "execution_count": 8,
   "metadata": {},
   "outputs": [
    {
     "name": "stdout",
     "output_type": "stream",
     "text": [
      "Root obtained using Bisection method : 1.4654541015625\n",
      "Iteration obtained using Bisection method : 10\n"
     ]
    }
   ],
   "source": [
    "#Theory: https://www.youtube.com/watch?v=pStQf71WwB4&t=62s\n",
    "# Code for Bisection method\n",
    "def equation(x):\n",
    "    return x ** 3 - x ** 2 - 1\n",
    "ym = float(input(\"Lower value of the root: \"))\n",
    "yp = float(input(\"Higher value of the root: \"))\n",
    "\n",
    "def bisection_method(f, ym,yp, tol):\n",
    "    if f(ym)*f(yp) >0:\n",
    "        print(\"No root found. \")\n",
    "    else:\n",
    "        counter = 0\n",
    "        while (yp - ym) / 2.0 > tol:\n",
    "            midpoint = (ym + yp) / 2.0\n",
    "\n",
    "            if f(ym) * f(midpoint) < 0:\n",
    "                yp = midpoint\n",
    "            else:\n",
    "                ym = midpoint\n",
    "                counter += 1\n",
    "        return(midpoint, counter)\n",
    "\n",
    "root, accuracy = bisection_method(equation, ym, yp, 1e-4)\n",
    "print(\"Root obtained using Bisection method :\", root)\n",
    "print(\"Iteration obtained using Bisection method :\", accuracy)\n",
    "#print(\"Root obtained using Bisection method :\", answer, \"\\nfound in\",iterations, \"iterations\")"
   ]
  },
  {
   "cell_type": "markdown",
   "metadata": {},
   "source": [
    "### Newton-Raphson method"
   ]
  },
  {
   "cell_type": "code",
   "execution_count": 11,
   "metadata": {},
   "outputs": [
    {
     "name": "stdout",
     "output_type": "stream",
     "text": [
      "Solution: x =1.4655712318767877, f(x) =6.927791673660977e-14\n"
     ]
    }
   ],
   "source": [
    "# Theory: https://www.youtube.com/watch?v=hZ4l5wXRV4g&t=2s\n",
    "\n",
    "# Code for Newton-Rapson method (Method-I)\n",
    "import math\n",
    "\n",
    "def derivative(f, x, dx = 1e-6):\n",
    "    df = f(x +dx) - f(x -dx)\n",
    "    return df/(2*dx)\n",
    "\n",
    "def newton(f, x0, tol = 1e-10, maxit = 100):\n",
    "\n",
    "    x = x0\n",
    "    fx = f(x)\n",
    "\n",
    "    for _ in range(maxit):\n",
    "        if abs(fx) < tol:\n",
    "            break\n",
    "\n",
    "        fpx = derivative(f, x)\n",
    "        if abs(fpx) < tol:\n",
    "            break\n",
    "\n",
    "        x = x - fx/fpx\n",
    "        fx = f(x)\n",
    "\n",
    "    return x\n",
    "\n",
    "func = lambda x: x ** 3 - x ** 2 - 1 # x ** 2 - math.exp(-x) - 1\n",
    "x0 = int(input(\"Take an initil guess value:\"))\n",
    "x = newton(func, x0, tol =1e-10, maxit=100)\n",
    "print(\"Solution: x ={}, f(x) ={}\".format(x, func(x)))"
   ]
  },
  {
   "cell_type": "code",
   "execution_count": 12,
   "metadata": {},
   "outputs": [
    {
     "name": "stdout",
     "output_type": "stream",
     "text": [
      "newton_raphson = 1.4142857142857144\n",
      "sqrt(2) = 1.4142135623730951\n"
     ]
    }
   ],
   "source": [
    "# Code for Newton-Raphson method (Mehtod-II)\n",
    "import numpy as np\n",
    "f = lambda x: x ** 2 - 2\n",
    "f_prime = lambda x: 2*x\n",
    "newton_raphson = 1.4 - (f(1.4))/(f_prime(1.4))\n",
    "print(\"newton_raphson =\", newton_raphson)\n",
    "print(\"sqrt(2) =\",np.sqrt(2))"
   ]
  },
  {
   "cell_type": "markdown",
   "metadata": {},
   "source": [
    "### Secant method"
   ]
  },
  {
   "cell_type": "code",
   "execution_count": 13,
   "metadata": {},
   "outputs": [
    {
     "name": "stdout",
     "output_type": "stream",
     "text": [
      "-1\n",
      "3\n",
      "1.4655712311394433\n",
      "1.4655712318767682\n",
      "7.373248678277378e-10\n"
     ]
    },
    {
     "name": "stderr",
     "output_type": "stream",
     "text": [
      "<>:20: SyntaxWarning: invalid escape sequence '\\_'\n",
      "<>:20: SyntaxWarning: invalid escape sequence '\\_'\n",
      "C:\\Users\\Prith\\AppData\\Local\\Temp\\ipykernel_3668\\3072145569.py:20: SyntaxWarning: invalid escape sequence '\\_'\n",
      "  print(\"Found\\_exact solution.\")\n"
     ]
    }
   ],
   "source": [
    "# Theory: https://www.youtube.com/watch?v=DbZ45Ej8YMw\n",
    "#Q2. PROGRAM: #Secant Method-I\n",
    "#https://www.math.ubc.ca/-pwalls/math-python/roots-optimization/secant/\n",
    "def secant(f,a,b,N):\n",
    "    if f(a)*f(b) >= 0:\n",
    "        print(\"Secant method fails.\")\n",
    "        return None\n",
    "    a_n = a\n",
    "    b_n = b\n",
    "    for n in range(1,N+1):\n",
    "        m_n = a_n - f(a_n)*(b_n - a_n)/(f(b_n) - f(a_n))\n",
    "        f_m_n = f(m_n)\n",
    "        if f(a_n)*f_m_n < 0:\n",
    "            a_n = a_n\n",
    "            b_n = m_n\n",
    "        elif f(b_n)*f_m_n < 0:\n",
    "            a_n=m_n\n",
    "            b_n=b_n\n",
    "        elif f_m_n == 0:\n",
    "            print(\"Found\\_exact solution.\")\n",
    "            return m_n\n",
    "        else:\n",
    "            print(\"Secant method fails.\")\n",
    "            return None\n",
    "    return a_n - f(a_n)*(b_n - a_n)/(f(b_n) - f(a_n))\n",
    "\n",
    "p = lambda x: x ** 3 - x ** 2 - 1\n",
    "print(p(1))\n",
    "print(p(2))\n",
    "\n",
    "approx = secant(p,1,2,20)\n",
    "print (approx)\n",
    "\n",
    "supergolden_ratio = (1 + ((29 + 3*93 ** 0.5)/2) ** (1/3) + ((29 - 3*93 ** 0.5)/2) ** (1/3))/3\n",
    "print(supergolden_ratio)\n",
    "\n",
    "error = abs(supergolden_ratio - approx)\n",
    "print(error)"
   ]
  },
  {
   "cell_type": "code",
   "execution_count": null,
   "metadata": {},
   "outputs": [],
   "source": []
  }
 ],
 "metadata": {
  "kernelspec": {
   "display_name": "Python 3",
   "language": "python",
   "name": "python3"
  },
  "language_info": {
   "codemirror_mode": {
    "name": "ipython",
    "version": 3
   },
   "file_extension": ".py",
   "mimetype": "text/x-python",
   "name": "python",
   "nbconvert_exporter": "python",
   "pygments_lexer": "ipython3",
   "version": "3.12.1"
  }
 },
 "nbformat": 4,
 "nbformat_minor": 2
}
