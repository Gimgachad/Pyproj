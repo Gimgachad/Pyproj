{
 "cells": [
  {
   "cell_type": "code",
   "execution_count": 3,
   "id": "46b6c973-cf3c-47b7-a3cf-b09063d11b90",
   "metadata": {},
   "outputs": [
    {
     "name": "stdout",
     "output_type": "stream",
     "text": [
      "False\n",
      "True\n",
      "True\n"
     ]
    }
   ],
   "source": [
    "a=True\n",
    "b=False\n",
    "x=a and b\n",
    "print(x)\n",
    "y=a or b\n",
    "print(y)\n",
    "z=not b\n",
    "print(z)"
   ]
  },
  {
   "cell_type": "code",
   "execution_count": 4,
   "id": "eacb27b4-7c7b-411e-9376-28f23d06ad72",
   "metadata": {},
   "outputs": [
    {
     "name": "stdout",
     "output_type": "stream",
     "text": [
      "True True False\n"
     ]
    }
   ],
   "source": [
    "a=True\n",
    "b=True\n",
    "x=a and b\n",
    "y=a or b\n",
    "z=not a\n",
    "print(x,y,z)"
   ]
  },
  {
   "cell_type": "code",
   "execution_count": 5,
   "id": "702a6e9b-e5fa-41d3-8f72-af9620a281d7",
   "metadata": {},
   "outputs": [
    {
     "name": "stdout",
     "output_type": "stream",
     "text": [
      "False False True\n"
     ]
    }
   ],
   "source": [
    "a=False\n",
    "b=False\n",
    "x=a and b\n",
    "y=a or b\n",
    "z=not b\n",
    "print(x,y,z)"
   ]
  },
  {
   "cell_type": "code",
   "execution_count": null,
   "id": "8f073572-b4a9-4c04-8bad-273cdf922c74",
   "metadata": {},
   "outputs": [],
   "source": []
  }
 ],
 "metadata": {
  "kernelspec": {
   "display_name": "Python 3 (ipykernel)",
   "language": "python",
   "name": "python3"
  },
  "language_info": {
   "codemirror_mode": {
    "name": "ipython",
    "version": 3
   },
   "file_extension": ".py",
   "mimetype": "text/x-python",
   "name": "python",
   "nbconvert_exporter": "python",
   "pygments_lexer": "ipython3",
   "version": "3.12.1"
  }
 },
 "nbformat": 4,
 "nbformat_minor": 5
}
