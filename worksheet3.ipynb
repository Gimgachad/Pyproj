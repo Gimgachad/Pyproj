{
 "cells": [
  {
   "cell_type": "code",
   "execution_count": 1,
   "id": "929a4c1d-4498-4a2f-b1e2-fcc494d87071",
   "metadata": {},
   "outputs": [
    {
     "name": "stdout",
     "output_type": "stream",
     "text": [
      "True False False True False True\n"
     ]
    }
   ],
   "source": [
    "a=25665\n",
    "b=554\n",
    "bool1=(a>b)\n",
    "bool2=(a==b)\n",
    "bool3=(a<b)\n",
    "bool4=(a>=b)\n",
    "bool5=(a<=b)\n",
    "bool6=(a!=b)\n",
    "print(bool1,bool2,bool3,bool4,bool5,bool6)"
   ]
  },
  {
   "cell_type": "code",
   "execution_count": 4,
   "id": "60c5663a-4c0a-494a-8f84-b5a0e78d670f",
   "metadata": {},
   "outputs": [
    {
     "name": "stdout",
     "output_type": "stream",
     "text": [
      "3.141592653589793\n"
     ]
    }
   ],
   "source": [
    "import numpy as np\n",
    "x=np.pi\n",
    "print(x)"
   ]
  },
  {
   "cell_type": "code",
   "execution_count": 7,
   "id": "f3deca43-3e28-46a9-898d-d6d21a9b6dc3",
   "metadata": {},
   "outputs": [
    {
     "name": "stdout",
     "output_type": "stream",
     "text": [
      "False False True False False False False True False False False True\n"
     ]
    }
   ],
   "source": [
    "import numpy as np\n",
    "x=22/7\n",
    "y=np.pi\n",
    "z=6.1257\n",
    "b1=(x>y>z)\n",
    "b2=(x<y<z)\n",
    "b3=(x>y<z)\n",
    "b4=(x<y>z)\n",
    "b5=(x>z>y)\n",
    "b6=(x<z<y)\n",
    "b7=(x>z<y)\n",
    "b8=(x<z>y)\n",
    "b9=(x==y==z)\n",
    "b10=(x==y!=z)\n",
    "b11=(x!=y==z)\n",
    "b12=(x!=z!=y)\n",
    "print(b1,b2,b3,b4,b5,b6,b7,b8,b9,b10,b11,b12)"
   ]
  },
  {
   "cell_type": "code",
   "execution_count": null,
   "id": "599b28d7-735a-454e-9126-220f3bf22cb7",
   "metadata": {},
   "outputs": [],
   "source": []
  }
 ],
 "metadata": {
  "kernelspec": {
   "display_name": "Python 3 (ipykernel)",
   "language": "python",
   "name": "python3"
  },
  "language_info": {
   "codemirror_mode": {
    "name": "ipython",
    "version": 3
   },
   "file_extension": ".py",
   "mimetype": "text/x-python",
   "name": "python",
   "nbconvert_exporter": "python",
   "pygments_lexer": "ipython3",
   "version": "3.12.1"
  }
 },
 "nbformat": 4,
 "nbformat_minor": 5
}
