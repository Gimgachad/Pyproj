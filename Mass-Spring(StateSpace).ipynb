{
 "cells": [
  {
   "cell_type": "code",
   "execution_count": 2,
   "metadata": {},
   "outputs": [],
   "source": [
    "import numpy as np\n",
    "from scipy.signal import StateSpace, cont2discrete, dlsim\n",
    "\n",
    "# Define the mass, damping coefficient, and spring constant\n",
    "m = 1.0  # mass\n",
    "b = 0.5  # damping coefficient\n",
    "k = 1.0  # spring constant\n",
    "\n",
    "# Define the state-space matrices\n",
    "A = np.array([[0, 1], [-k/m, -b/m]])\n",
    "B = np.array([[0], [1/m]])\n",
    "C = np.array([[1, 0]])\n",
    "D = np.array([[0]])\n",
    "\n",
    "# Create the StateSpace object\n",
    "sys = StateSpace(A, B, C, D)\n",
    "\n",
    "# Discretize the system\n",
    "dt = 0.01  # time step\n",
    "sys_discrete = sys.to_discrete(dt)\n",
    "\n",
    "# Define the time array and input signal\n",
    "t = np.linspace(0, 10, int(10/dt))  # time array\n",
    "u = np.sin(t)  # input signal\n",
    "\n",
    "# Simulate the system\n",
    "t, y, x = dlsim(sys_discrete, u, t)\n",
    "\n",
    "# y is the output, x is the state\n"
   ]
  },
  {
   "cell_type": "code",
   "execution_count": null,
   "metadata": {},
   "outputs": [],
   "source": []
  }
 ],
 "metadata": {
  "kernelspec": {
   "display_name": "Python 3",
   "language": "python",
   "name": "python3"
  },
  "language_info": {
   "codemirror_mode": {
    "name": "ipython",
    "version": 3
   },
   "file_extension": ".py",
   "mimetype": "text/x-python",
   "name": "python",
   "nbconvert_exporter": "python",
   "pygments_lexer": "ipython3",
   "version": "3.12.2"
  }
 },
 "nbformat": 4,
 "nbformat_minor": 2
}
