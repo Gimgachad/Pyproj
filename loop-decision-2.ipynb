{
 "cells": [
  {
   "cell_type": "code",
   "execution_count": 1,
   "metadata": {},
   "outputs": [
    {
     "name": "stdout",
     "output_type": "stream",
     "text": [
      "Print numbers up to: 7\n",
      "Okay, running the WHILE Loop for 1 times!\n",
      "Okay, running the WHILE Loop for 2 times!\n",
      "Okay, running the WHILE Loop for 3 times!\n",
      "Okay, running the WHILE Loop for 4 times!\n",
      "Okay, running the WHILE Loop for 5 times!\n",
      "Okay, running the WHILE Loop for 6 times!\n",
      "Okay, running the WHILE Loop for 7 times!\n"
     ]
    }
   ],
   "source": [
    "# Program for 'WHILE Loop' for finite times\n",
    "N=int(input(\"Print numbers up to: \"))\n",
    "print(f\"Print numbers up to: {N}\")\n",
    "i=1\n",
    "while i<=N:\n",
    "    print(\"Okay, running the WHILE Loop for %d times!\" %i)\n",
    "    i+=1"
   ]
  },
  {
   "cell_type": "markdown",
   "id": "7ed05f9a",
   "metadata": {},
   "source": [
    "### 0.1.2 LOOP statement using FOR loop"
   ]
  },
  {
   "cell_type": "code",
   "execution_count": 2,
   "id": "6602c7fd",
   "metadata": {},
   "outputs": [
    {
     "name": "stdout",
     "output_type": "stream",
     "text": [
      "1\n",
      "<class 'int'>\n",
      "5.5\n",
      "<class 'float'>\n",
      "16\n",
      "<class 'int'>\n",
      "Tiger\n",
      "<class 'str'>\n",
      "False\n",
      "<class 'bool'>\n"
     ]
    }
   ],
   "source": [
    "# An example FOR statement with LIST\n",
    "for item in [1, 5.5, 16, \"Tiger\", False]:\n",
    "    print(item)\n",
    "    print(type(item))"
   ]
  },
  {
   "cell_type": "code",
   "execution_count": 3,
   "id": "e8c55cfe",
   "metadata": {},
   "outputs": [
    {
     "name": "stdout",
     "output_type": "stream",
     "text": [
      "Enter 1st word : hello\n",
      "Enter 2nd word : world\n",
      "h\n",
      "e\n",
      "l\n",
      "l\n",
      "o\n",
      "w\n",
      "o\n",
      "r\n",
      "l\n",
      "d\n"
     ]
    }
   ],
   "source": [
    "# 'Hello World' for FOR loop\n",
    "first_word = str(input(\"Enter 1st word : \"))\n",
    "print(f\"Enter 1st word : {first_word}\")\n",
    "second_word = str(input(\"Enter 2nd word : \"))\n",
    "print(f\"Enter 2nd word : {second_word}\")\n",
    "for greetings in first_word+second_word:\n",
    "    print(greetings)"
   ]
  },
  {
   "cell_type": "code",
   "execution_count": 4,
   "id": "26afea49",
   "metadata": {},
   "outputs": [
    {
     "name": "stdout",
     "output_type": "stream",
     "text": [
      "[ 0  1  2  3  4  5  6  7  8  9 10]\n",
      "[ 0  1  2  3  4  5  6  7  8  9 10]\n",
      "[ 0  2  4  6  8 10]\n"
     ]
    }
   ],
   "source": [
    "# Wring a range of numbers using 'arange' in NUMPY library\n",
    "import numpy as np\n",
    "print(np.arange(11))\n",
    "print(np.arange(0,11))\n",
    "print(np.arange(0,11,2))"
   ]
  },
  {
   "cell_type": "code",
   "execution_count": 5,
   "id": "2308cba1",
   "metadata": {},
   "outputs": [
    {
     "name": "stdout",
     "output_type": "stream",
     "text": [
      "Print numbers up to:15\n",
      "1\n",
      "2\n",
      "3\n",
      "4\n",
      "5\n",
      "6\n",
      "7\n",
      "8\n",
      "9\n",
      "10\n",
      "11\n",
      "12\n",
      "13\n",
      "14\n",
      "15\n"
     ]
    }
   ],
   "source": [
    "#Wrining range using 'FOR' Loop\n",
    "num=int(input(\"Print numbers up to:\"))\n",
    "print(f\"Print numbers up to:{num}\")\n",
    "for i in range(1,num+1):\n",
    "    print (i)"
   ]
  },
  {
   "cell_type": "code",
   "execution_count": 6,
   "id": "772f9746",
   "metadata": {},
   "outputs": [
    {
     "name": "stdout",
     "output_type": "stream",
     "text": [
      "45\n",
      "45\n"
     ]
    }
   ],
   "source": [
    " # FOR loop with augmented operation\n",
    "total = 0\n",
    "for i in range(0, 10):\n",
    "    total += i\n",
    "print(total)\n",
    "# Verifition\n",
    "print(sum(range(0, 10)))"
   ]
  },
  {
   "cell_type": "code",
   "execution_count": 7,
   "id": "452dbd1d",
   "metadata": {},
   "outputs": [
    {
     "name": "stdout",
     "output_type": "stream",
     "text": [
      "Enter a number:68\n",
      "68 x 1 = 68\n",
      "68 x 2 = 136\n",
      "68 x 3 = 204\n",
      "68 x 4 = 272\n",
      "68 x 5 = 340\n",
      "68 x 6 = 408\n",
      "68 x 7 = 476\n",
      "68 x 8 = 544\n",
      "68 x 9 = 612\n",
      "68 x 10 = 680\n",
      "Job over, exit FOR Loop!\n"
     ]
    }
   ],
   "source": [
    "# To generate Multiplication Table using FOR loop\n",
    "current_value=int(input(\"Enter a number:\"))\n",
    "print(f\"Enter a number:{current_value}\")\n",
    "for num in range(1, 11):\n",
    "    product = num * current_value\n",
    "    print(current_value, \"x\", num, \"=\" , product)\n",
    "print(\"Job over, exit FOR Loop!\")"
   ]
  },
  {
   "cell_type": "code",
   "execution_count": 8,
   "id": "15a374d2",
   "metadata": {},
   "outputs": [
    {
     "name": "stdout",
     "output_type": "stream",
     "text": [
      "B 1 VI\n",
      "I 2 III\n",
      "R 3 I\n",
      "Y 4 VII\n",
      "G 5 IV\n",
      "V 6 V\n",
      "O 7 II\n"
     ]
    }
   ],
   "source": [
    "# Zipping of two or multiple lIST/TUPLE/SET\n",
    "list1 = {\"V\", \"I\", \"B\", \"G\", \"Y\", \"O\", \"R\"}\n",
    "list2 = {1, 2, 3, 4, 5, 6, 7}\n",
    "list3 = {\"I\", \"II\", \"III\", \"IV\", \"V\", \"VI\", \"VII\"}\n",
    "for i, j, k in zip(list1, list2, list3):\n",
    "    print(i, j, k)\n"
   ]
  },
  {
   "cell_type": "code",
   "execution_count": 10,
   "id": "ab65262c",
   "metadata": {},
   "outputs": [
    {
     "name": "stdout",
     "output_type": "stream",
     "text": [
      "B 1\n",
      "I 2\n",
      "R 3\n",
      "Y 4\n",
      "G 5\n",
      "V 6\n",
      "O 7\n"
     ]
    }
   ],
   "source": [
    "# Zipping of two multiple lIST/TUPLE/SET\n",
    "list1 = {\"V\", \"I\", \"B\", \"G\", \"Y\", \"O\", \"R\"}\n",
    "list2 = {1, 2, 3, 4, 5, 6, 7}\n",
    "for i, j in zip(list1, list2):\n",
    "    print(i, j)"
   ]
  },
  {
   "cell_type": "code",
   "execution_count": 11,
   "id": "9b877248",
   "metadata": {},
   "outputs": [
    {
     "name": "stdout",
     "output_type": "stream",
     "text": [
      "#1: Tiger\n",
      "#2: Crocodile\n",
      "#3: Parrot\n"
     ]
    }
   ],
   "source": [
    "# Looping operation inside 'Print'\n",
    "zoo = [\"Tiger\", \"Crocodile\", \"Parrot\"]\n",
    "for life, animal in enumerate(zoo):\n",
    "    print(\"#%d: %s\" % (life + 1, animal))"
   ]
  },
  {
   "cell_type": "markdown",
   "id": "1bd988af",
   "metadata": {},
   "source": [
    "### 0.1.3 Statement with WHILE-IF, FOR-IF etc"
   ]
  },
  {
   "cell_type": "code",
   "execution_count": 12,
   "id": "3a666cd3",
   "metadata": {},
   "outputs": [
    {
     "name": "stdout",
     "output_type": "stream",
     "text": [
      "1\n",
      "2\n",
      "3\n",
      "4\n"
     ]
    }
   ],
   "source": [
    "# Program to 'BREAK' infinite WHILE-IF loop (Print upto N-1 numbers)\n",
    "i = 1\n",
    "while i <= 10:\n",
    "    print(i)\n",
    "    i+=1\n",
    "    if (i==5):\n",
    "        break"
   ]
  },
  {
   "cell_type": "code",
   "execution_count": 13,
   "id": "7b3823e7",
   "metadata": {},
   "outputs": [
    {
     "name": "stdout",
     "output_type": "stream",
     "text": [
      "1\n",
      "2\n",
      "4\n",
      "5\n",
      "7\n",
      "8\n",
      "10\n"
     ]
    }
   ],
   "source": [
    "# Program 'Jumping statement' using 'CONTINUE' in WHILE-IF loop (note the␣↪missing values) (Print upto N+1 numbers)\n",
    "i = 0\n",
    "while i <= 10-1:\n",
    "    i+=1\n",
    "    if (i==3 or i==6 or i==9):\n",
    "        continue\n",
    "    print(i)"
   ]
  },
  {
   "cell_type": "code",
   "execution_count": 15,
   "id": "34300b20",
   "metadata": {},
   "outputs": [
    {
     "name": "stdout",
     "output_type": "stream",
     "text": [
      "Enter a number:6\n",
      "6 x 1 = 6\n",
      "6 x 2 = 12\n",
      "6 x 3 = 18\n",
      "6 x 4 = 24\n",
      "6 x 5 = 30\n",
      "Exit the table after the current value becomes: 5\n"
     ]
    }
   ],
   "source": [
    "# Table with a break\n",
    "num=int(input(\"Enter a number:\")) # Input statement\n",
    "print(f\"Enter a number:{num}\")\n",
    "current_value=0\n",
    "while current_value<=num:\n",
    "    current_value += 1\n",
    "    product = num * current_value\n",
    "    print(num, \"x\", current_value, \"=\" , product)\n",
    "    if (current_value == 5):\n",
    "        print(\"Exit the table after the current value becomes:\",current_value)\n",
    "        break"
   ]
  },
  {
   "cell_type": "code",
   "execution_count": 16,
   "id": "ca936a1b",
   "metadata": {},
   "outputs": [
    {
     "name": "stdout",
     "output_type": "stream",
     "text": [
      "My list is: [5, 7, 10, 20, 33, 46, 55]\n",
      "Terms divisible by 5 are:\n",
      "5\n",
      "10\n",
      "20\n",
      "55\n"
     ]
    }
   ],
   "source": [
    "# Finding terms divisible by 5\n",
    "mylist = [5, 7, 10, 20, 33, 46, 55]\n",
    "print(\"My list is:\",mylist)\n",
    "def func(mylist):\n",
    "    for num in mylist:\n",
    "        if (num % 5 == 0):\n",
    "            print(num)\n",
    "print(\"Terms divisible by 5 are:\")\n",
    "func(mylist)"
   ]
  },
  {
   "cell_type": "code",
   "execution_count": 17,
   "id": "4a3a06f0",
   "metadata": {},
   "outputs": [
    {
     "name": "stdout",
     "output_type": "stream",
     "text": [
      "[1, 2, 3, 4, 5, 6, 7, 8, 9, 10]\n",
      "18\n"
     ]
    }
   ],
   "source": [
    "#Sum of the number in a list divisible by 3\n",
    "rlst= list(range(1, 11))\n",
    "print(rlst)\n",
    "total = 0\n",
    "for i in range(1, 11):\n",
    "    if i % 3 == 0:\n",
    "        total += i\n",
    "print(total)"
   ]
  },
  {
   "cell_type": "code",
   "execution_count": 19,
   "id": "328db115",
   "metadata": {},
   "outputs": [],
   "source": [
    "from statistics import *\n",
    "from math import sqrt\n",
    "nums=list(range( 10))\n",
    "def stdDev(nums , xbar) :\n",
    "    sumDevSq = 0.0\n",
    "    for num in nums:\n",
    "        dev = xbar - num\n",
    "    sumDevSq = sumDevSq + dev * dev\n",
    "    return sqrt(sumDevSq/ (len(nums) -1) )"
   ]
  },
  {
   "cell_type": "code",
   "execution_count": null,
   "id": "0493b31b",
   "metadata": {},
   "outputs": [],
   "source": []
  }
 ],
 "metadata": {
  "kernelspec": {
   "display_name": "Python 3",
   "language": "python",
   "name": "python3"
  },
  "language_info": {
   "codemirror_mode": {
    "name": "ipython",
    "version": 3
   },
   "file_extension": ".py",
   "mimetype": "text/x-python",
   "name": "python",
   "nbconvert_exporter": "python",
   "pygments_lexer": "ipython3",
   "version": "3.12.1"
  }
 },
 "nbformat": 4,
 "nbformat_minor": 5
}
